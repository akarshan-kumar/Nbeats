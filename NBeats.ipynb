{
  "nbformat": 4,
  "nbformat_minor": 0,
  "metadata": {
    "colab": {
      "name": "NBeats.ipynb",
      "provenance": [],
      "collapsed_sections": [],
      "machine_shape": "hm"
    },
    "kernelspec": {
      "name": "python3",
      "display_name": "Python 3"
    },
    "language_info": {
      "name": "python"
    },
    "accelerator": "GPU"
  },
  "cells": [
    {
      "cell_type": "code",
      "execution_count": 1,
      "metadata": {
        "colab": {
          "base_uri": "https://localhost:8080/"
        },
        "id": "PJw7EXKlhwo2",
        "outputId": "285ac57c-cfee-403c-f9f2-1dda721af85b"
      },
      "outputs": [
        {
          "output_type": "stream",
          "name": "stdout",
          "text": [
            "Mounted at /content/drive/\n"
          ]
        }
      ],
      "source": [
        "from google.colab import drive\n",
        "drive.mount('/content/drive/')"
      ]
    },
    {
      "cell_type": "code",
      "source": [
        "import os\n",
        "import pandas as pd\n",
        "import numpy as np\n",
        "import pickle\n",
        "import matplotlib.pyplot as plt\n",
        "import tensorflow as tf\n",
        "from tensorflow.keras import layers\n",
        "# import keras_tuner as kt\n",
        "import seaborn as sns\n",
        "from datetime import datetime\n",
        "import optuna"
      ],
      "metadata": {
        "id": "Lv9euEgnwqgy"
      },
      "execution_count": 3,
      "outputs": []
    },
    {
      "cell_type": "code",
      "source": [
        "os.chdir('drive/My Drive/Nbeats')"
      ],
      "metadata": {
        "id": "tjI36pCXw_vL"
      },
      "execution_count": 4,
      "outputs": []
    },
    {
      "cell_type": "code",
      "source": [
        "ipFiles = os.listdir('dataset50')\n",
        "len(ipFiles)"
      ],
      "metadata": {
        "colab": {
          "base_uri": "https://localhost:8080/"
        },
        "id": "ryjx5SmpwxnO",
        "outputId": "83018bba-f832-4c7e-c1f3-9d0ac7342e88"
      },
      "execution_count": 5,
      "outputs": [
        {
          "output_type": "execute_result",
          "data": {
            "text/plain": [
              "50"
            ]
          },
          "metadata": {},
          "execution_count": 5
        }
      ]
    },
    {
      "cell_type": "code",
      "source": [
        "with open('ipfiles.pickle','wb') as f:\n",
        "  pickle.dump(ipFiles,f)"
      ],
      "metadata": {
        "id": "y2g02mGJiTwO"
      },
      "execution_count": 6,
      "outputs": []
    },
    {
      "cell_type": "code",
      "source": [
        "def oobsplit(pddata:pd.DataFrame):\n",
        "  ''' splitting 75% for training and 25% for  testing'''\n",
        "  splitSize = int(len(pddata)*0.75)\n",
        "  data = pddata.iloc[:splitSize,:]\n",
        "  oofdata = pddata.iloc[splitSize:,:]\n",
        "\n",
        "  return data,oofdata\n"
      ],
      "metadata": {
        "id": "SzIMsMPzFP1r"
      },
      "execution_count": 7,
      "outputs": []
    },
    {
      "cell_type": "code",
      "source": [
        "def make_window(data:pd.DataFrame):\n",
        "  ''' creating columns with previous timestamp's values'''\n",
        "  t2 = data.copy()\n",
        "  t2 = t2[['value']]\n",
        "  # Add windowed columns\n",
        "  for i in range(50): # Shifting values for each step to create 50 subsequent cols.\n",
        "    t2[f\"value-{i+1}\"] = t2[\"value\"].shift(periods=i+1)\n",
        "  return t2.dropna()"
      ],
      "metadata": {
        "id": "2yjIoAs42w9P"
      },
      "execution_count": 8,
      "outputs": []
    },
    {
      "cell_type": "code",
      "source": [
        "def WindowHorizon(data,WINDOW_SIZE,HORIZON):\n",
        "  '''first breaking the training data into Train and\n",
        "  validation data using split_size. Then using the window+horizon number of \n",
        "  columns from the 50 columns we have generated in make_window func'''\n",
        "  split_size = int(len(data)*0.8)\n",
        "  \n",
        "  data = data.iloc[:,:WINDOW_SIZE+HORIZON]\n",
        "\n",
        "  xtr = data.iloc[:split_size,-WINDOW_SIZE:]\n",
        "  ytr = data.iloc[:split_size,:HORIZON]\n",
        "  xts = data.iloc[split_size:,-WINDOW_SIZE:]\n",
        "  yts = data.iloc[split_size:,:HORIZON]\n",
        "\n",
        "  return xtr,ytr,xts,yts\n",
        "\n",
        "  "
      ],
      "metadata": {
        "id": "Y89uOy0IW9_m"
      },
      "execution_count": 9,
      "outputs": []
    },
    {
      "cell_type": "code",
      "source": [
        "def tensorize_data(xtr:pd.DataFrame,ytr:pd.DataFrame,xts:pd.DataFrame,yts:pd.DataFrame,BATCH_SIZE):\n",
        "  '''generating the tensor out of data to feed to neural network'''\n",
        "  \n",
        "  train_features_dataset = tf.data.Dataset.from_tensor_slices(xtr)\n",
        "  train_labels_dataset = tf.data.Dataset.from_tensor_slices(ytr)\n",
        "\n",
        "  test_features_dataset = tf.data.Dataset.from_tensor_slices(xts)\n",
        "  test_labels_dataset = tf.data.Dataset.from_tensor_slices(yts)\n",
        "\n",
        "  train_dataset = tf.data.Dataset.zip((train_features_dataset, train_labels_dataset))\n",
        "  test_dataset = tf.data.Dataset.zip((test_features_dataset, test_labels_dataset))\n",
        "\n",
        "  train_dataset = train_dataset.batch(BATCH_SIZE).prefetch(tf.data.AUTOTUNE)\n",
        "  test_dataset = test_dataset.batch(BATCH_SIZE).prefetch(tf.data.AUTOTUNE)\n",
        "\n",
        "  return train_dataset, test_dataset"
      ],
      "metadata": {
        "id": "qmK4-ZCuW8re"
      },
      "execution_count": 10,
      "outputs": []
    },
    {
      "cell_type": "code",
      "source": [
        "def prep_data(data,WINDOW_SIZE,HORIZON,BATCH_SIZE):\n",
        "  ''' calling all the 3 functions to prepare the data at\n",
        "  one place'''\n",
        "  data = make_window(data)\n",
        "  xtr,ytr,xts,yts = WindowHorizon(data,WINDOW_SIZE,HORIZON)\n",
        "  train_dataset, test_dataset = tensorize_data(xtr,ytr,xts,yts,BATCH_SIZE)\n",
        "\n",
        "  return train_dataset, test_dataset\n",
        "\n",
        "\n"
      ],
      "metadata": {
        "id": "2t3TuF9wRuWM"
      },
      "execution_count": 11,
      "outputs": []
    },
    {
      "cell_type": "code",
      "source": [
        "class NBeatsBlock(tf.keras.layers.Layer):\n",
        "  def __init__(self, \n",
        "               input_size: int,\n",
        "               theta_size: int,\n",
        "               horizon: int,\n",
        "               n_neurons: int,\n",
        "               n_layers: int,\n",
        "               **kwargs):\n",
        "    super().__init__(**kwargs)\n",
        "    self.input_size = input_size\n",
        "    self.theta_size = theta_size\n",
        "    self.horizon = horizon\n",
        "    self.n_neurons = n_neurons\n",
        "    self.n_layers = n_layers\n",
        "\n",
        "    # Block contains stack of 4 fully connected layers each has ReLU activation\n",
        "    self.dense_layers = [tf.keras.layers.Dense(n_neurons, activation=\"relu\") for _ in range(n_layers)]\n",
        "    # Output of block is a theta layer with linear activation\n",
        "    self.theta_layer = tf.keras.layers.Dense(theta_size, activation=\"linear\", name=\"theta\")\n",
        "\n",
        "  def call(self, inputs): # the call method is what runs when the layer is called \n",
        "    x = inputs \n",
        "    for layer in self.dense_layers: \n",
        "      x = layer(x)\n",
        "    theta = self.theta_layer(x) \n",
        "    # Output the backcast and forecast from theta\n",
        "    backcast, forecast = theta[:, :self.input_size], theta[:, -self.horizon:]\n",
        "    return backcast, forecast"
      ],
      "metadata": {
        "id": "YIaHc6ocAfa1"
      },
      "execution_count": 12,
      "outputs": []
    },
    {
      "cell_type": "code",
      "source": [
        "def make_preds(model, input_data):\n",
        "   return tf.squeeze(model.predict(input_data))"
      ],
      "metadata": {
        "id": "oewKypwF-xx6"
      },
      "execution_count": 13,
      "outputs": []
    },
    {
      "cell_type": "code",
      "source": [
        "def evaluate_preds(y_true, y_pred):\n",
        "  # float32 for metric calculations\n",
        "  y_true = tf.cast(y_true, dtype=tf.float32)\n",
        "  y_pred = tf.cast(y_pred, dtype=tf.float32)\n",
        "\n",
        "  # Calculate all the req metrics\n",
        "  # mae = tf.keras.metrics.mean_absolute_error(y_true, y_pred)\n",
        "  # mse = tf.keras.metrics.mean_squared_error(y_true, y_pred) # puts and emphasis on outliers (all errors get squared)\n",
        "  # rmse = tf.sqrt(mse)\n",
        "  mape = tf.keras.metrics.mean_absolute_percentage_error(y_true, y_pred).numpy().mean()\n",
        "  \n",
        "  return mape\n",
        "  \n",
        "  # return {\"mae\": mae.numpy(),\n",
        "  #         \"mse\": mse.numpy(),\n",
        "  #         \"rmse\": rmse.numpy(),\n",
        "  #         \"mape\": mape.numpy(),\n",
        "  #         }"
      ],
      "metadata": {
        "id": "x3XFMprOd1oT"
      },
      "execution_count": 14,
      "outputs": []
    },
    {
      "cell_type": "code",
      "source": [
        "def obj_func(trial,data):\n",
        "  ''' defining the objective func for optuna study to minimize \n",
        "  the loss returned'''\n",
        "\n",
        "  \n",
        "  WINDOW_SIZE= trial.suggest_int('WINDOW_SIZE',5,38,3)\n",
        "  HORIZON = trial.suggest_int('HORIZON',1,5,1)\n",
        "\n",
        "  N_EPOCHS = 1000\n",
        "  N_NEURONS = trial.suggest_categorical('N_NEURONS',[128,256,512,1024]) \n",
        "  N_LAYERS = 4\n",
        "  N_STACKS = trial.suggest_categorical('N_STACKS',[10,20,30,40])\n",
        "  BATCH_SIZE = 128 \n",
        "\n",
        "  INPUT_SIZE = WINDOW_SIZE \n",
        "  THETA_SIZE = INPUT_SIZE + HORIZON\n",
        "  INPUT_SIZE, THETA_SIZE\n",
        "\n",
        "\n",
        "  tf.random.set_seed(5)\n",
        "\n",
        "  data,_ = oobsplit(data)\n",
        "  train_dataset,test_dataset = prep_data(data,WINDOW_SIZE,HORIZON,BATCH_SIZE)\n",
        "\n",
        "  \n",
        "  \n",
        "  #Nbeats architecture\n",
        "  nbeats_block_layer = NBeatsBlock(input_size=INPUT_SIZE,\n",
        "                                  theta_size=THETA_SIZE,\n",
        "                                  horizon=HORIZON,\n",
        "                                  n_neurons=N_NEURONS,\n",
        "                                  n_layers=N_LAYERS,\n",
        "                                  name=\"InitialBlock\")\n",
        "\n",
        "  stack_input = layers.Input(shape=(INPUT_SIZE), name=\"stack_input\")\n",
        "\n",
        "  backcast, forecast = nbeats_block_layer(stack_input)\n",
        "  residuals = layers.subtract([stack_input, backcast], name=f\"subtract_00\") \n",
        "\n",
        "  for i, _ in enumerate(range(N_STACKS-1)): # first stack is already creted in (3)\n",
        "\n",
        "    backcast, block_forecast = NBeatsBlock(\n",
        "        input_size=INPUT_SIZE,\n",
        "        theta_size=THETA_SIZE,\n",
        "        horizon=HORIZON,\n",
        "        n_neurons=N_NEURONS,\n",
        "        n_layers=N_LAYERS,\n",
        "        name=f\"NBeatsBlock_{i}\"\n",
        "    )(residuals) # pass it in residuals (the backcast)\n",
        "\n",
        "    residuals = layers.subtract([residuals, backcast], name=f\"subtract_{i}\") \n",
        "    forecast = layers.add([forecast, block_forecast], name=f\"add_{i}\")\n",
        "\n",
        "  model = tf.keras.Model(inputs=stack_input, \n",
        "                          outputs=forecast, \n",
        "                          name=\"model_N-BEATS\")\n",
        "\n",
        "  model.compile(loss=\"mape\",\n",
        "                  optimizer=tf.keras.optimizers.Adam(0.001),\n",
        "                  )\n",
        "\n",
        "  model.fit(train_dataset,\n",
        "              epochs=N_EPOCHS,\n",
        "              validation_data=test_dataset,\n",
        "              verbose=0, \n",
        "              # callbacks=[create_model_checkpoint(model_name=stack_model.name)] # saving model every epoch takes too much time\n",
        "              callbacks=[tf.keras.callbacks.EarlyStopping(monitor=\"val_loss\", patience=20, restore_best_weights=True),\n",
        "                        tf.keras.callbacks.ReduceLROnPlateau(monitor=\"val_loss\", patience=10, verbose=0),\n",
        "                        #  tf.keras.callbacks.ModelCheckpoint(FILEPATH, monitor='val_loss',verbose=0,save_best_only=True, mode='min') # need to write a get_config method for this\n",
        "                        ])\n",
        "  \n",
        "\n",
        "  preds = make_preds(model, test_dataset)\n",
        "  _,_,_,ytrue = WindowHorizon(make_window(data),WINDOW_SIZE,HORIZON)\n",
        "\n",
        "    \n",
        "  return evaluate_preds(ytrue,preds)\n",
        "   \n"
      ],
      "metadata": {
        "id": "n5BenM2Rp6vc"
      },
      "execution_count": 15,
      "outputs": []
    },
    {
      "cell_type": "code",
      "source": [
        "def hypertune(data,i,model_arr):\n",
        "  '''hypertunning the window size, horizon size, neurons and\n",
        "  number of stack to use for each dataset'''\n",
        "\n",
        "  study_name = f'model_{i}'\n",
        "  study = optuna.create_study(study_name=study_name,storage=f'sqlite:///modeldb/model_{i}.db',\n",
        "                              pruner=optuna.pruners.MedianPruner(n_warmup_steps=10),load_if_exists=True, direction=\"minimize\")\n",
        "\n",
        "\n",
        "  study.optimize(lambda trial : obj_func(trial,data),gc_after_trial=True,timeout=1200, n_trials= 10)\n",
        "  print(study.best_trial.params)\n",
        "  model_arr.append(study.best_trial.params)#an array/list to store the best values model wise\n",
        "  with open('model_para_arr.pickle','wb') as f:\n",
        "    pickle.dump(model_arr,f)"
      ],
      "metadata": {
        "id": "KuL7vnfLrOUZ"
      },
      "execution_count": 16,
      "outputs": []
    },
    {
      "cell_type": "code",
      "source": [
        "model_arr = []\n",
        "for i,files in enumerate(ipFiles):\n",
        "  pddata = pd.read_csv(f'dataset50/{files}',index_col = 0)\n",
        "  hypertune(pddata,i,model_arr)\n",
        "  "
      ],
      "metadata": {
        "colab": {
          "base_uri": "https://localhost:8080/"
        },
        "id": "BjsecBGHxhu8",
        "outputId": "57e2e1d8-d85a-4d0c-b931-52c1b3568a75"
      },
      "execution_count": 17,
      "outputs": [
        {
          "metadata": {
            "tags": null
          },
          "name": "stderr",
          "output_type": "stream",
          "text": [
            "\u001b[32m[I 2022-05-03 15:30:56,076]\u001b[0m A new study created in RDB with name: model_0\u001b[0m\n",
            "\u001b[32m[I 2022-05-03 15:31:35,855]\u001b[0m Trial 0 finished with value: 18034420.0 and parameters: {'WINDOW_SIZE': 20, 'HORIZON': 5, 'N_NEURONS': 512, 'N_STACKS': 40}. Best is trial 0 with value: 18034420.0.\u001b[0m\n",
            "\u001b[32m[I 2022-05-03 15:32:31,422]\u001b[0m Trial 1 finished with value: 11455383.0 and parameters: {'WINDOW_SIZE': 14, 'HORIZON': 2, 'N_NEURONS': 256, 'N_STACKS': 40}. Best is trial 1 with value: 11455383.0.\u001b[0m\n",
            "\u001b[32m[I 2022-05-03 15:32:46,124]\u001b[0m Trial 2 finished with value: 31890462.0 and parameters: {'WINDOW_SIZE': 20, 'HORIZON': 2, 'N_NEURONS': 128, 'N_STACKS': 20}. Best is trial 1 with value: 11455383.0.\u001b[0m\n",
            "\u001b[32m[I 2022-05-03 15:33:33,020]\u001b[0m Trial 3 finished with value: 23291974.0 and parameters: {'WINDOW_SIZE': 26, 'HORIZON': 2, 'N_NEURONS': 1024, 'N_STACKS': 40}. Best is trial 1 with value: 11455383.0.\u001b[0m\n"
          ]
        },
        {
          "metadata": {
            "tags": null
          },
          "name": "stdout",
          "output_type": "stream",
          "text": [
            "WARNING:tensorflow:5 out of the last 5 calls to <function Model.make_predict_function.<locals>.predict_function at 0x7f3087e40950> triggered tf.function retracing. Tracing is expensive and the excessive number of tracings could be due to (1) creating @tf.function repeatedly in a loop, (2) passing tensors with different shapes, (3) passing Python objects instead of tensors. For (1), please define your @tf.function outside of the loop. For (2), @tf.function has experimental_relax_shapes=True option that relaxes argument shapes that can avoid unnecessary retracing. For (3), please refer to https://www.tensorflow.org/guide/function#controlling_retracing and https://www.tensorflow.org/api_docs/python/tf/function for  more details.\n"
          ]
        },
        {
          "metadata": {
            "tags": null
          },
          "name": "stderr",
          "output_type": "stream",
          "text": [
            "\u001b[32m[I 2022-05-03 15:33:48,810]\u001b[0m Trial 4 finished with value: 577721.5 and parameters: {'WINDOW_SIZE': 5, 'HORIZON': 3, 'N_NEURONS': 256, 'N_STACKS': 10}. Best is trial 4 with value: 577721.5.\u001b[0m\n"
          ]
        },
        {
          "metadata": {
            "tags": null
          },
          "name": "stdout",
          "output_type": "stream",
          "text": [
            "WARNING:tensorflow:6 out of the last 6 calls to <function Model.make_predict_function.<locals>.predict_function at 0x7f30ba46be60> triggered tf.function retracing. Tracing is expensive and the excessive number of tracings could be due to (1) creating @tf.function repeatedly in a loop, (2) passing tensors with different shapes, (3) passing Python objects instead of tensors. For (1), please define your @tf.function outside of the loop. For (2), @tf.function has experimental_relax_shapes=True option that relaxes argument shapes that can avoid unnecessary retracing. For (3), please refer to https://www.tensorflow.org/guide/function#controlling_retracing and https://www.tensorflow.org/api_docs/python/tf/function for  more details.\n"
          ]
        },
        {
          "metadata": {
            "tags": null
          },
          "name": "stderr",
          "output_type": "stream",
          "text": [
            "\u001b[32m[I 2022-05-03 15:34:08,019]\u001b[0m Trial 5 finished with value: 67545352.0 and parameters: {'WINDOW_SIZE': 26, 'HORIZON': 1, 'N_NEURONS': 128, 'N_STACKS': 30}. Best is trial 4 with value: 577721.5.\u001b[0m\n",
            "\u001b[32m[I 2022-05-03 15:34:35,489]\u001b[0m Trial 6 finished with value: 54345300.0 and parameters: {'WINDOW_SIZE': 23, 'HORIZON': 2, 'N_NEURONS': 128, 'N_STACKS': 40}. Best is trial 4 with value: 577721.5.\u001b[0m\n",
            "\u001b[32m[I 2022-05-03 15:35:23,281]\u001b[0m Trial 7 finished with value: 25552072.0 and parameters: {'WINDOW_SIZE': 35, 'HORIZON': 1, 'N_NEURONS': 1024, 'N_STACKS': 40}. Best is trial 4 with value: 577721.5.\u001b[0m\n",
            "\u001b[32m[I 2022-05-03 15:35:30,448]\u001b[0m Trial 8 finished with value: 16838068.0 and parameters: {'WINDOW_SIZE': 32, 'HORIZON': 1, 'N_NEURONS': 256, 'N_STACKS': 10}. Best is trial 4 with value: 577721.5.\u001b[0m\n",
            "\u001b[32m[I 2022-05-03 15:36:29,176]\u001b[0m Trial 9 finished with value: 748348.125 and parameters: {'WINDOW_SIZE': 5, 'HORIZON': 2, 'N_NEURONS': 512, 'N_STACKS': 40}. Best is trial 4 with value: 577721.5.\u001b[0m\n"
          ]
        },
        {
          "metadata": {
            "tags": null
          },
          "name": "stdout",
          "output_type": "stream",
          "text": [
            "{'HORIZON': 3, 'N_NEURONS': 256, 'N_STACKS': 10, 'WINDOW_SIZE': 5}\n"
          ]
        },
        {
          "metadata": {
            "tags": null
          },
          "name": "stderr",
          "output_type": "stream",
          "text": [
            "\u001b[32m[I 2022-05-03 15:36:30,516]\u001b[0m A new study created in RDB with name: model_1\u001b[0m\n",
            "\u001b[32m[I 2022-05-03 15:36:41,874]\u001b[0m Trial 0 finished with value: 0.6557193398475647 and parameters: {'WINDOW_SIZE': 17, 'HORIZON': 4, 'N_NEURONS': 256, 'N_STACKS': 10}. Best is trial 0 with value: 0.6557193398475647.\u001b[0m\n",
            "\u001b[32m[I 2022-05-03 15:36:57,214]\u001b[0m Trial 1 finished with value: 2.731217861175537 and parameters: {'WINDOW_SIZE': 35, 'HORIZON': 1, 'N_NEURONS': 128, 'N_STACKS': 20}. Best is trial 0 with value: 0.6557193398475647.\u001b[0m\n",
            "\u001b[32m[I 2022-05-03 15:37:53,625]\u001b[0m Trial 2 finished with value: 0.6274402737617493 and parameters: {'WINDOW_SIZE': 20, 'HORIZON': 4, 'N_NEURONS': 512, 'N_STACKS': 40}. Best is trial 2 with value: 0.6274402737617493.\u001b[0m\n",
            "\u001b[32m[I 2022-05-03 15:38:16,128]\u001b[0m Trial 3 finished with value: 1.2038347721099854 and parameters: {'WINDOW_SIZE': 5, 'HORIZON': 3, 'N_NEURONS': 256, 'N_STACKS': 30}. Best is trial 2 with value: 0.6274402737617493.\u001b[0m\n",
            "\u001b[32m[I 2022-05-03 15:38:50,281]\u001b[0m Trial 4 finished with value: 1.1561100482940674 and parameters: {'WINDOW_SIZE': 5, 'HORIZON': 3, 'N_NEURONS': 128, 'N_STACKS': 30}. Best is trial 2 with value: 0.6274402737617493.\u001b[0m\n",
            "\u001b[32m[I 2022-05-03 15:39:24,164]\u001b[0m Trial 5 finished with value: 2.7002341747283936 and parameters: {'WINDOW_SIZE': 17, 'HORIZON': 1, 'N_NEURONS': 1024, 'N_STACKS': 30}. Best is trial 2 with value: 0.6274402737617493.\u001b[0m\n",
            "\u001b[32m[I 2022-05-03 15:39:51,778]\u001b[0m Trial 6 finished with value: 0.5693032741546631 and parameters: {'WINDOW_SIZE': 29, 'HORIZON': 5, 'N_NEURONS': 1024, 'N_STACKS': 20}. Best is trial 6 with value: 0.5693032741546631.\u001b[0m\n",
            "\u001b[32m[I 2022-05-03 15:40:11,682]\u001b[0m Trial 7 finished with value: 0.605468213558197 and parameters: {'WINDOW_SIZE': 20, 'HORIZON': 4, 'N_NEURONS': 128, 'N_STACKS': 20}. Best is trial 6 with value: 0.5693032741546631.\u001b[0m\n",
            "\u001b[32m[I 2022-05-03 15:40:38,704]\u001b[0m Trial 8 finished with value: 0.5499362945556641 and parameters: {'WINDOW_SIZE': 35, 'HORIZON': 2, 'N_NEURONS': 512, 'N_STACKS': 30}. Best is trial 8 with value: 0.5499362945556641.\u001b[0m\n",
            "\u001b[32m[I 2022-05-03 15:41:07,799]\u001b[0m Trial 9 finished with value: 0.658814549446106 and parameters: {'WINDOW_SIZE': 38, 'HORIZON': 2, 'N_NEURONS': 128, 'N_STACKS': 40}. Best is trial 8 with value: 0.5499362945556641.\u001b[0m\n"
          ]
        },
        {
          "metadata": {
            "tags": null
          },
          "name": "stdout",
          "output_type": "stream",
          "text": [
            "{'HORIZON': 2, 'N_NEURONS': 512, 'N_STACKS': 30, 'WINDOW_SIZE': 35}\n"
          ]
        },
        {
          "metadata": {
            "tags": null
          },
          "name": "stderr",
          "output_type": "stream",
          "text": [
            "\u001b[32m[I 2022-05-03 15:41:08,844]\u001b[0m A new study created in RDB with name: model_2\u001b[0m\n",
            "\u001b[32m[I 2022-05-03 15:41:42,123]\u001b[0m Trial 0 finished with value: 0.04168660566210747 and parameters: {'WINDOW_SIZE': 11, 'HORIZON': 5, 'N_NEURONS': 512, 'N_STACKS': 30}. Best is trial 0 with value: 0.04168660566210747.\u001b[0m\n",
            "\u001b[32m[I 2022-05-03 15:41:58,314]\u001b[0m Trial 1 finished with value: 0.046082742512226105 and parameters: {'WINDOW_SIZE': 35, 'HORIZON': 3, 'N_NEURONS': 128, 'N_STACKS': 20}. Best is trial 0 with value: 0.04168660566210747.\u001b[0m\n",
            "\u001b[32m[I 2022-05-03 15:42:12,695]\u001b[0m Trial 2 finished with value: 0.0419536754488945 and parameters: {'WINDOW_SIZE': 8, 'HORIZON': 3, 'N_NEURONS': 1024, 'N_STACKS': 10}. Best is trial 0 with value: 0.04168660566210747.\u001b[0m\n",
            "\u001b[32m[I 2022-05-03 15:42:53,046]\u001b[0m Trial 3 finished with value: 0.04064292460680008 and parameters: {'WINDOW_SIZE': 11, 'HORIZON': 2, 'N_NEURONS': 512, 'N_STACKS': 40}. Best is trial 3 with value: 0.04064292460680008.\u001b[0m\n",
            "\u001b[32m[I 2022-05-03 15:43:22,295]\u001b[0m Trial 4 finished with value: 0.04297078028321266 and parameters: {'WINDOW_SIZE': 14, 'HORIZON': 5, 'N_NEURONS': 128, 'N_STACKS': 40}. Best is trial 3 with value: 0.04064292460680008.\u001b[0m\n",
            "\u001b[32m[I 2022-05-03 15:43:37,887]\u001b[0m Trial 5 finished with value: 0.03843441605567932 and parameters: {'WINDOW_SIZE': 32, 'HORIZON': 4, 'N_NEURONS': 1024, 'N_STACKS': 10}. Best is trial 5 with value: 0.03843441605567932.\u001b[0m\n",
            "\u001b[32m[I 2022-05-03 15:44:09,694]\u001b[0m Trial 6 finished with value: 0.03825167566537857 and parameters: {'WINDOW_SIZE': 26, 'HORIZON': 5, 'N_NEURONS': 512, 'N_STACKS': 40}. Best is trial 6 with value: 0.03825167566537857.\u001b[0m\n",
            "\u001b[32m[I 2022-05-03 15:44:32,179]\u001b[0m Trial 7 finished with value: 0.03559667989611626 and parameters: {'WINDOW_SIZE': 38, 'HORIZON': 3, 'N_NEURONS': 128, 'N_STACKS': 30}. Best is trial 7 with value: 0.03559667989611626.\u001b[0m\n",
            "\u001b[32m[I 2022-05-03 15:45:23,052]\u001b[0m Trial 8 finished with value: 0.0387166403234005 and parameters: {'WINDOW_SIZE': 20, 'HORIZON': 3, 'N_NEURONS': 1024, 'N_STACKS': 40}. Best is trial 7 with value: 0.03559667989611626.\u001b[0m\n",
            "\u001b[32m[I 2022-05-03 15:45:32,951]\u001b[0m Trial 9 finished with value: 0.03764144331216812 and parameters: {'WINDOW_SIZE': 29, 'HORIZON': 5, 'N_NEURONS': 256, 'N_STACKS': 10}. Best is trial 7 with value: 0.03559667989611626.\u001b[0m\n"
          ]
        },
        {
          "metadata": {
            "tags": null
          },
          "name": "stdout",
          "output_type": "stream",
          "text": [
            "{'HORIZON': 3, 'N_NEURONS': 128, 'N_STACKS': 30, 'WINDOW_SIZE': 38}\n"
          ]
        },
        {
          "metadata": {
            "tags": null
          },
          "name": "stderr",
          "output_type": "stream",
          "text": [
            "\u001b[32m[I 2022-05-03 15:45:33,884]\u001b[0m A new study created in RDB with name: model_3\u001b[0m\n",
            "\u001b[32m[I 2022-05-03 15:45:57,860]\u001b[0m Trial 0 finished with value: 0.15361183881759644 and parameters: {'WINDOW_SIZE': 5, 'HORIZON': 2, 'N_NEURONS': 512, 'N_STACKS': 30}. Best is trial 0 with value: 0.15361183881759644.\u001b[0m\n",
            "\u001b[32m[I 2022-05-03 15:46:07,471]\u001b[0m Trial 1 finished with value: 0.3306671679019928 and parameters: {'WINDOW_SIZE': 14, 'HORIZON': 4, 'N_NEURONS': 256, 'N_STACKS': 10}. Best is trial 0 with value: 0.15361183881759644.\u001b[0m\n",
            "\u001b[32m[I 2022-05-03 15:46:21,826]\u001b[0m Trial 2 finished with value: 0.5843232274055481 and parameters: {'WINDOW_SIZE': 32, 'HORIZON': 2, 'N_NEURONS': 128, 'N_STACKS': 20}. Best is trial 0 with value: 0.15361183881759644.\u001b[0m\n",
            "\u001b[32m[I 2022-05-03 15:46:38,748]\u001b[0m Trial 3 finished with value: 0.23314113914966583 and parameters: {'WINDOW_SIZE': 8, 'HORIZON': 4, 'N_NEURONS': 1024, 'N_STACKS': 10}. Best is trial 0 with value: 0.15361183881759644.\u001b[0m\n",
            "\u001b[32m[I 2022-05-03 15:46:54,085]\u001b[0m Trial 4 finished with value: 1.7435996532440186 and parameters: {'WINDOW_SIZE': 35, 'HORIZON': 1, 'N_NEURONS': 512, 'N_STACKS': 30}. Best is trial 0 with value: 0.15361183881759644.\u001b[0m\n",
            "\u001b[32m[I 2022-05-03 15:47:03,326]\u001b[0m Trial 5 finished with value: 1.724186897277832 and parameters: {'WINDOW_SIZE': 17, 'HORIZON': 1, 'N_NEURONS': 1024, 'N_STACKS': 10}. Best is trial 0 with value: 0.15361183881759644.\u001b[0m\n",
            "\u001b[32m[I 2022-05-03 15:47:13,906]\u001b[0m Trial 6 finished with value: 1.79475998878479 and parameters: {'WINDOW_SIZE': 38, 'HORIZON': 1, 'N_NEURONS': 256, 'N_STACKS': 20}. Best is trial 0 with value: 0.15361183881759644.\u001b[0m\n",
            "\u001b[32m[I 2022-05-03 15:47:41,648]\u001b[0m Trial 7 finished with value: 0.321944922208786 and parameters: {'WINDOW_SIZE': 14, 'HORIZON': 3, 'N_NEURONS': 512, 'N_STACKS': 30}. Best is trial 0 with value: 0.15361183881759644.\u001b[0m\n",
            "\u001b[32m[I 2022-05-03 15:48:09,269]\u001b[0m Trial 8 finished with value: 0.4441545307636261 and parameters: {'WINDOW_SIZE': 23, 'HORIZON': 5, 'N_NEURONS': 128, 'N_STACKS': 40}. Best is trial 0 with value: 0.15361183881759644.\u001b[0m\n",
            "\u001b[32m[I 2022-05-03 15:48:30,604]\u001b[0m Trial 9 finished with value: 1.694453239440918 and parameters: {'WINDOW_SIZE': 5, 'HORIZON': 1, 'N_NEURONS': 1024, 'N_STACKS': 30}. Best is trial 0 with value: 0.15361183881759644.\u001b[0m\n"
          ]
        },
        {
          "metadata": {
            "tags": null
          },
          "name": "stdout",
          "output_type": "stream",
          "text": [
            "{'HORIZON': 2, 'N_NEURONS': 512, 'N_STACKS': 30, 'WINDOW_SIZE': 5}\n"
          ]
        },
        {
          "metadata": {
            "tags": null
          },
          "name": "stderr",
          "output_type": "stream",
          "text": [
            "\u001b[32m[I 2022-05-03 15:48:31,741]\u001b[0m A new study created in RDB with name: model_4\u001b[0m\n",
            "\u001b[32m[I 2022-05-03 15:49:01,258]\u001b[0m Trial 0 finished with value: 0.4059370458126068 and parameters: {'WINDOW_SIZE': 26, 'HORIZON': 4, 'N_NEURONS': 128, 'N_STACKS': 10}. Best is trial 0 with value: 0.4059370458126068.\u001b[0m\n",
            "\u001b[32m[I 2022-05-03 15:49:42,344]\u001b[0m Trial 1 finished with value: 0.502907931804657 and parameters: {'WINDOW_SIZE': 5, 'HORIZON': 3, 'N_NEURONS': 256, 'N_STACKS': 40}. Best is trial 0 with value: 0.4059370458126068.\u001b[0m\n",
            "\u001b[32m[I 2022-05-03 15:49:57,596]\u001b[0m Trial 2 finished with value: 0.9809901714324951 and parameters: {'WINDOW_SIZE': 29, 'HORIZON': 1, 'N_NEURONS': 256, 'N_STACKS': 10}. Best is trial 0 with value: 0.4059370458126068.\u001b[0m\n",
            "\u001b[32m[I 2022-05-03 15:50:23,660]\u001b[0m Trial 3 finished with value: 0.31689512729644775 and parameters: {'WINDOW_SIZE': 26, 'HORIZON': 4, 'N_NEURONS': 128, 'N_STACKS': 30}. Best is trial 3 with value: 0.31689512729644775.\u001b[0m\n",
            "\u001b[32m[I 2022-05-03 15:50:53,412]\u001b[0m Trial 4 finished with value: 0.5561128854751587 and parameters: {'WINDOW_SIZE': 8, 'HORIZON': 4, 'N_NEURONS': 1024, 'N_STACKS': 10}. Best is trial 3 with value: 0.31689512729644775.\u001b[0m\n",
            "\u001b[32m[I 2022-05-03 15:52:18,902]\u001b[0m Trial 5 finished with value: 1.0224394798278809 and parameters: {'WINDOW_SIZE': 11, 'HORIZON': 1, 'N_NEURONS': 1024, 'N_STACKS': 10}. Best is trial 3 with value: 0.31689512729644775.\u001b[0m\n",
            "\u001b[32m[I 2022-05-03 15:53:49,785]\u001b[0m Trial 6 finished with value: 0.9900441765785217 and parameters: {'WINDOW_SIZE': 20, 'HORIZON': 1, 'N_NEURONS': 512, 'N_STACKS': 40}. Best is trial 3 with value: 0.31689512729644775.\u001b[0m\n",
            "\u001b[32m[I 2022-05-03 15:54:43,027]\u001b[0m Trial 7 finished with value: 0.38253942131996155 and parameters: {'WINDOW_SIZE': 14, 'HORIZON': 4, 'N_NEURONS': 256, 'N_STACKS': 30}. Best is trial 3 with value: 0.31689512729644775.\u001b[0m\n",
            "\u001b[32m[I 2022-05-03 15:55:23,821]\u001b[0m Trial 8 finished with value: 0.3165452778339386 and parameters: {'WINDOW_SIZE': 32, 'HORIZON': 5, 'N_NEURONS': 512, 'N_STACKS': 40}. Best is trial 8 with value: 0.3165452778339386.\u001b[0m\n",
            "\u001b[32m[I 2022-05-03 15:56:13,047]\u001b[0m Trial 9 finished with value: 1.0038560628890991 and parameters: {'WINDOW_SIZE': 23, 'HORIZON': 1, 'N_NEURONS': 256, 'N_STACKS': 40}. Best is trial 8 with value: 0.3165452778339386.\u001b[0m\n"
          ]
        },
        {
          "metadata": {
            "tags": null
          },
          "name": "stdout",
          "output_type": "stream",
          "text": [
            "{'HORIZON': 5, 'N_NEURONS': 512, 'N_STACKS': 40, 'WINDOW_SIZE': 32}\n"
          ]
        },
        {
          "metadata": {
            "tags": null
          },
          "name": "stderr",
          "output_type": "stream",
          "text": [
            "\u001b[32m[I 2022-05-03 15:56:14,305]\u001b[0m A new study created in RDB with name: model_5\u001b[0m\n",
            "\u001b[32m[I 2022-05-03 15:56:22,677]\u001b[0m Trial 0 finished with value: 0.0 and parameters: {'WINDOW_SIZE': 8, 'HORIZON': 4, 'N_NEURONS': 128, 'N_STACKS': 20}. Best is trial 0 with value: 0.0.\u001b[0m\n",
            "\u001b[32m[I 2022-05-03 15:56:33,178]\u001b[0m Trial 1 finished with value: 0.0 and parameters: {'WINDOW_SIZE': 8, 'HORIZON': 3, 'N_NEURONS': 1024, 'N_STACKS': 20}. Best is trial 0 with value: 0.0.\u001b[0m\n",
            "\u001b[32m[I 2022-05-03 15:56:45,923]\u001b[0m Trial 2 finished with value: 0.0 and parameters: {'WINDOW_SIZE': 14, 'HORIZON': 2, 'N_NEURONS': 128, 'N_STACKS': 30}. Best is trial 0 with value: 0.0.\u001b[0m\n",
            "\u001b[32m[I 2022-05-03 15:57:06,151]\u001b[0m Trial 3 finished with value: 0.0 and parameters: {'WINDOW_SIZE': 26, 'HORIZON': 5, 'N_NEURONS': 1024, 'N_STACKS': 40}. Best is trial 0 with value: 0.0.\u001b[0m\n",
            "\u001b[32m[I 2022-05-03 15:57:11,246]\u001b[0m Trial 4 finished with value: 0.0 and parameters: {'WINDOW_SIZE': 29, 'HORIZON': 2, 'N_NEURONS': 128, 'N_STACKS': 10}. Best is trial 0 with value: 0.0.\u001b[0m\n",
            "\u001b[32m[I 2022-05-03 15:57:19,983]\u001b[0m Trial 5 finished with value: 0.0 and parameters: {'WINDOW_SIZE': 32, 'HORIZON': 5, 'N_NEURONS': 256, 'N_STACKS': 20}. Best is trial 0 with value: 0.0.\u001b[0m\n",
            "\u001b[32m[I 2022-05-03 15:57:36,692]\u001b[0m Trial 6 finished with value: 0.0 and parameters: {'WINDOW_SIZE': 35, 'HORIZON': 3, 'N_NEURONS': 128, 'N_STACKS': 40}. Best is trial 0 with value: 0.0.\u001b[0m\n",
            "\u001b[32m[I 2022-05-03 15:57:52,175]\u001b[0m Trial 7 finished with value: 0.0 and parameters: {'WINDOW_SIZE': 20, 'HORIZON': 5, 'N_NEURONS': 1024, 'N_STACKS': 30}. Best is trial 0 with value: 0.0.\u001b[0m\n",
            "\u001b[32m[I 2022-05-03 15:58:01,076]\u001b[0m Trial 8 finished with value: 0.0 and parameters: {'WINDOW_SIZE': 11, 'HORIZON': 2, 'N_NEURONS': 256, 'N_STACKS': 20}. Best is trial 0 with value: 0.0.\u001b[0m\n",
            "\u001b[32m[I 2022-05-03 15:58:09,854]\u001b[0m Trial 9 finished with value: 0.0 and parameters: {'WINDOW_SIZE': 32, 'HORIZON': 3, 'N_NEURONS': 128, 'N_STACKS': 20}. Best is trial 0 with value: 0.0.\u001b[0m\n"
          ]
        },
        {
          "metadata": {
            "tags": null
          },
          "name": "stdout",
          "output_type": "stream",
          "text": [
            "{'HORIZON': 4, 'N_NEURONS': 128, 'N_STACKS': 20, 'WINDOW_SIZE': 8}\n"
          ]
        },
        {
          "output_type": "stream",
          "name": "stderr",
          "text": [
            "\u001b[32m[I 2022-05-03 15:58:10,880]\u001b[0m A new study created in RDB with name: model_6\u001b[0m\n",
            "\u001b[32m[I 2022-05-03 15:58:23,574]\u001b[0m Trial 0 finished with value: 9.459465980529785 and parameters: {'WINDOW_SIZE': 23, 'HORIZON': 3, 'N_NEURONS': 1024, 'N_STACKS': 20}. Best is trial 0 with value: 9.459465980529785.\u001b[0m\n",
            "\u001b[32m[I 2022-05-03 15:58:38,454]\u001b[0m Trial 1 finished with value: 11.274552345275879 and parameters: {'WINDOW_SIZE': 17, 'HORIZON': 4, 'N_NEURONS': 1024, 'N_STACKS': 20}. Best is trial 0 with value: 9.459465980529785.\u001b[0m\n",
            "\u001b[32m[I 2022-05-03 15:58:57,527]\u001b[0m Trial 2 finished with value: 9.8984375 and parameters: {'WINDOW_SIZE': 26, 'HORIZON': 4, 'N_NEURONS': 256, 'N_STACKS': 40}. Best is trial 0 with value: 9.459465980529785.\u001b[0m\n",
            "\u001b[32m[I 2022-05-03 15:59:07,381]\u001b[0m Trial 3 finished with value: 11.76369857788086 and parameters: {'WINDOW_SIZE': 5, 'HORIZON': 2, 'N_NEURONS': 256, 'N_STACKS': 20}. Best is trial 0 with value: 9.459465980529785.\u001b[0m\n",
            "\u001b[32m[I 2022-05-03 15:59:23,665]\u001b[0m Trial 4 finished with value: 11.825399398803711 and parameters: {'WINDOW_SIZE': 14, 'HORIZON': 3, 'N_NEURONS': 256, 'N_STACKS': 30}. Best is trial 0 with value: 9.459465980529785.\u001b[0m\n",
            "\u001b[32m[I 2022-05-03 15:59:46,214]\u001b[0m Trial 5 finished with value: 19.649513244628906 and parameters: {'WINDOW_SIZE': 26, 'HORIZON': 1, 'N_NEURONS': 128, 'N_STACKS': 40}. Best is trial 0 with value: 9.459465980529785.\u001b[0m\n",
            "\u001b[32m[I 2022-05-03 15:59:52,697]\u001b[0m Trial 6 finished with value: 12.79713249206543 and parameters: {'WINDOW_SIZE': 11, 'HORIZON': 5, 'N_NEURONS': 256, 'N_STACKS': 10}. Best is trial 0 with value: 9.459465980529785.\u001b[0m\n",
            "\u001b[32m[I 2022-05-03 16:00:07,162]\u001b[0m Trial 7 finished with value: 19.26774787902832 and parameters: {'WINDOW_SIZE': 29, 'HORIZON': 1, 'N_NEURONS': 1024, 'N_STACKS': 20}. Best is trial 0 with value: 9.459465980529785.\u001b[0m\n",
            "\u001b[32m[I 2022-05-03 16:00:36,758]\u001b[0m Trial 8 finished with value: 13.44145393371582 and parameters: {'WINDOW_SIZE': 5, 'HORIZON': 4, 'N_NEURONS': 1024, 'N_STACKS': 40}. Best is trial 0 with value: 9.459465980529785.\u001b[0m\n",
            "\u001b[32m[I 2022-05-03 16:00:55,634]\u001b[0m Trial 9 finished with value: 19.701152801513672 and parameters: {'WINDOW_SIZE': 29, 'HORIZON': 1, 'N_NEURONS': 256, 'N_STACKS': 40}. Best is trial 0 with value: 9.459465980529785.\u001b[0m\n"
          ]
        },
        {
          "output_type": "stream",
          "name": "stdout",
          "text": [
            "{'HORIZON': 3, 'N_NEURONS': 1024, 'N_STACKS': 20, 'WINDOW_SIZE': 23}\n"
          ]
        },
        {
          "output_type": "stream",
          "name": "stderr",
          "text": [
            "\u001b[32m[I 2022-05-03 16:00:56,807]\u001b[0m A new study created in RDB with name: model_7\u001b[0m\n",
            "\u001b[32m[I 2022-05-03 16:01:25,241]\u001b[0m Trial 0 finished with value: 0.06610734760761261 and parameters: {'WINDOW_SIZE': 20, 'HORIZON': 3, 'N_NEURONS': 512, 'N_STACKS': 40}. Best is trial 0 with value: 0.06610734760761261.\u001b[0m\n",
            "\u001b[32m[I 2022-05-03 16:01:40,354]\u001b[0m Trial 1 finished with value: 0.06796126812696457 and parameters: {'WINDOW_SIZE': 26, 'HORIZON': 2, 'N_NEURONS': 128, 'N_STACKS': 20}. Best is trial 0 with value: 0.06610734760761261.\u001b[0m\n",
            "\u001b[32m[I 2022-05-03 16:01:46,277]\u001b[0m Trial 2 finished with value: 0.12582692503929138 and parameters: {'WINDOW_SIZE': 11, 'HORIZON': 1, 'N_NEURONS': 256, 'N_STACKS': 10}. Best is trial 0 with value: 0.06610734760761261.\u001b[0m\n",
            "\u001b[32m[I 2022-05-03 16:01:55,548]\u001b[0m Trial 3 finished with value: 0.0776786282658577 and parameters: {'WINDOW_SIZE': 20, 'HORIZON': 5, 'N_NEURONS': 256, 'N_STACKS': 10}. Best is trial 0 with value: 0.06610734760761261.\u001b[0m\n",
            "\u001b[32m[I 2022-05-03 16:02:20,475]\u001b[0m Trial 4 finished with value: 0.044502776116132736 and parameters: {'WINDOW_SIZE': 5, 'HORIZON': 2, 'N_NEURONS': 256, 'N_STACKS': 40}. Best is trial 4 with value: 0.044502776116132736.\u001b[0m\n",
            "\u001b[32m[I 2022-05-03 16:02:28,387]\u001b[0m Trial 5 finished with value: 0.12073280662298203 and parameters: {'WINDOW_SIZE': 14, 'HORIZON': 1, 'N_NEURONS': 512, 'N_STACKS': 10}. Best is trial 4 with value: 0.044502776116132736.\u001b[0m\n",
            "\u001b[32m[I 2022-05-03 16:03:01,259]\u001b[0m Trial 6 finished with value: 0.08120714873075485 and parameters: {'WINDOW_SIZE': 32, 'HORIZON': 5, 'N_NEURONS': 256, 'N_STACKS': 40}. Best is trial 4 with value: 0.044502776116132736.\u001b[0m\n",
            "\u001b[32m[I 2022-05-03 16:03:42,483]\u001b[0m Trial 7 finished with value: 0.06985815614461899 and parameters: {'WINDOW_SIZE': 20, 'HORIZON': 4, 'N_NEURONS': 1024, 'N_STACKS': 30}. Best is trial 4 with value: 0.044502776116132736.\u001b[0m\n",
            "\u001b[32m[I 2022-05-03 16:04:10,079]\u001b[0m Trial 8 finished with value: 0.05893811210989952 and parameters: {'WINDOW_SIZE': 14, 'HORIZON': 4, 'N_NEURONS': 128, 'N_STACKS': 40}. Best is trial 4 with value: 0.044502776116132736.\u001b[0m\n",
            "\u001b[32m[I 2022-05-03 16:04:39,369]\u001b[0m Trial 9 finished with value: 0.059397924691438675 and parameters: {'WINDOW_SIZE': 11, 'HORIZON': 5, 'N_NEURONS': 128, 'N_STACKS': 40}. Best is trial 4 with value: 0.044502776116132736.\u001b[0m\n"
          ]
        },
        {
          "output_type": "stream",
          "name": "stdout",
          "text": [
            "{'HORIZON': 2, 'N_NEURONS': 256, 'N_STACKS': 40, 'WINDOW_SIZE': 5}\n"
          ]
        },
        {
          "output_type": "stream",
          "name": "stderr",
          "text": [
            "\u001b[32m[I 2022-05-03 16:04:40,551]\u001b[0m A new study created in RDB with name: model_8\u001b[0m\n",
            "\u001b[32m[I 2022-05-03 16:05:02,635]\u001b[0m Trial 0 finished with value: 3573689.5 and parameters: {'WINDOW_SIZE': 17, 'HORIZON': 3, 'N_NEURONS': 128, 'N_STACKS': 20}. Best is trial 0 with value: 3573689.5.\u001b[0m\n",
            "\u001b[32m[I 2022-05-03 16:05:34,450]\u001b[0m Trial 1 finished with value: 212752.234375 and parameters: {'WINDOW_SIZE': 8, 'HORIZON': 3, 'N_NEURONS': 512, 'N_STACKS': 20}. Best is trial 1 with value: 212752.234375.\u001b[0m\n",
            "\u001b[32m[I 2022-05-03 16:06:29,855]\u001b[0m Trial 2 finished with value: 1984340.125 and parameters: {'WINDOW_SIZE': 23, 'HORIZON': 4, 'N_NEURONS': 1024, 'N_STACKS': 40}. Best is trial 1 with value: 212752.234375.\u001b[0m\n",
            "\u001b[32m[I 2022-05-03 16:07:06,485]\u001b[0m Trial 3 finished with value: 182242.0625 and parameters: {'WINDOW_SIZE': 35, 'HORIZON': 4, 'N_NEURONS': 256, 'N_STACKS': 10}. Best is trial 3 with value: 182242.0625.\u001b[0m\n",
            "\u001b[32m[I 2022-05-03 16:07:33,091]\u001b[0m Trial 4 finished with value: 1416617.0 and parameters: {'WINDOW_SIZE': 17, 'HORIZON': 5, 'N_NEURONS': 256, 'N_STACKS': 20}. Best is trial 3 with value: 182242.0625.\u001b[0m\n",
            "\u001b[32m[I 2022-05-03 16:07:59,317]\u001b[0m Trial 5 finished with value: 74865.8125 and parameters: {'WINDOW_SIZE': 5, 'HORIZON': 3, 'N_NEURONS': 128, 'N_STACKS': 20}. Best is trial 5 with value: 74865.8125.\u001b[0m\n",
            "\u001b[32m[I 2022-05-03 16:08:38,367]\u001b[0m Trial 6 finished with value: 2836440.0 and parameters: {'WINDOW_SIZE': 14, 'HORIZON': 5, 'N_NEURONS': 128, 'N_STACKS': 40}. Best is trial 5 with value: 74865.8125.\u001b[0m\n",
            "\u001b[32m[I 2022-05-03 16:09:02,035]\u001b[0m Trial 7 finished with value: 10162810.0 and parameters: {'WINDOW_SIZE': 35, 'HORIZON': 1, 'N_NEURONS': 128, 'N_STACKS': 30}. Best is trial 5 with value: 74865.8125.\u001b[0m\n",
            "\u001b[32m[I 2022-05-03 16:10:17,808]\u001b[0m Trial 8 finished with value: 29095.69140625 and parameters: {'WINDOW_SIZE': 5, 'HORIZON': 5, 'N_NEURONS': 256, 'N_STACKS': 40}. Best is trial 8 with value: 29095.69140625.\u001b[0m\n",
            "\u001b[32m[I 2022-05-03 16:10:49,664]\u001b[0m Trial 9 finished with value: 3142964.75 and parameters: {'WINDOW_SIZE': 20, 'HORIZON': 5, 'N_NEURONS': 128, 'N_STACKS': 20}. Best is trial 8 with value: 29095.69140625.\u001b[0m\n"
          ]
        },
        {
          "output_type": "stream",
          "name": "stdout",
          "text": [
            "{'HORIZON': 5, 'N_NEURONS': 256, 'N_STACKS': 40, 'WINDOW_SIZE': 5}\n"
          ]
        },
        {
          "output_type": "stream",
          "name": "stderr",
          "text": [
            "\u001b[32m[I 2022-05-03 16:10:50,687]\u001b[0m A new study created in RDB with name: model_9\u001b[0m\n",
            "\u001b[32m[I 2022-05-03 16:11:02,930]\u001b[0m Trial 0 finished with value: 0.3162439465522766 and parameters: {'WINDOW_SIZE': 14, 'HORIZON': 2, 'N_NEURONS': 1024, 'N_STACKS': 10}. Best is trial 0 with value: 0.3162439465522766.\u001b[0m\n",
            "\u001b[32m[I 2022-05-03 16:11:21,048]\u001b[0m Trial 1 finished with value: 0.315444678068161 and parameters: {'WINDOW_SIZE': 11, 'HORIZON': 5, 'N_NEURONS': 512, 'N_STACKS': 20}. Best is trial 1 with value: 0.315444678068161.\u001b[0m\n",
            "\u001b[32m[I 2022-05-03 16:11:37,486]\u001b[0m Trial 2 finished with value: 0.32280489802360535 and parameters: {'WINDOW_SIZE': 17, 'HORIZON': 4, 'N_NEURONS': 256, 'N_STACKS': 20}. Best is trial 1 with value: 0.315444678068161.\u001b[0m\n",
            "\u001b[32m[I 2022-05-03 16:11:55,856]\u001b[0m Trial 3 finished with value: 0.3048226535320282 and parameters: {'WINDOW_SIZE': 32, 'HORIZON': 5, 'N_NEURONS': 512, 'N_STACKS': 20}. Best is trial 3 with value: 0.3048226535320282.\u001b[0m\n",
            "\u001b[32m[I 2022-05-03 16:12:07,830]\u001b[0m Trial 4 finished with value: 0.29961222410202026 and parameters: {'WINDOW_SIZE': 32, 'HORIZON': 1, 'N_NEURONS': 256, 'N_STACKS': 10}. Best is trial 4 with value: 0.29961222410202026.\u001b[0m\n",
            "\u001b[32m[I 2022-05-03 16:12:25,132]\u001b[0m Trial 5 finished with value: 0.308841735124588 and parameters: {'WINDOW_SIZE': 17, 'HORIZON': 2, 'N_NEURONS': 256, 'N_STACKS': 20}. Best is trial 4 with value: 0.29961222410202026.\u001b[0m\n",
            "\u001b[32m[I 2022-05-03 16:12:44,824]\u001b[0m Trial 6 finished with value: 0.3069816827774048 and parameters: {'WINDOW_SIZE': 20, 'HORIZON': 1, 'N_NEURONS': 512, 'N_STACKS': 30}. Best is trial 4 with value: 0.29961222410202026.\u001b[0m\n",
            "\u001b[32m[I 2022-05-03 16:12:53,673]\u001b[0m Trial 7 finished with value: 0.3071835935115814 and parameters: {'WINDOW_SIZE': 14, 'HORIZON': 4, 'N_NEURONS': 512, 'N_STACKS': 10}. Best is trial 4 with value: 0.29961222410202026.\u001b[0m\n",
            "\u001b[32m[I 2022-05-03 16:13:17,675]\u001b[0m Trial 8 finished with value: 0.31840306520462036 and parameters: {'WINDOW_SIZE': 14, 'HORIZON': 5, 'N_NEURONS': 512, 'N_STACKS': 30}. Best is trial 4 with value: 0.29961222410202026.\u001b[0m\n",
            "\u001b[32m[I 2022-05-03 16:13:26,285]\u001b[0m Trial 9 finished with value: 0.31263673305511475 and parameters: {'WINDOW_SIZE': 11, 'HORIZON': 4, 'N_NEURONS': 128, 'N_STACKS': 10}. Best is trial 4 with value: 0.29961222410202026.\u001b[0m\n"
          ]
        },
        {
          "output_type": "stream",
          "name": "stdout",
          "text": [
            "{'HORIZON': 1, 'N_NEURONS': 256, 'N_STACKS': 10, 'WINDOW_SIZE': 32}\n"
          ]
        },
        {
          "output_type": "stream",
          "name": "stderr",
          "text": [
            "\u001b[32m[I 2022-05-03 16:13:27,254]\u001b[0m A new study created in RDB with name: model_10\u001b[0m\n",
            "\u001b[32m[I 2022-05-03 16:13:50,368]\u001b[0m Trial 0 finished with value: 0.8909211754798889 and parameters: {'WINDOW_SIZE': 38, 'HORIZON': 5, 'N_NEURONS': 512, 'N_STACKS': 30}. Best is trial 0 with value: 0.8909211754798889.\u001b[0m\n",
            "\u001b[32m[I 2022-05-03 16:13:59,610]\u001b[0m Trial 1 finished with value: 1.3642847537994385 and parameters: {'WINDOW_SIZE': 32, 'HORIZON': 5, 'N_NEURONS': 128, 'N_STACKS': 10}. Best is trial 0 with value: 0.8909211754798889.\u001b[0m\n",
            "\u001b[32m[I 2022-05-03 16:14:23,012]\u001b[0m Trial 2 finished with value: 0.9437439441680908 and parameters: {'WINDOW_SIZE': 32, 'HORIZON': 5, 'N_NEURONS': 256, 'N_STACKS': 30}. Best is trial 0 with value: 0.8909211754798889.\u001b[0m\n",
            "\u001b[32m[I 2022-05-03 16:14:57,932]\u001b[0m Trial 3 finished with value: 1.4617818593978882 and parameters: {'WINDOW_SIZE': 14, 'HORIZON': 3, 'N_NEURONS': 512, 'N_STACKS': 40}. Best is trial 0 with value: 0.8909211754798889.\u001b[0m\n",
            "\u001b[32m[I 2022-05-03 16:15:18,921]\u001b[0m Trial 4 finished with value: 1.0127758979797363 and parameters: {'WINDOW_SIZE': 26, 'HORIZON': 5, 'N_NEURONS': 128, 'N_STACKS': 30}. Best is trial 0 with value: 0.8909211754798889.\u001b[0m\n",
            "\u001b[32m[I 2022-05-03 16:15:32,823]\u001b[0m Trial 5 finished with value: 1.6400511264801025 and parameters: {'WINDOW_SIZE': 8, 'HORIZON': 4, 'N_NEURONS': 128, 'N_STACKS': 20}. Best is trial 0 with value: 0.8909211754798889.\u001b[0m\n",
            "\u001b[32m[I 2022-05-03 16:15:58,768]\u001b[0m Trial 6 finished with value: 1.4071682691574097 and parameters: {'WINDOW_SIZE': 17, 'HORIZON': 5, 'N_NEURONS': 512, 'N_STACKS': 30}. Best is trial 0 with value: 0.8909211754798889.\u001b[0m\n",
            "\u001b[32m[I 2022-05-03 16:16:24,713]\u001b[0m Trial 7 finished with value: 0.8680793046951294 and parameters: {'WINDOW_SIZE': 35, 'HORIZON': 2, 'N_NEURONS': 512, 'N_STACKS': 30}. Best is trial 7 with value: 0.8680793046951294.\u001b[0m\n",
            "\u001b[32m[I 2022-05-03 16:16:56,949]\u001b[0m Trial 8 finished with value: 1.6138920783996582 and parameters: {'WINDOW_SIZE': 8, 'HORIZON': 4, 'N_NEURONS': 128, 'N_STACKS': 40}. Best is trial 7 with value: 0.8680793046951294.\u001b[0m\n",
            "\u001b[32m[I 2022-05-03 16:17:06,105]\u001b[0m Trial 9 finished with value: 1.3194727897644043 and parameters: {'WINDOW_SIZE': 17, 'HORIZON': 2, 'N_NEURONS': 512, 'N_STACKS': 10}. Best is trial 7 with value: 0.8680793046951294.\u001b[0m\n"
          ]
        },
        {
          "output_type": "stream",
          "name": "stdout",
          "text": [
            "{'HORIZON': 2, 'N_NEURONS': 512, 'N_STACKS': 30, 'WINDOW_SIZE': 35}\n"
          ]
        },
        {
          "output_type": "stream",
          "name": "stderr",
          "text": [
            "\u001b[32m[I 2022-05-03 16:17:07,059]\u001b[0m A new study created in RDB with name: model_11\u001b[0m\n",
            "\u001b[32m[I 2022-05-03 16:17:30,880]\u001b[0m Trial 0 finished with value: 11.774579048156738 and parameters: {'WINDOW_SIZE': 20, 'HORIZON': 2, 'N_NEURONS': 512, 'N_STACKS': 30}. Best is trial 0 with value: 11.774579048156738.\u001b[0m\n",
            "\u001b[32m[I 2022-05-03 16:17:51,691]\u001b[0m Trial 1 finished with value: 378.30853271484375 and parameters: {'WINDOW_SIZE': 26, 'HORIZON': 1, 'N_NEURONS': 256, 'N_STACKS': 30}. Best is trial 0 with value: 11.774579048156738.\u001b[0m\n",
            "\u001b[32m[I 2022-05-03 16:18:06,009]\u001b[0m Trial 2 finished with value: 12.621405601501465 and parameters: {'WINDOW_SIZE': 17, 'HORIZON': 2, 'N_NEURONS': 512, 'N_STACKS': 20}. Best is trial 0 with value: 11.774579048156738.\u001b[0m\n",
            "\u001b[32m[I 2022-05-03 16:18:18,378]\u001b[0m Trial 3 finished with value: 13.651084899902344 and parameters: {'WINDOW_SIZE': 20, 'HORIZON': 5, 'N_NEURONS': 256, 'N_STACKS': 20}. Best is trial 0 with value: 11.774579048156738.\u001b[0m\n",
            "\u001b[32m[I 2022-05-03 16:18:46,090]\u001b[0m Trial 4 finished with value: 16.40202522277832 and parameters: {'WINDOW_SIZE': 32, 'HORIZON': 3, 'N_NEURONS': 128, 'N_STACKS': 40}. Best is trial 0 with value: 11.774579048156738.\u001b[0m\n",
            "\u001b[32m[I 2022-05-03 16:19:02,115]\u001b[0m Trial 5 finished with value: 10.814654350280762 and parameters: {'WINDOW_SIZE': 29, 'HORIZON': 5, 'N_NEURONS': 512, 'N_STACKS': 20}. Best is trial 5 with value: 10.814654350280762.\u001b[0m\n",
            "\u001b[32m[I 2022-05-03 16:19:18,847]\u001b[0m Trial 6 finished with value: 22.955612182617188 and parameters: {'WINDOW_SIZE': 5, 'HORIZON': 5, 'N_NEURONS': 128, 'N_STACKS': 30}. Best is trial 5 with value: 10.814654350280762.\u001b[0m\n",
            "\u001b[32m[I 2022-05-03 16:19:26,488]\u001b[0m Trial 7 finished with value: 11.34251594543457 and parameters: {'WINDOW_SIZE': 14, 'HORIZON': 2, 'N_NEURONS': 256, 'N_STACKS': 10}. Best is trial 5 with value: 10.814654350280762.\u001b[0m\n",
            "\u001b[32m[I 2022-05-03 16:19:32,685]\u001b[0m Trial 8 finished with value: 13.011165618896484 and parameters: {'WINDOW_SIZE': 8, 'HORIZON': 2, 'N_NEURONS': 256, 'N_STACKS': 10}. Best is trial 5 with value: 10.814654350280762.\u001b[0m\n",
            "\u001b[32m[I 2022-05-03 16:19:56,729]\u001b[0m Trial 9 finished with value: 11.987656593322754 and parameters: {'WINDOW_SIZE': 11, 'HORIZON': 2, 'N_NEURONS': 512, 'N_STACKS': 30}. Best is trial 5 with value: 10.814654350280762.\u001b[0m\n"
          ]
        },
        {
          "output_type": "stream",
          "name": "stdout",
          "text": [
            "{'HORIZON': 5, 'N_NEURONS': 512, 'N_STACKS': 20, 'WINDOW_SIZE': 29}\n"
          ]
        },
        {
          "output_type": "stream",
          "name": "stderr",
          "text": [
            "\u001b[32m[I 2022-05-03 16:19:57,857]\u001b[0m A new study created in RDB with name: model_12\u001b[0m\n",
            "\u001b[32m[I 2022-05-03 16:20:37,529]\u001b[0m Trial 0 finished with value: 0.2034430354833603 and parameters: {'WINDOW_SIZE': 38, 'HORIZON': 2, 'N_NEURONS': 1024, 'N_STACKS': 10}. Best is trial 0 with value: 0.2034430354833603.\u001b[0m\n",
            "\u001b[32m[I 2022-05-03 16:21:06,999]\u001b[0m Trial 1 finished with value: 0.2152373194694519 and parameters: {'WINDOW_SIZE': 32, 'HORIZON': 2, 'N_NEURONS': 256, 'N_STACKS': 30}. Best is trial 0 with value: 0.2034430354833603.\u001b[0m\n",
            "\u001b[32m[I 2022-05-03 16:21:42,237]\u001b[0m Trial 2 finished with value: 1.1144287586212158 and parameters: {'WINDOW_SIZE': 8, 'HORIZON': 1, 'N_NEURONS': 128, 'N_STACKS': 30}. Best is trial 0 with value: 0.2034430354833603.\u001b[0m\n",
            "\u001b[32m[I 2022-05-03 16:22:11,542]\u001b[0m Trial 3 finished with value: 0.9956355094909668 and parameters: {'WINDOW_SIZE': 14, 'HORIZON': 1, 'N_NEURONS': 128, 'N_STACKS': 10}. Best is trial 0 with value: 0.2034430354833603.\u001b[0m\n",
            "\u001b[32m[I 2022-05-03 16:23:05,382]\u001b[0m Trial 4 finished with value: 0.39701613783836365 and parameters: {'WINDOW_SIZE': 11, 'HORIZON': 5, 'N_NEURONS': 512, 'N_STACKS': 40}. Best is trial 0 with value: 0.2034430354833603.\u001b[0m\n",
            "\u001b[32m[I 2022-05-03 16:23:39,158]\u001b[0m Trial 5 finished with value: 1.1442402601242065 and parameters: {'WINDOW_SIZE': 23, 'HORIZON': 1, 'N_NEURONS': 256, 'N_STACKS': 30}. Best is trial 0 with value: 0.2034430354833603.\u001b[0m\n",
            "\u001b[32m[I 2022-05-03 16:23:47,281]\u001b[0m Trial 6 finished with value: 0.9269038438796997 and parameters: {'WINDOW_SIZE': 26, 'HORIZON': 1, 'N_NEURONS': 1024, 'N_STACKS': 10}. Best is trial 0 with value: 0.2034430354833603.\u001b[0m\n",
            "\u001b[32m[I 2022-05-03 16:24:28,761]\u001b[0m Trial 7 finished with value: 0.5302353501319885 and parameters: {'WINDOW_SIZE': 20, 'HORIZON': 3, 'N_NEURONS': 128, 'N_STACKS': 10}. Best is trial 0 with value: 0.2034430354833603.\u001b[0m\n",
            "\u001b[32m[I 2022-05-03 16:25:00,484]\u001b[0m Trial 8 finished with value: 1.117060661315918 and parameters: {'WINDOW_SIZE': 14, 'HORIZON': 1, 'N_NEURONS': 128, 'N_STACKS': 20}. Best is trial 0 with value: 0.2034430354833603.\u001b[0m\n",
            "\u001b[32m[I 2022-05-03 16:25:32,669]\u001b[0m Trial 9 finished with value: 0.5279313325881958 and parameters: {'WINDOW_SIZE': 11, 'HORIZON': 4, 'N_NEURONS': 256, 'N_STACKS': 10}. Best is trial 0 with value: 0.2034430354833603.\u001b[0m\n"
          ]
        },
        {
          "output_type": "stream",
          "name": "stdout",
          "text": [
            "{'HORIZON': 2, 'N_NEURONS': 1024, 'N_STACKS': 10, 'WINDOW_SIZE': 38}\n"
          ]
        },
        {
          "output_type": "stream",
          "name": "stderr",
          "text": [
            "\u001b[32m[I 2022-05-03 16:25:33,637]\u001b[0m A new study created in RDB with name: model_13\u001b[0m\n",
            "\u001b[32m[I 2022-05-03 16:26:07,445]\u001b[0m Trial 0 finished with value: 0.42602407932281494 and parameters: {'WINDOW_SIZE': 11, 'HORIZON': 2, 'N_NEURONS': 128, 'N_STACKS': 30}. Best is trial 0 with value: 0.42602407932281494.\u001b[0m\n",
            "\u001b[32m[I 2022-05-03 16:26:18,804]\u001b[0m Trial 1 finished with value: 1.2746870517730713 and parameters: {'WINDOW_SIZE': 32, 'HORIZON': 1, 'N_NEURONS': 1024, 'N_STACKS': 10}. Best is trial 0 with value: 0.42602407932281494.\u001b[0m\n",
            "\u001b[32m[I 2022-05-03 16:26:38,961]\u001b[0m Trial 2 finished with value: 1.2533862590789795 and parameters: {'WINDOW_SIZE': 23, 'HORIZON': 1, 'N_NEURONS': 128, 'N_STACKS': 20}. Best is trial 0 with value: 0.42602407932281494.\u001b[0m\n",
            "\u001b[32m[I 2022-05-03 16:26:50,955]\u001b[0m Trial 3 finished with value: 0.6920090317726135 and parameters: {'WINDOW_SIZE': 8, 'HORIZON': 4, 'N_NEURONS': 256, 'N_STACKS': 10}. Best is trial 0 with value: 0.42602407932281494.\u001b[0m\n",
            "\u001b[32m[I 2022-05-03 16:27:01,581]\u001b[0m Trial 4 finished with value: 0.6522308588027954 and parameters: {'WINDOW_SIZE': 11, 'HORIZON': 4, 'N_NEURONS': 256, 'N_STACKS': 10}. Best is trial 0 with value: 0.42602407932281494.\u001b[0m\n",
            "\u001b[32m[I 2022-05-03 16:27:18,168]\u001b[0m Trial 5 finished with value: 1.09727942943573 and parameters: {'WINDOW_SIZE': 32, 'HORIZON': 1, 'N_NEURONS': 1024, 'N_STACKS': 20}. Best is trial 0 with value: 0.42602407932281494.\u001b[0m\n",
            "\u001b[32m[I 2022-05-03 16:27:37,341]\u001b[0m Trial 6 finished with value: 1.2530663013458252 and parameters: {'WINDOW_SIZE': 32, 'HORIZON': 1, 'N_NEURONS': 256, 'N_STACKS': 30}. Best is trial 0 with value: 0.42602407932281494.\u001b[0m\n",
            "\u001b[32m[I 2022-05-03 16:27:56,569]\u001b[0m Trial 7 finished with value: 0.37495553493499756 and parameters: {'WINDOW_SIZE': 38, 'HORIZON': 3, 'N_NEURONS': 256, 'N_STACKS': 10}. Best is trial 7 with value: 0.37495553493499756.\u001b[0m\n",
            "\u001b[32m[I 2022-05-03 16:28:42,465]\u001b[0m Trial 8 finished with value: 0.5744502544403076 and parameters: {'WINDOW_SIZE': 11, 'HORIZON': 4, 'N_NEURONS': 128, 'N_STACKS': 20}. Best is trial 7 with value: 0.37495553493499756.\u001b[0m\n",
            "\u001b[32m[I 2022-05-03 16:30:00,554]\u001b[0m Trial 9 finished with value: 0.632595419883728 and parameters: {'WINDOW_SIZE': 8, 'HORIZON': 4, 'N_NEURONS': 512, 'N_STACKS': 40}. Best is trial 7 with value: 0.37495553493499756.\u001b[0m\n"
          ]
        },
        {
          "output_type": "stream",
          "name": "stdout",
          "text": [
            "{'HORIZON': 3, 'N_NEURONS': 256, 'N_STACKS': 10, 'WINDOW_SIZE': 38}\n"
          ]
        },
        {
          "output_type": "stream",
          "name": "stderr",
          "text": [
            "\u001b[32m[I 2022-05-03 16:30:01,794]\u001b[0m A new study created in RDB with name: model_14\u001b[0m\n",
            "\u001b[32m[I 2022-05-03 16:30:37,374]\u001b[0m Trial 0 finished with value: 0.09914984554052353 and parameters: {'WINDOW_SIZE': 11, 'HORIZON': 1, 'N_NEURONS': 256, 'N_STACKS': 30}. Best is trial 0 with value: 0.09914984554052353.\u001b[0m\n",
            "\u001b[32m[I 2022-05-03 16:30:58,189]\u001b[0m Trial 1 finished with value: 0.10493852943181992 and parameters: {'WINDOW_SIZE': 14, 'HORIZON': 5, 'N_NEURONS': 256, 'N_STACKS': 20}. Best is trial 0 with value: 0.09914984554052353.\u001b[0m\n",
            "\u001b[32m[I 2022-05-03 16:31:14,768]\u001b[0m Trial 2 finished with value: 0.10288438200950623 and parameters: {'WINDOW_SIZE': 14, 'HORIZON': 5, 'N_NEURONS': 128, 'N_STACKS': 20}. Best is trial 0 with value: 0.09914984554052353.\u001b[0m\n",
            "\u001b[32m[I 2022-05-03 16:31:28,341]\u001b[0m Trial 3 finished with value: 0.08330105990171432 and parameters: {'WINDOW_SIZE': 38, 'HORIZON': 2, 'N_NEURONS': 512, 'N_STACKS': 10}. Best is trial 3 with value: 0.08330105990171432.\u001b[0m\n",
            "\u001b[32m[I 2022-05-03 16:31:39,371]\u001b[0m Trial 4 finished with value: 0.08733168244361877 and parameters: {'WINDOW_SIZE': 23, 'HORIZON': 4, 'N_NEURONS': 256, 'N_STACKS': 10}. Best is trial 3 with value: 0.08330105990171432.\u001b[0m\n",
            "\u001b[32m[I 2022-05-03 16:32:20,323]\u001b[0m Trial 5 finished with value: 0.09277127683162689 and parameters: {'WINDOW_SIZE': 20, 'HORIZON': 5, 'N_NEURONS': 128, 'N_STACKS': 40}. Best is trial 3 with value: 0.08330105990171432.\u001b[0m\n",
            "\u001b[32m[I 2022-05-03 16:32:42,964]\u001b[0m Trial 6 finished with value: 0.09978949278593063 and parameters: {'WINDOW_SIZE': 17, 'HORIZON': 5, 'N_NEURONS': 1024, 'N_STACKS': 10}. Best is trial 3 with value: 0.08330105990171432.\u001b[0m\n",
            "\u001b[32m[I 2022-05-03 16:33:10,933]\u001b[0m Trial 7 finished with value: 0.10973789542913437 and parameters: {'WINDOW_SIZE': 8, 'HORIZON': 5, 'N_NEURONS': 512, 'N_STACKS': 30}. Best is trial 3 with value: 0.08330105990171432.\u001b[0m\n",
            "\u001b[32m[I 2022-05-03 16:33:37,642]\u001b[0m Trial 8 finished with value: 0.09848355501890182 and parameters: {'WINDOW_SIZE': 32, 'HORIZON': 2, 'N_NEURONS': 128, 'N_STACKS': 30}. Best is trial 3 with value: 0.08330105990171432.\u001b[0m\n",
            "\u001b[32m[I 2022-05-03 16:34:02,824]\u001b[0m Trial 9 finished with value: 0.09610679000616074 and parameters: {'WINDOW_SIZE': 5, 'HORIZON': 3, 'N_NEURONS': 1024, 'N_STACKS': 20}. Best is trial 3 with value: 0.08330105990171432.\u001b[0m\n"
          ]
        },
        {
          "output_type": "stream",
          "name": "stdout",
          "text": [
            "{'HORIZON': 2, 'N_NEURONS': 512, 'N_STACKS': 10, 'WINDOW_SIZE': 38}\n"
          ]
        },
        {
          "output_type": "stream",
          "name": "stderr",
          "text": [
            "\u001b[32m[I 2022-05-03 16:34:03,848]\u001b[0m A new study created in RDB with name: model_15\u001b[0m\n",
            "\u001b[32m[I 2022-05-03 16:34:12,984]\u001b[0m Trial 0 finished with value: 6.248811721801758 and parameters: {'WINDOW_SIZE': 23, 'HORIZON': 3, 'N_NEURONS': 512, 'N_STACKS': 10}. Best is trial 0 with value: 6.248811721801758.\u001b[0m\n",
            "\u001b[32m[I 2022-05-03 16:34:39,160]\u001b[0m Trial 1 finished with value: 6.336737155914307 and parameters: {'WINDOW_SIZE': 26, 'HORIZON': 5, 'N_NEURONS': 1024, 'N_STACKS': 20}. Best is trial 0 with value: 6.248811721801758.\u001b[0m\n",
            "\u001b[32m[I 2022-05-03 16:34:50,411]\u001b[0m Trial 2 finished with value: 6.576838970184326 and parameters: {'WINDOW_SIZE': 23, 'HORIZON': 5, 'N_NEURONS': 1024, 'N_STACKS': 10}. Best is trial 0 with value: 6.248811721801758.\u001b[0m\n",
            "\u001b[32m[I 2022-05-03 16:35:24,281]\u001b[0m Trial 3 finished with value: 5.642266273498535 and parameters: {'WINDOW_SIZE': 23, 'HORIZON': 2, 'N_NEURONS': 1024, 'N_STACKS': 30}. Best is trial 3 with value: 5.642266273498535.\u001b[0m\n",
            "\u001b[32m[I 2022-05-03 16:36:10,218]\u001b[0m Trial 4 finished with value: 8.673388481140137 and parameters: {'WINDOW_SIZE': 11, 'HORIZON': 4, 'N_NEURONS': 1024, 'N_STACKS': 40}. Best is trial 3 with value: 5.642266273498535.\u001b[0m\n",
            "\u001b[32m[I 2022-05-03 16:36:19,634]\u001b[0m Trial 5 finished with value: 352.3657531738281 and parameters: {'WINDOW_SIZE': 14, 'HORIZON': 1, 'N_NEURONS': 1024, 'N_STACKS': 10}. Best is trial 3 with value: 5.642266273498535.\u001b[0m\n",
            "\u001b[32m[I 2022-05-03 16:36:44,588]\u001b[0m Trial 6 finished with value: 6.765555381774902 and parameters: {'WINDOW_SIZE': 11, 'HORIZON': 2, 'N_NEURONS': 512, 'N_STACKS': 30}. Best is trial 3 with value: 5.642266273498535.\u001b[0m\n",
            "\u001b[32m[I 2022-05-03 16:36:57,628]\u001b[0m Trial 7 finished with value: 7.136073589324951 and parameters: {'WINDOW_SIZE': 26, 'HORIZON': 2, 'N_NEURONS': 128, 'N_STACKS': 20}. Best is trial 3 with value: 5.642266273498535.\u001b[0m\n",
            "\u001b[32m[I 2022-05-03 16:37:09,447]\u001b[0m Trial 8 finished with value: 15.407957077026367 and parameters: {'WINDOW_SIZE': 5, 'HORIZON': 5, 'N_NEURONS': 128, 'N_STACKS': 10}. Best is trial 3 with value: 5.642266273498535.\u001b[0m\n",
            "\u001b[32m[I 2022-05-03 16:37:35,964]\u001b[0m Trial 9 finished with value: 11.013944625854492 and parameters: {'WINDOW_SIZE': 29, 'HORIZON': 5, 'N_NEURONS': 128, 'N_STACKS': 40}. Best is trial 3 with value: 5.642266273498535.\u001b[0m\n"
          ]
        },
        {
          "output_type": "stream",
          "name": "stdout",
          "text": [
            "{'HORIZON': 2, 'N_NEURONS': 1024, 'N_STACKS': 30, 'WINDOW_SIZE': 23}\n"
          ]
        },
        {
          "output_type": "stream",
          "name": "stderr",
          "text": [
            "\u001b[32m[I 2022-05-03 16:37:37,174]\u001b[0m A new study created in RDB with name: model_16\u001b[0m\n",
            "\u001b[32m[I 2022-05-03 16:39:08,661]\u001b[0m Trial 0 finished with value: 0.19585977494716644 and parameters: {'WINDOW_SIZE': 17, 'HORIZON': 4, 'N_NEURONS': 1024, 'N_STACKS': 30}. Best is trial 0 with value: 0.19585977494716644.\u001b[0m\n",
            "\u001b[32m[I 2022-05-03 16:40:24,562]\u001b[0m Trial 1 finished with value: 0.1687324494123459 and parameters: {'WINDOW_SIZE': 20, 'HORIZON': 2, 'N_NEURONS': 1024, 'N_STACKS': 40}. Best is trial 1 with value: 0.1687324494123459.\u001b[0m\n",
            "\u001b[32m[I 2022-05-03 16:40:33,174]\u001b[0m Trial 2 finished with value: 0.21452271938323975 and parameters: {'WINDOW_SIZE': 35, 'HORIZON': 4, 'N_NEURONS': 512, 'N_STACKS': 10}. Best is trial 1 with value: 0.1687324494123459.\u001b[0m\n",
            "\u001b[32m[I 2022-05-03 16:41:05,968]\u001b[0m Trial 3 finished with value: 0.20544874668121338 and parameters: {'WINDOW_SIZE': 32, 'HORIZON': 5, 'N_NEURONS': 256, 'N_STACKS': 40}. Best is trial 1 with value: 0.1687324494123459.\u001b[0m\n",
            "\u001b[32m[I 2022-05-03 16:41:14,073]\u001b[0m Trial 4 finished with value: 0.9586478471755981 and parameters: {'WINDOW_SIZE': 29, 'HORIZON': 1, 'N_NEURONS': 256, 'N_STACKS': 10}. Best is trial 1 with value: 0.1687324494123459.\u001b[0m\n",
            "\u001b[32m[I 2022-05-03 16:43:10,098]\u001b[0m Trial 5 finished with value: 0.21243400871753693 and parameters: {'WINDOW_SIZE': 14, 'HORIZON': 5, 'N_NEURONS': 1024, 'N_STACKS': 40}. Best is trial 1 with value: 0.1687324494123459.\u001b[0m\n",
            "\u001b[32m[I 2022-05-03 16:43:58,621]\u001b[0m Trial 6 finished with value: 0.2728380560874939 and parameters: {'WINDOW_SIZE': 38, 'HORIZON': 4, 'N_NEURONS': 128, 'N_STACKS': 10}. Best is trial 1 with value: 0.1687324494123459.\u001b[0m\n",
            "\u001b[32m[I 2022-05-03 16:44:07,550]\u001b[0m Trial 7 finished with value: 0.20217999815940857 and parameters: {'WINDOW_SIZE': 32, 'HORIZON': 2, 'N_NEURONS': 256, 'N_STACKS': 10}. Best is trial 1 with value: 0.1687324494123459.\u001b[0m\n",
            "\u001b[32m[I 2022-05-03 16:44:16,494]\u001b[0m Trial 8 finished with value: 0.283458411693573 and parameters: {'WINDOW_SIZE': 26, 'HORIZON': 2, 'N_NEURONS': 128, 'N_STACKS': 10}. Best is trial 1 with value: 0.1687324494123459.\u001b[0m\n",
            "\u001b[32m[I 2022-05-03 16:45:01,822]\u001b[0m Trial 9 finished with value: 0.19550511240959167 and parameters: {'WINDOW_SIZE': 38, 'HORIZON': 3, 'N_NEURONS': 1024, 'N_STACKS': 40}. Best is trial 1 with value: 0.1687324494123459.\u001b[0m\n"
          ]
        },
        {
          "output_type": "stream",
          "name": "stdout",
          "text": [
            "{'HORIZON': 2, 'N_NEURONS': 1024, 'N_STACKS': 40, 'WINDOW_SIZE': 20}\n"
          ]
        },
        {
          "output_type": "stream",
          "name": "stderr",
          "text": [
            "\u001b[32m[I 2022-05-03 16:45:03,019]\u001b[0m A new study created in RDB with name: model_17\u001b[0m\n",
            "\u001b[32m[I 2022-05-03 16:45:31,894]\u001b[0m Trial 0 finished with value: 3.440796136856079 and parameters: {'WINDOW_SIZE': 26, 'HORIZON': 2, 'N_NEURONS': 1024, 'N_STACKS': 30}. Best is trial 0 with value: 3.440796136856079.\u001b[0m\n",
            "\u001b[32m[I 2022-05-03 16:45:40,136]\u001b[0m Trial 1 finished with value: 50.86073684692383 and parameters: {'WINDOW_SIZE': 35, 'HORIZON': 1, 'N_NEURONS': 512, 'N_STACKS': 10}. Best is trial 0 with value: 3.440796136856079.\u001b[0m\n",
            "\u001b[32m[I 2022-05-03 16:46:04,671]\u001b[0m Trial 2 finished with value: 3.9946517944335938 and parameters: {'WINDOW_SIZE': 23, 'HORIZON': 2, 'N_NEURONS': 256, 'N_STACKS': 40}. Best is trial 0 with value: 3.440796136856079.\u001b[0m\n",
            "\u001b[32m[I 2022-05-03 16:46:21,034]\u001b[0m Trial 3 finished with value: 6.074017524719238 and parameters: {'WINDOW_SIZE': 5, 'HORIZON': 2, 'N_NEURONS': 256, 'N_STACKS': 20}. Best is trial 0 with value: 3.440796136856079.\u001b[0m\n",
            "\u001b[32m[I 2022-05-03 16:46:52,529]\u001b[0m Trial 4 finished with value: 4.020294666290283 and parameters: {'WINDOW_SIZE': 20, 'HORIZON': 2, 'N_NEURONS': 512, 'N_STACKS': 40}. Best is trial 0 with value: 3.440796136856079.\u001b[0m\n",
            "\u001b[32m[I 2022-05-03 16:47:31,647]\u001b[0m Trial 5 finished with value: 6.308670520782471 and parameters: {'WINDOW_SIZE': 5, 'HORIZON': 2, 'N_NEURONS': 512, 'N_STACKS': 40}. Best is trial 0 with value: 3.440796136856079.\u001b[0m\n",
            "\u001b[32m[I 2022-05-03 16:47:59,466]\u001b[0m Trial 6 finished with value: 4.677757263183594 and parameters: {'WINDOW_SIZE': 17, 'HORIZON': 5, 'N_NEURONS': 512, 'N_STACKS': 30}. Best is trial 0 with value: 3.440796136856079.\u001b[0m\n",
            "\u001b[32m[I 2022-05-03 16:48:25,814]\u001b[0m Trial 7 finished with value: 50.97382736206055 and parameters: {'WINDOW_SIZE': 20, 'HORIZON': 1, 'N_NEURONS': 256, 'N_STACKS': 40}. Best is trial 0 with value: 3.440796136856079.\u001b[0m\n",
            "\u001b[32m[I 2022-05-03 16:48:38,047]\u001b[0m Trial 8 finished with value: 4.032517910003662 and parameters: {'WINDOW_SIZE': 20, 'HORIZON': 3, 'N_NEURONS': 1024, 'N_STACKS': 10}. Best is trial 0 with value: 3.440796136856079.\u001b[0m\n",
            "\u001b[32m[I 2022-05-03 16:49:00,458]\u001b[0m Trial 9 finished with value: 4.019219398498535 and parameters: {'WINDOW_SIZE': 20, 'HORIZON': 3, 'N_NEURONS': 512, 'N_STACKS': 30}. Best is trial 0 with value: 3.440796136856079.\u001b[0m\n"
          ]
        },
        {
          "output_type": "stream",
          "name": "stdout",
          "text": [
            "{'HORIZON': 2, 'N_NEURONS': 1024, 'N_STACKS': 30, 'WINDOW_SIZE': 26}\n"
          ]
        },
        {
          "output_type": "stream",
          "name": "stderr",
          "text": [
            "\u001b[32m[I 2022-05-03 16:49:01,618]\u001b[0m A new study created in RDB with name: model_18\u001b[0m\n",
            "\u001b[32m[I 2022-05-03 16:50:01,829]\u001b[0m Trial 0 finished with value: 6.436384201049805 and parameters: {'WINDOW_SIZE': 14, 'HORIZON': 4, 'N_NEURONS': 256, 'N_STACKS': 40}. Best is trial 0 with value: 6.436384201049805.\u001b[0m\n",
            "\u001b[32m[I 2022-05-03 16:50:36,743]\u001b[0m Trial 1 finished with value: 49.74700164794922 and parameters: {'WINDOW_SIZE': 8, 'HORIZON': 1, 'N_NEURONS': 256, 'N_STACKS': 40}. Best is trial 0 with value: 6.436384201049805.\u001b[0m\n",
            "\u001b[32m[I 2022-05-03 16:50:43,130]\u001b[0m Trial 2 finished with value: 44.880393981933594 and parameters: {'WINDOW_SIZE': 5, 'HORIZON': 3, 'N_NEURONS': 512, 'N_STACKS': 10}. Best is trial 0 with value: 6.436384201049805.\u001b[0m\n",
            "\u001b[32m[I 2022-05-03 16:51:12,663]\u001b[0m Trial 3 finished with value: 13.194713592529297 and parameters: {'WINDOW_SIZE': 26, 'HORIZON': 4, 'N_NEURONS': 1024, 'N_STACKS': 30}. Best is trial 0 with value: 6.436384201049805.\u001b[0m\n",
            "\u001b[32m[I 2022-05-03 16:51:36,407]\u001b[0m Trial 4 finished with value: 17.872783660888672 and parameters: {'WINDOW_SIZE': 8, 'HORIZON': 4, 'N_NEURONS': 1024, 'N_STACKS': 10}. Best is trial 0 with value: 6.436384201049805.\u001b[0m\n",
            "\u001b[32m[I 2022-05-03 16:53:35,597]\u001b[0m Trial 5 finished with value: 15.544102668762207 and parameters: {'WINDOW_SIZE': 5, 'HORIZON': 2, 'N_NEURONS': 512, 'N_STACKS': 40}. Best is trial 0 with value: 6.436384201049805.\u001b[0m\n",
            "\u001b[32m[I 2022-05-03 16:54:12,382]\u001b[0m Trial 6 finished with value: 7.718740463256836 and parameters: {'WINDOW_SIZE': 38, 'HORIZON': 5, 'N_NEURONS': 128, 'N_STACKS': 30}. Best is trial 0 with value: 6.436384201049805.\u001b[0m\n",
            "\u001b[32m[I 2022-05-03 16:54:32,957]\u001b[0m Trial 7 finished with value: 47.67930603027344 and parameters: {'WINDOW_SIZE': 5, 'HORIZON': 2, 'N_NEURONS': 128, 'N_STACKS': 40}. Best is trial 0 with value: 6.436384201049805.\u001b[0m\n",
            "\u001b[32m[I 2022-05-03 16:55:16,745]\u001b[0m Trial 8 finished with value: 9.851725578308105 and parameters: {'WINDOW_SIZE': 8, 'HORIZON': 2, 'N_NEURONS': 256, 'N_STACKS': 40}. Best is trial 0 with value: 6.436384201049805.\u001b[0m\n",
            "\u001b[32m[I 2022-05-03 16:55:30,683]\u001b[0m Trial 9 finished with value: 50.73591613769531 and parameters: {'WINDOW_SIZE': 23, 'HORIZON': 1, 'N_NEURONS': 1024, 'N_STACKS': 10}. Best is trial 0 with value: 6.436384201049805.\u001b[0m\n"
          ]
        },
        {
          "output_type": "stream",
          "name": "stdout",
          "text": [
            "{'HORIZON': 4, 'N_NEURONS': 256, 'N_STACKS': 40, 'WINDOW_SIZE': 14}\n"
          ]
        },
        {
          "output_type": "stream",
          "name": "stderr",
          "text": [
            "\u001b[32m[I 2022-05-03 16:55:31,840]\u001b[0m A new study created in RDB with name: model_19\u001b[0m\n",
            "\u001b[32m[I 2022-05-03 16:56:14,178]\u001b[0m Trial 0 finished with value: 1.5668247938156128 and parameters: {'WINDOW_SIZE': 26, 'HORIZON': 3, 'N_NEURONS': 1024, 'N_STACKS': 40}. Best is trial 0 with value: 1.5668247938156128.\u001b[0m\n",
            "\u001b[32m[I 2022-05-03 16:56:20,415]\u001b[0m Trial 1 finished with value: 1.9869415760040283 and parameters: {'WINDOW_SIZE': 29, 'HORIZON': 1, 'N_NEURONS': 512, 'N_STACKS': 10}. Best is trial 0 with value: 1.5668247938156128.\u001b[0m\n",
            "\u001b[32m[I 2022-05-03 16:56:50,714]\u001b[0m Trial 2 finished with value: 1.5510333776474 and parameters: {'WINDOW_SIZE': 35, 'HORIZON': 3, 'N_NEURONS': 512, 'N_STACKS': 30}. Best is trial 2 with value: 1.5510333776474.\u001b[0m\n",
            "\u001b[32m[I 2022-05-03 16:57:08,651]\u001b[0m Trial 3 finished with value: 1.423319697380066 and parameters: {'WINDOW_SIZE': 35, 'HORIZON': 2, 'N_NEURONS': 128, 'N_STACKS': 30}. Best is trial 3 with value: 1.423319697380066.\u001b[0m\n",
            "\u001b[32m[I 2022-05-03 16:57:19,169]\u001b[0m Trial 4 finished with value: 1.8127098083496094 and parameters: {'WINDOW_SIZE': 35, 'HORIZON': 5, 'N_NEURONS': 512, 'N_STACKS': 10}. Best is trial 3 with value: 1.423319697380066.\u001b[0m\n",
            "\u001b[32m[I 2022-05-03 16:57:32,111]\u001b[0m Trial 5 finished with value: 2.014613151550293 and parameters: {'WINDOW_SIZE': 26, 'HORIZON': 1, 'N_NEURONS': 256, 'N_STACKS': 20}. Best is trial 3 with value: 1.423319697380066.\u001b[0m\n",
            "\u001b[32m[I 2022-05-03 16:59:03,966]\u001b[0m Trial 6 finished with value: 0.9191409945487976 and parameters: {'WINDOW_SIZE': 5, 'HORIZON': 4, 'N_NEURONS': 1024, 'N_STACKS': 20}. Best is trial 6 with value: 0.9191409945487976.\u001b[0m\n",
            "\u001b[32m[I 2022-05-03 16:59:47,682]\u001b[0m Trial 7 finished with value: 1.0794144868850708 and parameters: {'WINDOW_SIZE': 11, 'HORIZON': 4, 'N_NEURONS': 512, 'N_STACKS': 20}. Best is trial 6 with value: 0.9191409945487976.\u001b[0m\n",
            "\u001b[32m[I 2022-05-03 17:00:12,269]\u001b[0m Trial 8 finished with value: 1.6503430604934692 and parameters: {'WINDOW_SIZE': 35, 'HORIZON': 4, 'N_NEURONS': 512, 'N_STACKS': 30}. Best is trial 6 with value: 0.9191409945487976.\u001b[0m\n",
            "\u001b[32m[I 2022-05-03 17:00:40,968]\u001b[0m Trial 9 finished with value: 1.0013389587402344 and parameters: {'WINDOW_SIZE': 8, 'HORIZON': 4, 'N_NEURONS': 256, 'N_STACKS': 30}. Best is trial 6 with value: 0.9191409945487976.\u001b[0m\n"
          ]
        },
        {
          "output_type": "stream",
          "name": "stdout",
          "text": [
            "{'HORIZON': 4, 'N_NEURONS': 1024, 'N_STACKS': 20, 'WINDOW_SIZE': 5}\n"
          ]
        },
        {
          "output_type": "stream",
          "name": "stderr",
          "text": [
            "\u001b[32m[I 2022-05-03 17:00:42,160]\u001b[0m A new study created in RDB with name: model_20\u001b[0m\n",
            "\u001b[32m[I 2022-05-03 17:01:07,347]\u001b[0m Trial 0 finished with value: 0.2592214345932007 and parameters: {'WINDOW_SIZE': 20, 'HORIZON': 2, 'N_NEURONS': 512, 'N_STACKS': 10}. Best is trial 0 with value: 0.2592214345932007.\u001b[0m\n",
            "\u001b[32m[I 2022-05-03 17:02:02,780]\u001b[0m Trial 1 finished with value: 0.5697900652885437 and parameters: {'WINDOW_SIZE': 5, 'HORIZON': 4, 'N_NEURONS': 128, 'N_STACKS': 10}. Best is trial 0 with value: 0.2592214345932007.\u001b[0m\n",
            "\u001b[32m[I 2022-05-03 17:02:58,404]\u001b[0m Trial 2 finished with value: 0.30404993891716003 and parameters: {'WINDOW_SIZE': 32, 'HORIZON': 4, 'N_NEURONS': 128, 'N_STACKS': 30}. Best is trial 0 with value: 0.2592214345932007.\u001b[0m\n",
            "\u001b[32m[I 2022-05-03 17:04:57,425]\u001b[0m Trial 3 finished with value: 0.33188673853874207 and parameters: {'WINDOW_SIZE': 5, 'HORIZON': 2, 'N_NEURONS': 512, 'N_STACKS': 40}. Best is trial 0 with value: 0.2592214345932007.\u001b[0m\n",
            "\u001b[32m[I 2022-05-03 17:06:43,134]\u001b[0m Trial 4 finished with value: 0.4579628109931946 and parameters: {'WINDOW_SIZE': 5, 'HORIZON': 5, 'N_NEURONS': 512, 'N_STACKS': 40}. Best is trial 0 with value: 0.2592214345932007.\u001b[0m\n",
            "\u001b[32m[I 2022-05-03 17:07:06,917]\u001b[0m Trial 5 finished with value: 0.675031840801239 and parameters: {'WINDOW_SIZE': 23, 'HORIZON': 1, 'N_NEURONS': 256, 'N_STACKS': 40}. Best is trial 0 with value: 0.2592214345932007.\u001b[0m\n",
            "\u001b[32m[I 2022-05-03 17:07:32,184]\u001b[0m Trial 6 finished with value: 0.6355319619178772 and parameters: {'WINDOW_SIZE': 14, 'HORIZON': 1, 'N_NEURONS': 128, 'N_STACKS': 40}. Best is trial 0 with value: 0.2592214345932007.\u001b[0m\n",
            "\u001b[32m[I 2022-05-03 17:08:51,646]\u001b[0m Trial 7 finished with value: 0.32685673236846924 and parameters: {'WINDOW_SIZE': 17, 'HORIZON': 2, 'N_NEURONS': 512, 'N_STACKS': 40}. Best is trial 0 with value: 0.2592214345932007.\u001b[0m\n",
            "\u001b[32m[I 2022-05-03 17:10:06,942]\u001b[0m Trial 8 finished with value: 0.22476185858249664 and parameters: {'WINDOW_SIZE': 32, 'HORIZON': 2, 'N_NEURONS': 1024, 'N_STACKS': 20}. Best is trial 8 with value: 0.22476185858249664.\u001b[0m\n",
            "\u001b[32m[I 2022-05-03 17:10:51,693]\u001b[0m Trial 9 finished with value: 0.3103327453136444 and parameters: {'WINDOW_SIZE': 17, 'HORIZON': 5, 'N_NEURONS': 512, 'N_STACKS': 10}. Best is trial 8 with value: 0.22476185858249664.\u001b[0m\n"
          ]
        },
        {
          "output_type": "stream",
          "name": "stdout",
          "text": [
            "{'HORIZON': 2, 'N_NEURONS': 1024, 'N_STACKS': 20, 'WINDOW_SIZE': 32}\n"
          ]
        },
        {
          "output_type": "stream",
          "name": "stderr",
          "text": [
            "\u001b[32m[I 2022-05-03 17:10:52,772]\u001b[0m A new study created in RDB with name: model_21\u001b[0m\n",
            "\u001b[32m[I 2022-05-03 17:11:12,998]\u001b[0m Trial 0 finished with value: 9.625594139099121 and parameters: {'WINDOW_SIZE': 8, 'HORIZON': 4, 'N_NEURONS': 256, 'N_STACKS': 30}. Best is trial 0 with value: 9.625594139099121.\u001b[0m\n",
            "\u001b[32m[I 2022-05-03 17:11:45,983]\u001b[0m Trial 1 finished with value: 374.3522033691406 and parameters: {'WINDOW_SIZE': 20, 'HORIZON': 1, 'N_NEURONS': 1024, 'N_STACKS': 30}. Best is trial 0 with value: 9.625594139099121.\u001b[0m\n",
            "\u001b[32m[I 2022-05-03 17:12:12,108]\u001b[0m Trial 2 finished with value: 7.928728103637695 and parameters: {'WINDOW_SIZE': 32, 'HORIZON': 2, 'N_NEURONS': 256, 'N_STACKS': 40}. Best is trial 2 with value: 7.928728103637695.\u001b[0m\n",
            "\u001b[32m[I 2022-05-03 17:12:31,842]\u001b[0m Trial 3 finished with value: 7.240924835205078 and parameters: {'WINDOW_SIZE': 14, 'HORIZON': 3, 'N_NEURONS': 256, 'N_STACKS': 30}. Best is trial 3 with value: 7.240924835205078.\u001b[0m\n",
            "\u001b[32m[I 2022-05-03 17:12:56,509]\u001b[0m Trial 4 finished with value: 7.140395641326904 and parameters: {'WINDOW_SIZE': 20, 'HORIZON': 2, 'N_NEURONS': 256, 'N_STACKS': 30}. Best is trial 4 with value: 7.140395641326904.\u001b[0m\n",
            "\u001b[32m[I 2022-05-03 17:13:19,310]\u001b[0m Trial 5 finished with value: 5.208775520324707 and parameters: {'WINDOW_SIZE': 29, 'HORIZON': 2, 'N_NEURONS': 1024, 'N_STACKS': 20}. Best is trial 5 with value: 5.208775520324707.\u001b[0m\n",
            "\u001b[32m[I 2022-05-03 17:13:26,333]\u001b[0m Trial 6 finished with value: 374.9313049316406 and parameters: {'WINDOW_SIZE': 29, 'HORIZON': 1, 'N_NEURONS': 128, 'N_STACKS': 10}. Best is trial 5 with value: 5.208775520324707.\u001b[0m\n",
            "\u001b[32m[I 2022-05-03 17:13:37,103]\u001b[0m Trial 7 finished with value: 374.0186767578125 and parameters: {'WINDOW_SIZE': 26, 'HORIZON': 1, 'N_NEURONS': 1024, 'N_STACKS': 10}. Best is trial 5 with value: 5.208775520324707.\u001b[0m\n",
            "\u001b[32m[I 2022-05-03 17:13:45,105]\u001b[0m Trial 8 finished with value: 374.86834716796875 and parameters: {'WINDOW_SIZE': 32, 'HORIZON': 1, 'N_NEURONS': 512, 'N_STACKS': 10}. Best is trial 5 with value: 5.208775520324707.\u001b[0m\n",
            "\u001b[32m[I 2022-05-03 17:13:58,259]\u001b[0m Trial 9 finished with value: 374.92083740234375 and parameters: {'WINDOW_SIZE': 23, 'HORIZON': 1, 'N_NEURONS': 256, 'N_STACKS': 20}. Best is trial 5 with value: 5.208775520324707.\u001b[0m\n"
          ]
        },
        {
          "output_type": "stream",
          "name": "stdout",
          "text": [
            "{'HORIZON': 2, 'N_NEURONS': 1024, 'N_STACKS': 20, 'WINDOW_SIZE': 29}\n"
          ]
        },
        {
          "output_type": "stream",
          "name": "stderr",
          "text": [
            "\u001b[32m[I 2022-05-03 17:13:59,388]\u001b[0m A new study created in RDB with name: model_22\u001b[0m\n",
            "\u001b[32m[I 2022-05-03 17:14:15,270]\u001b[0m Trial 0 finished with value: 0.03621375933289528 and parameters: {'WINDOW_SIZE': 8, 'HORIZON': 3, 'N_NEURONS': 1024, 'N_STACKS': 10}. Best is trial 0 with value: 0.03621375933289528.\u001b[0m\n",
            "\u001b[32m[I 2022-05-03 17:14:28,895]\u001b[0m Trial 1 finished with value: 0.028100792318582535 and parameters: {'WINDOW_SIZE': 5, 'HORIZON': 2, 'N_NEURONS': 1024, 'N_STACKS': 10}. Best is trial 1 with value: 0.028100792318582535.\u001b[0m\n",
            "\u001b[32m[I 2022-05-03 17:14:41,024]\u001b[0m Trial 2 finished with value: 0.056227318942546844 and parameters: {'WINDOW_SIZE': 17, 'HORIZON': 5, 'N_NEURONS': 256, 'N_STACKS': 10}. Best is trial 1 with value: 0.028100792318582535.\u001b[0m\n",
            "\u001b[32m[I 2022-05-03 17:15:18,558]\u001b[0m Trial 3 finished with value: 0.04416365176439285 and parameters: {'WINDOW_SIZE': 11, 'HORIZON': 5, 'N_NEURONS': 256, 'N_STACKS': 40}. Best is trial 1 with value: 0.028100792318582535.\u001b[0m\n",
            "\u001b[32m[I 2022-05-03 17:15:50,826]\u001b[0m Trial 4 finished with value: 0.044741179794073105 and parameters: {'WINDOW_SIZE': 11, 'HORIZON': 4, 'N_NEURONS': 256, 'N_STACKS': 30}. Best is trial 1 with value: 0.028100792318582535.\u001b[0m\n",
            "\u001b[32m[I 2022-05-03 17:16:52,402]\u001b[0m Trial 5 finished with value: 0.05931811407208443 and parameters: {'WINDOW_SIZE': 35, 'HORIZON': 4, 'N_NEURONS': 1024, 'N_STACKS': 40}. Best is trial 1 with value: 0.028100792318582535.\u001b[0m\n",
            "\u001b[32m[I 2022-05-03 17:17:07,035]\u001b[0m Trial 6 finished with value: 0.06627988070249557 and parameters: {'WINDOW_SIZE': 38, 'HORIZON': 4, 'N_NEURONS': 128, 'N_STACKS': 20}. Best is trial 1 with value: 0.028100792318582535.\u001b[0m\n",
            "\u001b[32m[I 2022-05-03 17:17:27,051]\u001b[0m Trial 7 finished with value: 0.058592431247234344 and parameters: {'WINDOW_SIZE': 35, 'HORIZON': 1, 'N_NEURONS': 256, 'N_STACKS': 30}. Best is trial 1 with value: 0.028100792318582535.\u001b[0m\n",
            "\u001b[32m[I 2022-05-03 17:18:27,874]\u001b[0m Trial 8 finished with value: 0.030751598998904228 and parameters: {'WINDOW_SIZE': 5, 'HORIZON': 3, 'N_NEURONS': 1024, 'N_STACKS': 40}. Best is trial 1 with value: 0.028100792318582535.\u001b[0m\n",
            "\u001b[32m[I 2022-05-03 17:18:59,574]\u001b[0m Trial 9 finished with value: 0.04248541221022606 and parameters: {'WINDOW_SIZE': 20, 'HORIZON': 2, 'N_NEURONS': 512, 'N_STACKS': 30}. Best is trial 1 with value: 0.028100792318582535.\u001b[0m\n"
          ]
        },
        {
          "output_type": "stream",
          "name": "stdout",
          "text": [
            "{'HORIZON': 2, 'N_NEURONS': 1024, 'N_STACKS': 10, 'WINDOW_SIZE': 5}\n"
          ]
        },
        {
          "output_type": "stream",
          "name": "stderr",
          "text": [
            "\u001b[32m[I 2022-05-03 17:19:00,789]\u001b[0m A new study created in RDB with name: model_23\u001b[0m\n",
            "\u001b[32m[I 2022-05-03 17:19:11,939]\u001b[0m Trial 0 finished with value: 3.8251729011535645 and parameters: {'WINDOW_SIZE': 20, 'HORIZON': 2, 'N_NEURONS': 1024, 'N_STACKS': 10}. Best is trial 0 with value: 3.8251729011535645.\u001b[0m\n",
            "\u001b[32m[I 2022-05-03 17:19:28,730]\u001b[0m Trial 1 finished with value: 4.288223743438721 and parameters: {'WINDOW_SIZE': 11, 'HORIZON': 1, 'N_NEURONS': 512, 'N_STACKS': 20}. Best is trial 0 with value: 3.8251729011535645.\u001b[0m\n",
            "\u001b[32m[I 2022-05-03 17:19:50,028]\u001b[0m Trial 2 finished with value: 4.515081405639648 and parameters: {'WINDOW_SIZE': 11, 'HORIZON': 1, 'N_NEURONS': 256, 'N_STACKS': 30}. Best is trial 0 with value: 3.8251729011535645.\u001b[0m\n",
            "\u001b[32m[I 2022-05-03 17:20:05,490]\u001b[0m Trial 3 finished with value: 4.555343151092529 and parameters: {'WINDOW_SIZE': 29, 'HORIZON': 3, 'N_NEURONS': 512, 'N_STACKS': 20}. Best is trial 0 with value: 3.8251729011535645.\u001b[0m\n",
            "\u001b[32m[I 2022-05-03 17:21:01,705]\u001b[0m Trial 4 finished with value: 3.308958053588867 and parameters: {'WINDOW_SIZE': 5, 'HORIZON': 4, 'N_NEURONS': 1024, 'N_STACKS': 30}. Best is trial 4 with value: 3.308958053588867.\u001b[0m\n",
            "\u001b[32m[I 2022-05-03 17:21:17,380]\u001b[0m Trial 5 finished with value: 4.23164701461792 and parameters: {'WINDOW_SIZE': 14, 'HORIZON': 5, 'N_NEURONS': 1024, 'N_STACKS': 10}. Best is trial 4 with value: 3.308958053588867.\u001b[0m\n",
            "\u001b[32m[I 2022-05-03 17:21:36,606]\u001b[0m Trial 6 finished with value: 4.621152877807617 and parameters: {'WINDOW_SIZE': 38, 'HORIZON': 2, 'N_NEURONS': 1024, 'N_STACKS': 20}. Best is trial 4 with value: 3.308958053588867.\u001b[0m\n",
            "\u001b[32m[I 2022-05-03 17:21:50,140]\u001b[0m Trial 7 finished with value: 4.26077938079834 and parameters: {'WINDOW_SIZE': 23, 'HORIZON': 2, 'N_NEURONS': 1024, 'N_STACKS': 10}. Best is trial 4 with value: 3.308958053588867.\u001b[0m\n",
            "\u001b[32m[I 2022-05-03 17:21:58,089]\u001b[0m Trial 8 finished with value: 5.6258039474487305 and parameters: {'WINDOW_SIZE': 29, 'HORIZON': 2, 'N_NEURONS': 128, 'N_STACKS': 10}. Best is trial 4 with value: 3.308958053588867.\u001b[0m\n",
            "\u001b[32m[I 2022-05-03 17:22:06,440]\u001b[0m Trial 9 finished with value: 5.293834209442139 and parameters: {'WINDOW_SIZE': 17, 'HORIZON': 5, 'N_NEURONS': 256, 'N_STACKS': 10}. Best is trial 4 with value: 3.308958053588867.\u001b[0m\n"
          ]
        },
        {
          "output_type": "stream",
          "name": "stdout",
          "text": [
            "{'HORIZON': 4, 'N_NEURONS': 1024, 'N_STACKS': 30, 'WINDOW_SIZE': 5}\n"
          ]
        },
        {
          "output_type": "stream",
          "name": "stderr",
          "text": [
            "\u001b[32m[I 2022-05-03 17:22:07,538]\u001b[0m A new study created in RDB with name: model_24\u001b[0m\n",
            "\u001b[32m[I 2022-05-03 17:22:41,377]\u001b[0m Trial 0 finished with value: 4.834476470947266 and parameters: {'WINDOW_SIZE': 38, 'HORIZON': 5, 'N_NEURONS': 512, 'N_STACKS': 40}. Best is trial 0 with value: 4.834476470947266.\u001b[0m\n",
            "\u001b[32m[I 2022-05-03 17:23:09,694]\u001b[0m Trial 1 finished with value: 5.456198692321777 and parameters: {'WINDOW_SIZE': 32, 'HORIZON': 2, 'N_NEURONS': 128, 'N_STACKS': 40}. Best is trial 0 with value: 4.834476470947266.\u001b[0m\n",
            "\u001b[32m[I 2022-05-03 17:23:36,066]\u001b[0m Trial 2 finished with value: 4.522946357727051 and parameters: {'WINDOW_SIZE': 29, 'HORIZON': 4, 'N_NEURONS': 512, 'N_STACKS': 30}. Best is trial 2 with value: 4.522946357727051.\u001b[0m\n",
            "\u001b[32m[I 2022-05-03 17:23:57,728]\u001b[0m Trial 3 finished with value: 10.634784698486328 and parameters: {'WINDOW_SIZE': 5, 'HORIZON': 5, 'N_NEURONS': 256, 'N_STACKS': 40}. Best is trial 2 with value: 4.522946357727051.\u001b[0m\n",
            "\u001b[32m[I 2022-05-03 17:24:05,499]\u001b[0m Trial 4 finished with value: 9.25460433959961 and parameters: {'WINDOW_SIZE': 5, 'HORIZON': 3, 'N_NEURONS': 512, 'N_STACKS': 10}. Best is trial 2 with value: 4.522946357727051.\u001b[0m\n",
            "\u001b[32m[I 2022-05-03 17:24:13,981]\u001b[0m Trial 5 finished with value: 4.477850437164307 and parameters: {'WINDOW_SIZE': 32, 'HORIZON': 2, 'N_NEURONS': 256, 'N_STACKS': 10}. Best is trial 5 with value: 4.477850437164307.\u001b[0m\n",
            "\u001b[32m[I 2022-05-03 17:24:44,579]\u001b[0m Trial 6 finished with value: 4.813944339752197 and parameters: {'WINDOW_SIZE': 35, 'HORIZON': 3, 'N_NEURONS': 256, 'N_STACKS': 40}. Best is trial 5 with value: 4.477850437164307.\u001b[0m\n",
            "\u001b[32m[I 2022-05-03 17:25:10,432]\u001b[0m Trial 7 finished with value: 5.315270900726318 and parameters: {'WINDOW_SIZE': 14, 'HORIZON': 2, 'N_NEURONS': 128, 'N_STACKS': 40}. Best is trial 5 with value: 4.477850437164307.\u001b[0m\n",
            "\u001b[32m[I 2022-05-03 17:25:22,782]\u001b[0m Trial 8 finished with value: 14.443680763244629 and parameters: {'WINDOW_SIZE': 35, 'HORIZON': 1, 'N_NEURONS': 256, 'N_STACKS': 20}. Best is trial 5 with value: 4.477850437164307.\u001b[0m\n",
            "\u001b[32m[I 2022-05-03 17:25:36,390]\u001b[0m Trial 9 finished with value: 4.915811061859131 and parameters: {'WINDOW_SIZE': 35, 'HORIZON': 3, 'N_NEURONS': 128, 'N_STACKS': 20}. Best is trial 5 with value: 4.477850437164307.\u001b[0m\n"
          ]
        },
        {
          "output_type": "stream",
          "name": "stdout",
          "text": [
            "{'HORIZON': 2, 'N_NEURONS': 256, 'N_STACKS': 10, 'WINDOW_SIZE': 32}\n"
          ]
        },
        {
          "output_type": "stream",
          "name": "stderr",
          "text": [
            "\u001b[32m[I 2022-05-03 17:25:37,355]\u001b[0m A new study created in RDB with name: model_25\u001b[0m\n",
            "\u001b[32m[I 2022-05-03 17:26:03,555]\u001b[0m Trial 0 finished with value: 0.3240261673927307 and parameters: {'WINDOW_SIZE': 20, 'HORIZON': 2, 'N_NEURONS': 256, 'N_STACKS': 20}. Best is trial 0 with value: 0.3240261673927307.\u001b[0m\n",
            "\u001b[32m[I 2022-05-03 17:26:58,731]\u001b[0m Trial 1 finished with value: 0.44039973616600037 and parameters: {'WINDOW_SIZE': 17, 'HORIZON': 4, 'N_NEURONS': 1024, 'N_STACKS': 20}. Best is trial 0 with value: 0.3240261673927307.\u001b[0m\n",
            "\u001b[32m[I 2022-05-03 17:27:21,409]\u001b[0m Trial 2 finished with value: 0.35153812170028687 and parameters: {'WINDOW_SIZE': 26, 'HORIZON': 5, 'N_NEURONS': 256, 'N_STACKS': 10}. Best is trial 0 with value: 0.3240261673927307.\u001b[0m\n",
            "\u001b[32m[I 2022-05-03 17:27:56,033]\u001b[0m Trial 3 finished with value: 0.26259878277778625 and parameters: {'WINDOW_SIZE': 29, 'HORIZON': 3, 'N_NEURONS': 512, 'N_STACKS': 10}. Best is trial 3 with value: 0.26259878277778625.\u001b[0m\n",
            "\u001b[32m[I 2022-05-03 17:28:20,166]\u001b[0m Trial 4 finished with value: 0.29002946615219116 and parameters: {'WINDOW_SIZE': 32, 'HORIZON': 3, 'N_NEURONS': 128, 'N_STACKS': 20}. Best is trial 3 with value: 0.26259878277778625.\u001b[0m\n",
            "\u001b[32m[I 2022-05-03 17:28:52,934]\u001b[0m Trial 5 finished with value: 0.318133145570755 and parameters: {'WINDOW_SIZE': 32, 'HORIZON': 5, 'N_NEURONS': 128, 'N_STACKS': 30}. Best is trial 3 with value: 0.26259878277778625.\u001b[0m\n",
            "\u001b[32m[I 2022-05-03 17:29:26,044]\u001b[0m Trial 6 finished with value: 0.29825127124786377 and parameters: {'WINDOW_SIZE': 26, 'HORIZON': 4, 'N_NEURONS': 128, 'N_STACKS': 40}. Best is trial 3 with value: 0.26259878277778625.\u001b[0m\n",
            "\u001b[32m[I 2022-05-03 17:29:36,830]\u001b[0m Trial 7 finished with value: 0.9353511333465576 and parameters: {'WINDOW_SIZE': 8, 'HORIZON': 1, 'N_NEURONS': 512, 'N_STACKS': 20}. Best is trial 3 with value: 0.26259878277778625.\u001b[0m\n",
            "\u001b[32m[I 2022-05-03 17:30:06,810]\u001b[0m Trial 8 finished with value: 0.43993428349494934 and parameters: {'WINDOW_SIZE': 29, 'HORIZON': 5, 'N_NEURONS': 128, 'N_STACKS': 10}. Best is trial 3 with value: 0.26259878277778625.\u001b[0m\n",
            "\u001b[32m[I 2022-05-03 17:31:03,863]\u001b[0m Trial 9 finished with value: 0.3942607343196869 and parameters: {'WINDOW_SIZE': 17, 'HORIZON': 4, 'N_NEURONS': 512, 'N_STACKS': 40}. Best is trial 3 with value: 0.26259878277778625.\u001b[0m\n"
          ]
        },
        {
          "output_type": "stream",
          "name": "stdout",
          "text": [
            "{'HORIZON': 3, 'N_NEURONS': 512, 'N_STACKS': 10, 'WINDOW_SIZE': 29}\n"
          ]
        },
        {
          "output_type": "stream",
          "name": "stderr",
          "text": [
            "\u001b[32m[I 2022-05-03 17:31:05,918]\u001b[0m A new study created in RDB with name: model_26\u001b[0m\n",
            "\u001b[32m[I 2022-05-03 17:31:25,352]\u001b[0m Trial 0 finished with value: 7.596617698669434 and parameters: {'WINDOW_SIZE': 23, 'HORIZON': 5, 'N_NEURONS': 256, 'N_STACKS': 30}. Best is trial 0 with value: 7.596617698669434.\u001b[0m\n",
            "\u001b[32m[I 2022-05-03 17:31:40,047]\u001b[0m Trial 1 finished with value: 25.065135955810547 and parameters: {'WINDOW_SIZE': 35, 'HORIZON': 1, 'N_NEURONS': 128, 'N_STACKS': 20}. Best is trial 0 with value: 7.596617698669434.\u001b[0m\n",
            "\u001b[32m[I 2022-05-03 17:32:03,388]\u001b[0m Trial 2 finished with value: 7.732648849487305 and parameters: {'WINDOW_SIZE': 23, 'HORIZON': 3, 'N_NEURONS': 128, 'N_STACKS': 30}. Best is trial 0 with value: 7.596617698669434.\u001b[0m\n",
            "\u001b[32m[I 2022-05-03 17:32:39,962]\u001b[0m Trial 3 finished with value: 6.673355579376221 and parameters: {'WINDOW_SIZE': 26, 'HORIZON': 2, 'N_NEURONS': 1024, 'N_STACKS': 30}. Best is trial 3 with value: 6.673355579376221.\u001b[0m\n",
            "\u001b[32m[I 2022-05-03 17:32:51,377]\u001b[0m Trial 4 finished with value: 7.066519737243652 and parameters: {'WINDOW_SIZE': 26, 'HORIZON': 4, 'N_NEURONS': 128, 'N_STACKS': 10}. Best is trial 3 with value: 6.673355579376221.\u001b[0m\n",
            "\u001b[32m[I 2022-05-03 17:33:09,103]\u001b[0m Trial 5 finished with value: 6.69329833984375 and parameters: {'WINDOW_SIZE': 11, 'HORIZON': 2, 'N_NEURONS': 256, 'N_STACKS': 20}. Best is trial 3 with value: 6.673355579376221.\u001b[0m\n",
            "\u001b[32m[I 2022-05-03 17:33:35,780]\u001b[0m Trial 6 finished with value: 7.191669940948486 and parameters: {'WINDOW_SIZE': 23, 'HORIZON': 5, 'N_NEURONS': 512, 'N_STACKS': 30}. Best is trial 3 with value: 6.673355579376221.\u001b[0m\n",
            "\u001b[32m[I 2022-05-03 17:34:31,313]\u001b[0m Trial 7 finished with value: 6.475408554077148 and parameters: {'WINDOW_SIZE': 35, 'HORIZON': 2, 'N_NEURONS': 1024, 'N_STACKS': 40}. Best is trial 7 with value: 6.475408554077148.\u001b[0m\n",
            "\u001b[32m[I 2022-05-03 17:34:50,719]\u001b[0m Trial 8 finished with value: 25.577144622802734 and parameters: {'WINDOW_SIZE': 8, 'HORIZON': 1, 'N_NEURONS': 512, 'N_STACKS': 20}. Best is trial 7 with value: 6.475408554077148.\u001b[0m\n",
            "\u001b[32m[I 2022-05-03 17:35:23,306]\u001b[0m Trial 9 finished with value: 25.7293758392334 and parameters: {'WINDOW_SIZE': 8, 'HORIZON': 1, 'N_NEURONS': 128, 'N_STACKS': 40}. Best is trial 7 with value: 6.475408554077148.\u001b[0m\n"
          ]
        },
        {
          "output_type": "stream",
          "name": "stdout",
          "text": [
            "{'HORIZON': 2, 'N_NEURONS': 1024, 'N_STACKS': 40, 'WINDOW_SIZE': 35}\n"
          ]
        },
        {
          "output_type": "stream",
          "name": "stderr",
          "text": [
            "\u001b[32m[I 2022-05-03 17:35:24,664]\u001b[0m A new study created in RDB with name: model_27\u001b[0m\n",
            "\u001b[32m[I 2022-05-03 17:35:34,462]\u001b[0m Trial 0 finished with value: 58.867103576660156 and parameters: {'WINDOW_SIZE': 35, 'HORIZON': 4, 'N_NEURONS': 128, 'N_STACKS': 20}. Best is trial 0 with value: 58.867103576660156.\u001b[0m\n",
            "\u001b[32m[I 2022-05-03 17:36:05,083]\u001b[0m Trial 1 finished with value: 156.2288360595703 and parameters: {'WINDOW_SIZE': 20, 'HORIZON': 1, 'N_NEURONS': 1024, 'N_STACKS': 40}. Best is trial 0 with value: 58.867103576660156.\u001b[0m\n",
            "\u001b[32m[I 2022-05-03 17:36:16,214]\u001b[0m Trial 2 finished with value: 139.0068817138672 and parameters: {'WINDOW_SIZE': 29, 'HORIZON': 1, 'N_NEURONS': 512, 'N_STACKS': 20}. Best is trial 0 with value: 58.867103576660156.\u001b[0m\n",
            "\u001b[32m[I 2022-05-03 17:36:30,694]\u001b[0m Trial 3 finished with value: 41.767513275146484 and parameters: {'WINDOW_SIZE': 11, 'HORIZON': 2, 'N_NEURONS': 256, 'N_STACKS': 30}. Best is trial 3 with value: 41.767513275146484.\u001b[0m\n",
            "\u001b[32m[I 2022-05-03 17:36:58,973]\u001b[0m Trial 4 finished with value: 149.85040283203125 and parameters: {'WINDOW_SIZE': 8, 'HORIZON': 1, 'N_NEURONS': 1024, 'N_STACKS': 40}. Best is trial 3 with value: 41.767513275146484.\u001b[0m\n",
            "\u001b[32m[I 2022-05-03 17:37:07,473]\u001b[0m Trial 5 finished with value: 40.89058303833008 and parameters: {'WINDOW_SIZE': 38, 'HORIZON': 2, 'N_NEURONS': 1024, 'N_STACKS': 10}. Best is trial 5 with value: 40.89058303833008.\u001b[0m\n",
            "\u001b[32m[I 2022-05-03 17:37:27,422]\u001b[0m Trial 6 finished with value: 43.125221252441406 and parameters: {'WINDOW_SIZE': 5, 'HORIZON': 2, 'N_NEURONS': 128, 'N_STACKS': 40}. Best is trial 5 with value: 40.89058303833008.\u001b[0m\n",
            "\u001b[32m[I 2022-05-03 17:37:40,931]\u001b[0m Trial 7 finished with value: 55.654052734375 and parameters: {'WINDOW_SIZE': 8, 'HORIZON': 5, 'N_NEURONS': 1024, 'N_STACKS': 20}. Best is trial 5 with value: 40.89058303833008.\u001b[0m\n",
            "\u001b[32m[I 2022-05-03 17:37:47,480]\u001b[0m Trial 8 finished with value: 43.244022369384766 and parameters: {'WINDOW_SIZE': 5, 'HORIZON': 2, 'N_NEURONS': 256, 'N_STACKS': 10}. Best is trial 5 with value: 40.89058303833008.\u001b[0m\n",
            "\u001b[32m[I 2022-05-03 17:38:02,560]\u001b[0m Trial 9 finished with value: 45.821353912353516 and parameters: {'WINDOW_SIZE': 11, 'HORIZON': 3, 'N_NEURONS': 1024, 'N_STACKS': 20}. Best is trial 5 with value: 40.89058303833008.\u001b[0m\n"
          ]
        },
        {
          "output_type": "stream",
          "name": "stdout",
          "text": [
            "{'HORIZON': 2, 'N_NEURONS': 1024, 'N_STACKS': 10, 'WINDOW_SIZE': 38}\n"
          ]
        },
        {
          "output_type": "stream",
          "name": "stderr",
          "text": [
            "\u001b[32m[I 2022-05-03 17:38:03,700]\u001b[0m A new study created in RDB with name: model_28\u001b[0m\n",
            "\u001b[32m[I 2022-05-03 17:39:13,926]\u001b[0m Trial 0 finished with value: 1.1004242897033691 and parameters: {'WINDOW_SIZE': 5, 'HORIZON': 5, 'N_NEURONS': 128, 'N_STACKS': 20}. Best is trial 0 with value: 1.1004242897033691.\u001b[0m\n",
            "\u001b[32m[I 2022-05-03 17:39:45,209]\u001b[0m Trial 1 finished with value: 0.6612207889556885 and parameters: {'WINDOW_SIZE': 35, 'HORIZON': 5, 'N_NEURONS': 256, 'N_STACKS': 10}. Best is trial 1 with value: 0.6612207889556885.\u001b[0m\n",
            "\u001b[32m[I 2022-05-03 17:40:17,255]\u001b[0m Trial 2 finished with value: 0.6217445135116577 and parameters: {'WINDOW_SIZE': 32, 'HORIZON': 3, 'N_NEURONS': 128, 'N_STACKS': 40}. Best is trial 2 with value: 0.6217445135116577.\u001b[0m\n",
            "\u001b[32m[I 2022-05-03 17:41:31,618]\u001b[0m Trial 3 finished with value: 0.3673192858695984 and parameters: {'WINDOW_SIZE': 14, 'HORIZON': 2, 'N_NEURONS': 1024, 'N_STACKS': 20}. Best is trial 3 with value: 0.3673192858695984.\u001b[0m\n",
            "\u001b[32m[I 2022-05-03 17:42:33,184]\u001b[0m Trial 4 finished with value: 0.516200840473175 and parameters: {'WINDOW_SIZE': 29, 'HORIZON': 3, 'N_NEURONS': 512, 'N_STACKS': 40}. Best is trial 3 with value: 0.3673192858695984.\u001b[0m\n",
            "\u001b[32m[I 2022-05-03 17:43:15,087]\u001b[0m Trial 5 finished with value: 0.647508442401886 and parameters: {'WINDOW_SIZE': 11, 'HORIZON': 5, 'N_NEURONS': 256, 'N_STACKS': 30}. Best is trial 3 with value: 0.3673192858695984.\u001b[0m\n",
            "\u001b[32m[I 2022-05-03 17:43:35,435]\u001b[0m Trial 6 finished with value: 0.6412138342857361 and parameters: {'WINDOW_SIZE': 29, 'HORIZON': 4, 'N_NEURONS': 256, 'N_STACKS': 10}. Best is trial 3 with value: 0.3673192858695984.\u001b[0m\n",
            "\u001b[32m[I 2022-05-03 17:46:22,422]\u001b[0m Trial 7 finished with value: 2.997415542602539 and parameters: {'WINDOW_SIZE': 32, 'HORIZON': 1, 'N_NEURONS': 1024, 'N_STACKS': 30}. Best is trial 3 with value: 0.3673192858695984.\u001b[0m\n",
            "\u001b[32m[I 2022-05-03 17:47:43,294]\u001b[0m Trial 8 finished with value: 3.0716381072998047 and parameters: {'WINDOW_SIZE': 17, 'HORIZON': 1, 'N_NEURONS': 256, 'N_STACKS': 40}. Best is trial 3 with value: 0.3673192858695984.\u001b[0m\n",
            "\u001b[32m[I 2022-05-03 17:48:28,615]\u001b[0m Trial 9 finished with value: 0.5994859933853149 and parameters: {'WINDOW_SIZE': 17, 'HORIZON': 5, 'N_NEURONS': 256, 'N_STACKS': 20}. Best is trial 3 with value: 0.3673192858695984.\u001b[0m\n"
          ]
        },
        {
          "output_type": "stream",
          "name": "stdout",
          "text": [
            "{'HORIZON': 2, 'N_NEURONS': 1024, 'N_STACKS': 20, 'WINDOW_SIZE': 14}\n"
          ]
        },
        {
          "output_type": "stream",
          "name": "stderr",
          "text": [
            "\u001b[32m[I 2022-05-03 17:48:29,610]\u001b[0m A new study created in RDB with name: model_29\u001b[0m\n",
            "\u001b[32m[I 2022-05-03 17:49:09,199]\u001b[0m Trial 0 finished with value: 354.78411865234375 and parameters: {'WINDOW_SIZE': 8, 'HORIZON': 1, 'N_NEURONS': 1024, 'N_STACKS': 40}. Best is trial 0 with value: 354.78411865234375.\u001b[0m\n",
            "\u001b[32m[I 2022-05-03 17:49:45,742]\u001b[0m Trial 1 finished with value: 6.8299455642700195 and parameters: {'WINDOW_SIZE': 14, 'HORIZON': 3, 'N_NEURONS': 1024, 'N_STACKS': 30}. Best is trial 1 with value: 6.8299455642700195.\u001b[0m\n",
            "\u001b[32m[I 2022-05-03 17:50:23,530]\u001b[0m Trial 2 finished with value: 6.944554805755615 and parameters: {'WINDOW_SIZE': 26, 'HORIZON': 5, 'N_NEURONS': 512, 'N_STACKS': 40}. Best is trial 1 with value: 6.8299455642700195.\u001b[0m\n",
            "\u001b[32m[I 2022-05-03 17:51:12,160]\u001b[0m Trial 3 finished with value: 352.1007995605469 and parameters: {'WINDOW_SIZE': 5, 'HORIZON': 1, 'N_NEURONS': 1024, 'N_STACKS': 40}. Best is trial 1 with value: 6.8299455642700195.\u001b[0m\n",
            "\u001b[32m[I 2022-05-03 17:51:46,815]\u001b[0m Trial 4 finished with value: 6.080897331237793 and parameters: {'WINDOW_SIZE': 29, 'HORIZON': 3, 'N_NEURONS': 1024, 'N_STACKS': 30}. Best is trial 4 with value: 6.080897331237793.\u001b[0m\n",
            "\u001b[32m[I 2022-05-03 17:52:01,950]\u001b[0m Trial 5 finished with value: 8.810657501220703 and parameters: {'WINDOW_SIZE': 11, 'HORIZON': 5, 'N_NEURONS': 256, 'N_STACKS': 20}. Best is trial 4 with value: 6.080897331237793.\u001b[0m\n",
            "\u001b[32m[I 2022-05-03 17:52:29,913]\u001b[0m Trial 6 finished with value: 9.527884483337402 and parameters: {'WINDOW_SIZE': 8, 'HORIZON': 4, 'N_NEURONS': 1024, 'N_STACKS': 20}. Best is trial 4 with value: 6.080897331237793.\u001b[0m\n",
            "\u001b[32m[I 2022-05-03 17:52:44,778]\u001b[0m Trial 7 finished with value: 355.36322021484375 and parameters: {'WINDOW_SIZE': 20, 'HORIZON': 1, 'N_NEURONS': 512, 'N_STACKS': 20}. Best is trial 4 with value: 6.080897331237793.\u001b[0m\n",
            "\u001b[32m[I 2022-05-03 17:53:11,569]\u001b[0m Trial 8 finished with value: 7.034636974334717 and parameters: {'WINDOW_SIZE': 38, 'HORIZON': 4, 'N_NEURONS': 512, 'N_STACKS': 30}. Best is trial 4 with value: 6.080897331237793.\u001b[0m\n",
            "\u001b[32m[I 2022-05-03 17:53:34,943]\u001b[0m Trial 9 finished with value: 7.254694938659668 and parameters: {'WINDOW_SIZE': 20, 'HORIZON': 5, 'N_NEURONS': 1024, 'N_STACKS': 20}. Best is trial 4 with value: 6.080897331237793.\u001b[0m\n"
          ]
        },
        {
          "output_type": "stream",
          "name": "stdout",
          "text": [
            "{'HORIZON': 3, 'N_NEURONS': 1024, 'N_STACKS': 30, 'WINDOW_SIZE': 29}\n"
          ]
        },
        {
          "output_type": "stream",
          "name": "stderr",
          "text": [
            "\u001b[32m[I 2022-05-03 17:53:36,089]\u001b[0m A new study created in RDB with name: model_30\u001b[0m\n",
            "\u001b[32m[I 2022-05-03 17:53:42,298]\u001b[0m Trial 0 finished with value: 6.247832298278809 and parameters: {'WINDOW_SIZE': 35, 'HORIZON': 1, 'N_NEURONS': 512, 'N_STACKS': 10}. Best is trial 0 with value: 6.247832298278809.\u001b[0m\n",
            "\u001b[32m[I 2022-05-03 17:53:58,999]\u001b[0m Trial 1 finished with value: 4.030544757843018 and parameters: {'WINDOW_SIZE': 17, 'HORIZON': 2, 'N_NEURONS': 128, 'N_STACKS': 30}. Best is trial 1 with value: 4.030544757843018.\u001b[0m\n",
            "\u001b[32m[I 2022-05-03 17:54:06,540]\u001b[0m Trial 2 finished with value: 3.205853223800659 and parameters: {'WINDOW_SIZE': 35, 'HORIZON': 5, 'N_NEURONS': 128, 'N_STACKS': 10}. Best is trial 2 with value: 3.205853223800659.\u001b[0m\n",
            "\u001b[32m[I 2022-05-03 17:54:22,132]\u001b[0m Trial 3 finished with value: 3.3112502098083496 and parameters: {'WINDOW_SIZE': 35, 'HORIZON': 5, 'N_NEURONS': 1024, 'N_STACKS': 20}. Best is trial 2 with value: 3.205853223800659.\u001b[0m\n",
            "\u001b[32m[I 2022-05-03 17:54:39,979]\u001b[0m Trial 4 finished with value: 3.986090660095215 and parameters: {'WINDOW_SIZE': 32, 'HORIZON': 2, 'N_NEURONS': 128, 'N_STACKS': 30}. Best is trial 2 with value: 3.205853223800659.\u001b[0m\n",
            "\u001b[32m[I 2022-05-03 17:54:55,071]\u001b[0m Trial 5 finished with value: 4.0451555252075195 and parameters: {'WINDOW_SIZE': 11, 'HORIZON': 2, 'N_NEURONS': 1024, 'N_STACKS': 20}. Best is trial 2 with value: 3.205853223800659.\u001b[0m\n",
            "\u001b[32m[I 2022-05-03 17:55:24,430]\u001b[0m Trial 6 finished with value: 6.275275707244873 and parameters: {'WINDOW_SIZE': 20, 'HORIZON': 1, 'N_NEURONS': 1024, 'N_STACKS': 40}. Best is trial 2 with value: 3.205853223800659.\u001b[0m\n",
            "\u001b[32m[I 2022-05-03 17:55:37,885]\u001b[0m Trial 7 finished with value: 3.5705692768096924 and parameters: {'WINDOW_SIZE': 35, 'HORIZON': 2, 'N_NEURONS': 1024, 'N_STACKS': 20}. Best is trial 2 with value: 3.205853223800659.\u001b[0m\n",
            "\u001b[32m[I 2022-05-03 17:56:02,284]\u001b[0m Trial 8 finished with value: 3.5696730613708496 and parameters: {'WINDOW_SIZE': 32, 'HORIZON': 3, 'N_NEURONS': 256, 'N_STACKS': 40}. Best is trial 2 with value: 3.205853223800659.\u001b[0m\n",
            "\u001b[32m[I 2022-05-03 17:56:25,854]\u001b[0m Trial 9 finished with value: 6.567140579223633 and parameters: {'WINDOW_SIZE': 38, 'HORIZON': 1, 'N_NEURONS': 512, 'N_STACKS': 40}. Best is trial 2 with value: 3.205853223800659.\u001b[0m\n"
          ]
        },
        {
          "output_type": "stream",
          "name": "stdout",
          "text": [
            "{'HORIZON': 5, 'N_NEURONS': 128, 'N_STACKS': 10, 'WINDOW_SIZE': 35}\n"
          ]
        },
        {
          "output_type": "stream",
          "name": "stderr",
          "text": [
            "\u001b[32m[I 2022-05-03 17:56:27,280]\u001b[0m A new study created in RDB with name: model_31\u001b[0m\n",
            "\u001b[32m[I 2022-05-03 17:56:37,472]\u001b[0m Trial 0 finished with value: 0.3483784794807434 and parameters: {'WINDOW_SIZE': 35, 'HORIZON': 4, 'N_NEURONS': 128, 'N_STACKS': 10}. Best is trial 0 with value: 0.3483784794807434.\u001b[0m\n",
            "\u001b[32m[I 2022-05-03 17:56:58,187]\u001b[0m Trial 1 finished with value: 0.2407907247543335 and parameters: {'WINDOW_SIZE': 32, 'HORIZON': 2, 'N_NEURONS': 1024, 'N_STACKS': 20}. Best is trial 1 with value: 0.2407907247543335.\u001b[0m\n",
            "\u001b[32m[I 2022-05-03 17:58:29,844]\u001b[0m Trial 2 finished with value: 0.6110610961914062 and parameters: {'WINDOW_SIZE': 35, 'HORIZON': 1, 'N_NEURONS': 1024, 'N_STACKS': 40}. Best is trial 1 with value: 0.2407907247543335.\u001b[0m\n",
            "\u001b[32m[I 2022-05-03 17:58:58,755]\u001b[0m Trial 3 finished with value: 0.6072216629981995 and parameters: {'WINDOW_SIZE': 11, 'HORIZON': 1, 'N_NEURONS': 512, 'N_STACKS': 40}. Best is trial 1 with value: 0.2407907247543335.\u001b[0m\n",
            "\u001b[32m[I 2022-05-03 17:59:27,289]\u001b[0m Trial 4 finished with value: 0.21485461294651031 and parameters: {'WINDOW_SIZE': 38, 'HORIZON': 2, 'N_NEURONS': 128, 'N_STACKS': 30}. Best is trial 4 with value: 0.21485461294651031.\u001b[0m\n",
            "\u001b[32m[I 2022-05-03 18:00:47,283]\u001b[0m Trial 5 finished with value: 0.2534947693347931 and parameters: {'WINDOW_SIZE': 35, 'HORIZON': 5, 'N_NEURONS': 512, 'N_STACKS': 40}. Best is trial 4 with value: 0.21485461294651031.\u001b[0m\n",
            "\u001b[32m[I 2022-05-03 18:02:38,785]\u001b[0m Trial 6 finished with value: 0.176045224070549 and parameters: {'WINDOW_SIZE': 23, 'HORIZON': 2, 'N_NEURONS': 1024, 'N_STACKS': 30}. Best is trial 6 with value: 0.176045224070549.\u001b[0m\n",
            "\u001b[32m[I 2022-05-03 18:03:25,818]\u001b[0m Trial 7 finished with value: 0.2142602950334549 and parameters: {'WINDOW_SIZE': 20, 'HORIZON': 3, 'N_NEURONS': 256, 'N_STACKS': 40}. Best is trial 6 with value: 0.176045224070549.\u001b[0m\n",
            "\u001b[32m[I 2022-05-03 18:05:15,731]\u001b[0m Trial 8 finished with value: 0.20537027716636658 and parameters: {'WINDOW_SIZE': 29, 'HORIZON': 3, 'N_NEURONS': 1024, 'N_STACKS': 40}. Best is trial 6 with value: 0.176045224070549.\u001b[0m\n",
            "\u001b[32m[I 2022-05-03 18:05:45,270]\u001b[0m Trial 9 finished with value: 0.2576618790626526 and parameters: {'WINDOW_SIZE': 38, 'HORIZON': 3, 'N_NEURONS': 256, 'N_STACKS': 20}. Best is trial 6 with value: 0.176045224070549.\u001b[0m\n"
          ]
        },
        {
          "output_type": "stream",
          "name": "stdout",
          "text": [
            "{'HORIZON': 2, 'N_NEURONS': 1024, 'N_STACKS': 30, 'WINDOW_SIZE': 23}\n"
          ]
        },
        {
          "output_type": "stream",
          "name": "stderr",
          "text": [
            "\u001b[32m[I 2022-05-03 18:05:46,383]\u001b[0m A new study created in RDB with name: model_32\u001b[0m\n",
            "\u001b[32m[I 2022-05-03 18:06:07,765]\u001b[0m Trial 0 finished with value: 6.201539516448975 and parameters: {'WINDOW_SIZE': 11, 'HORIZON': 5, 'N_NEURONS': 128, 'N_STACKS': 20}. Best is trial 0 with value: 6.201539516448975.\u001b[0m\n",
            "\u001b[32m[I 2022-05-03 18:06:15,509]\u001b[0m Trial 1 finished with value: 6.399641036987305 and parameters: {'WINDOW_SIZE': 26, 'HORIZON': 3, 'N_NEURONS': 128, 'N_STACKS': 10}. Best is trial 0 with value: 6.201539516448975.\u001b[0m\n",
            "\u001b[32m[I 2022-05-03 18:06:29,286]\u001b[0m Trial 2 finished with value: 8.884419441223145 and parameters: {'WINDOW_SIZE': 5, 'HORIZON': 4, 'N_NEURONS': 512, 'N_STACKS': 10}. Best is trial 0 with value: 6.201539516448975.\u001b[0m\n",
            "\u001b[32m[I 2022-05-03 18:06:37,660]\u001b[0m Trial 3 finished with value: 5.92648983001709 and parameters: {'WINDOW_SIZE': 5, 'HORIZON': 2, 'N_NEURONS': 256, 'N_STACKS': 10}. Best is trial 3 with value: 5.92648983001709.\u001b[0m\n",
            "\u001b[32m[I 2022-05-03 18:06:47,743]\u001b[0m Trial 4 finished with value: 5.0243072509765625 and parameters: {'WINDOW_SIZE': 8, 'HORIZON': 2, 'N_NEURONS': 128, 'N_STACKS': 10}. Best is trial 4 with value: 5.0243072509765625.\u001b[0m\n",
            "\u001b[32m[I 2022-05-03 18:07:15,852]\u001b[0m Trial 5 finished with value: 5.88518762588501 and parameters: {'WINDOW_SIZE': 17, 'HORIZON': 2, 'N_NEURONS': 256, 'N_STACKS': 40}. Best is trial 4 with value: 5.0243072509765625.\u001b[0m\n",
            "\u001b[32m[I 2022-05-03 18:07:33,065]\u001b[0m Trial 6 finished with value: 5.207295894622803 and parameters: {'WINDOW_SIZE': 8, 'HORIZON': 2, 'N_NEURONS': 256, 'N_STACKS': 20}. Best is trial 4 with value: 5.0243072509765625.\u001b[0m\n",
            "\u001b[32m[I 2022-05-03 18:07:43,378]\u001b[0m Trial 7 finished with value: 5.489480972290039 and parameters: {'WINDOW_SIZE': 26, 'HORIZON': 5, 'N_NEURONS': 256, 'N_STACKS': 10}. Best is trial 4 with value: 5.0243072509765625.\u001b[0m\n",
            "\u001b[32m[I 2022-05-03 18:07:57,864]\u001b[0m Trial 8 finished with value: 7.523508548736572 and parameters: {'WINDOW_SIZE': 38, 'HORIZON': 2, 'N_NEURONS': 256, 'N_STACKS': 20}. Best is trial 4 with value: 5.0243072509765625.\u001b[0m\n",
            "\u001b[32m[I 2022-05-03 18:08:34,311]\u001b[0m Trial 9 finished with value: 7.040533065795898 and parameters: {'WINDOW_SIZE': 8, 'HORIZON': 4, 'N_NEURONS': 512, 'N_STACKS': 40}. Best is trial 4 with value: 5.0243072509765625.\u001b[0m\n"
          ]
        },
        {
          "output_type": "stream",
          "name": "stdout",
          "text": [
            "{'HORIZON': 2, 'N_NEURONS': 128, 'N_STACKS': 10, 'WINDOW_SIZE': 8}\n"
          ]
        },
        {
          "output_type": "stream",
          "name": "stderr",
          "text": [
            "\u001b[32m[I 2022-05-03 18:08:35,734]\u001b[0m A new study created in RDB with name: model_33\u001b[0m\n",
            "\u001b[32m[I 2022-05-03 18:09:05,221]\u001b[0m Trial 0 finished with value: 2.9328694343566895 and parameters: {'WINDOW_SIZE': 26, 'HORIZON': 4, 'N_NEURONS': 512, 'N_STACKS': 40}. Best is trial 0 with value: 2.9328694343566895.\u001b[0m\n",
            "\u001b[32m[I 2022-05-03 18:09:28,164]\u001b[0m Trial 1 finished with value: 2.999377965927124 and parameters: {'WINDOW_SIZE': 29, 'HORIZON': 5, 'N_NEURONS': 256, 'N_STACKS': 40}. Best is trial 0 with value: 2.9328694343566895.\u001b[0m\n",
            "\u001b[32m[I 2022-05-03 18:09:39,015]\u001b[0m Trial 2 finished with value: 2.8233492374420166 and parameters: {'WINDOW_SIZE': 38, 'HORIZON': 4, 'N_NEURONS': 256, 'N_STACKS': 10}. Best is trial 2 with value: 2.8233492374420166.\u001b[0m\n",
            "\u001b[32m[I 2022-05-03 18:10:01,641]\u001b[0m Trial 3 finished with value: 2.9463300704956055 and parameters: {'WINDOW_SIZE': 29, 'HORIZON': 5, 'N_NEURONS': 1024, 'N_STACKS': 30}. Best is trial 2 with value: 2.8233492374420166.\u001b[0m\n",
            "\u001b[32m[I 2022-05-03 18:10:16,996]\u001b[0m Trial 4 finished with value: 3.0351202487945557 and parameters: {'WINDOW_SIZE': 8, 'HORIZON': 3, 'N_NEURONS': 512, 'N_STACKS': 20}. Best is trial 2 with value: 2.8233492374420166.\u001b[0m\n",
            "\u001b[32m[I 2022-05-03 18:10:28,648]\u001b[0m Trial 5 finished with value: 3.419884443283081 and parameters: {'WINDOW_SIZE': 5, 'HORIZON': 1, 'N_NEURONS': 512, 'N_STACKS': 20}. Best is trial 2 with value: 2.8233492374420166.\u001b[0m\n",
            "\u001b[32m[I 2022-05-03 18:10:41,419]\u001b[0m Trial 6 finished with value: 2.992098331451416 and parameters: {'WINDOW_SIZE': 14, 'HORIZON': 3, 'N_NEURONS': 256, 'N_STACKS': 20}. Best is trial 2 with value: 2.8233492374420166.\u001b[0m\n",
            "\u001b[32m[I 2022-05-03 18:11:10,488]\u001b[0m Trial 7 finished with value: 3.0256032943725586 and parameters: {'WINDOW_SIZE': 23, 'HORIZON': 5, 'N_NEURONS': 128, 'N_STACKS': 40}. Best is trial 2 with value: 2.8233492374420166.\u001b[0m\n",
            "\u001b[32m[I 2022-05-03 18:11:31,713]\u001b[0m Trial 8 finished with value: 2.9558825492858887 and parameters: {'WINDOW_SIZE': 38, 'HORIZON': 5, 'N_NEURONS': 512, 'N_STACKS': 30}. Best is trial 2 with value: 2.8233492374420166.\u001b[0m\n",
            "\u001b[32m[I 2022-05-03 18:11:39,139]\u001b[0m Trial 9 finished with value: 3.192962884902954 and parameters: {'WINDOW_SIZE': 14, 'HORIZON': 5, 'N_NEURONS': 128, 'N_STACKS': 10}. Best is trial 2 with value: 2.8233492374420166.\u001b[0m\n"
          ]
        },
        {
          "output_type": "stream",
          "name": "stdout",
          "text": [
            "{'HORIZON': 4, 'N_NEURONS': 256, 'N_STACKS': 10, 'WINDOW_SIZE': 38}\n"
          ]
        },
        {
          "output_type": "stream",
          "name": "stderr",
          "text": [
            "\u001b[32m[I 2022-05-03 18:11:40,359]\u001b[0m A new study created in RDB with name: model_34\u001b[0m\n",
            "\u001b[32m[I 2022-05-03 18:12:31,034]\u001b[0m Trial 0 finished with value: 1.0285851955413818 and parameters: {'WINDOW_SIZE': 38, 'HORIZON': 4, 'N_NEURONS': 512, 'N_STACKS': 40}. Best is trial 0 with value: 1.0285851955413818.\u001b[0m\n",
            "\u001b[32m[I 2022-05-03 18:13:02,193]\u001b[0m Trial 1 finished with value: 0.9748371839523315 and parameters: {'WINDOW_SIZE': 32, 'HORIZON': 5, 'N_NEURONS': 512, 'N_STACKS': 40}. Best is trial 1 with value: 0.9748371839523315.\u001b[0m\n",
            "\u001b[32m[I 2022-05-03 18:14:50,467]\u001b[0m Trial 2 finished with value: 0.38725540041923523 and parameters: {'WINDOW_SIZE': 5, 'HORIZON': 4, 'N_NEURONS': 256, 'N_STACKS': 20}. Best is trial 2 with value: 0.38725540041923523.\u001b[0m\n",
            "\u001b[32m[I 2022-05-03 18:15:00,088]\u001b[0m Trial 3 finished with value: 1.0198715925216675 and parameters: {'WINDOW_SIZE': 35, 'HORIZON': 4, 'N_NEURONS': 512, 'N_STACKS': 10}. Best is trial 2 with value: 0.38725540041923523.\u001b[0m\n",
            "\u001b[32m[I 2022-05-03 18:15:34,275]\u001b[0m Trial 4 finished with value: 0.7212560772895813 and parameters: {'WINDOW_SIZE': 20, 'HORIZON': 4, 'N_NEURONS': 256, 'N_STACKS': 40}. Best is trial 2 with value: 0.38725540041923523.\u001b[0m\n",
            "\u001b[32m[I 2022-05-03 18:17:24,023]\u001b[0m Trial 5 finished with value: 0.4829726815223694 and parameters: {'WINDOW_SIZE': 20, 'HORIZON': 2, 'N_NEURONS': 512, 'N_STACKS': 40}. Best is trial 2 with value: 0.38725540041923523.\u001b[0m\n",
            "\u001b[32m[I 2022-05-03 18:17:33,231]\u001b[0m Trial 6 finished with value: 0.889647364616394 and parameters: {'WINDOW_SIZE': 26, 'HORIZON': 3, 'N_NEURONS': 512, 'N_STACKS': 10}. Best is trial 2 with value: 0.38725540041923523.\u001b[0m\n",
            "\u001b[32m[I 2022-05-03 18:18:10,365]\u001b[0m Trial 7 finished with value: 2.424412250518799 and parameters: {'WINDOW_SIZE': 11, 'HORIZON': 1, 'N_NEURONS': 128, 'N_STACKS': 10}. Best is trial 2 with value: 0.38725540041923523.\u001b[0m\n",
            "\u001b[32m[I 2022-05-03 18:18:47,120]\u001b[0m Trial 8 finished with value: 2.2772514820098877 and parameters: {'WINDOW_SIZE': 32, 'HORIZON': 1, 'N_NEURONS': 512, 'N_STACKS': 20}. Best is trial 2 with value: 0.38725540041923523.\u001b[0m\n",
            "\u001b[32m[I 2022-05-03 18:19:18,547]\u001b[0m Trial 9 finished with value: 0.6729416251182556 and parameters: {'WINDOW_SIZE': 17, 'HORIZON': 4, 'N_NEURONS': 256, 'N_STACKS': 20}. Best is trial 2 with value: 0.38725540041923523.\u001b[0m\n"
          ]
        },
        {
          "output_type": "stream",
          "name": "stdout",
          "text": [
            "{'HORIZON': 4, 'N_NEURONS': 256, 'N_STACKS': 20, 'WINDOW_SIZE': 5}\n"
          ]
        },
        {
          "output_type": "stream",
          "name": "stderr",
          "text": [
            "\u001b[32m[I 2022-05-03 18:19:19,647]\u001b[0m A new study created in RDB with name: model_35\u001b[0m\n",
            "\u001b[32m[I 2022-05-03 18:21:00,965]\u001b[0m Trial 0 finished with value: 2.45923113822937 and parameters: {'WINDOW_SIZE': 14, 'HORIZON': 1, 'N_NEURONS': 256, 'N_STACKS': 40}. Best is trial 0 with value: 2.45923113822937.\u001b[0m\n",
            "\u001b[32m[I 2022-05-03 18:22:27,614]\u001b[0m Trial 1 finished with value: 0.7237467169761658 and parameters: {'WINDOW_SIZE': 17, 'HORIZON': 5, 'N_NEURONS': 256, 'N_STACKS': 30}. Best is trial 1 with value: 0.7237467169761658.\u001b[0m\n",
            "\u001b[32m[I 2022-05-03 18:22:42,493]\u001b[0m Trial 2 finished with value: 0.8941636085510254 and parameters: {'WINDOW_SIZE': 23, 'HORIZON': 3, 'N_NEURONS': 128, 'N_STACKS': 20}. Best is trial 1 with value: 0.7237467169761658.\u001b[0m\n",
            "\u001b[32m[I 2022-05-03 18:23:05,865]\u001b[0m Trial 3 finished with value: 0.8278038501739502 and parameters: {'WINDOW_SIZE': 38, 'HORIZON': 2, 'N_NEURONS': 128, 'N_STACKS': 30}. Best is trial 1 with value: 0.7237467169761658.\u001b[0m\n",
            "\u001b[32m[I 2022-05-03 18:23:12,406]\u001b[0m Trial 4 finished with value: 0.7253806591033936 and parameters: {'WINDOW_SIZE': 5, 'HORIZON': 2, 'N_NEURONS': 128, 'N_STACKS': 10}. Best is trial 1 with value: 0.7237467169761658.\u001b[0m\n",
            "\u001b[32m[I 2022-05-03 18:23:28,454]\u001b[0m Trial 5 finished with value: 1.0361554622650146 and parameters: {'WINDOW_SIZE': 29, 'HORIZON': 5, 'N_NEURONS': 256, 'N_STACKS': 20}. Best is trial 1 with value: 0.7237467169761658.\u001b[0m\n",
            "\u001b[32m[I 2022-05-03 18:25:09,816]\u001b[0m Trial 6 finished with value: 0.5403996706008911 and parameters: {'WINDOW_SIZE': 5, 'HORIZON': 4, 'N_NEURONS': 512, 'N_STACKS': 40}. Best is trial 6 with value: 0.5403996706008911.\u001b[0m\n",
            "\u001b[32m[I 2022-05-03 18:25:24,594]\u001b[0m Trial 7 finished with value: 2.259619951248169 and parameters: {'WINDOW_SIZE': 38, 'HORIZON': 1, 'N_NEURONS': 512, 'N_STACKS': 20}. Best is trial 6 with value: 0.5403996706008911.\u001b[0m\n",
            "\u001b[32m[I 2022-05-03 18:26:16,177]\u001b[0m Trial 8 finished with value: 0.593428373336792 and parameters: {'WINDOW_SIZE': 23, 'HORIZON': 2, 'N_NEURONS': 256, 'N_STACKS': 10}. Best is trial 6 with value: 0.5403996706008911.\u001b[0m\n",
            "\u001b[32m[I 2022-05-03 18:27:14,531]\u001b[0m Trial 9 finished with value: 0.5437178611755371 and parameters: {'WINDOW_SIZE': 8, 'HORIZON': 4, 'N_NEURONS': 1024, 'N_STACKS': 10}. Best is trial 6 with value: 0.5403996706008911.\u001b[0m\n"
          ]
        },
        {
          "output_type": "stream",
          "name": "stdout",
          "text": [
            "{'HORIZON': 4, 'N_NEURONS': 512, 'N_STACKS': 40, 'WINDOW_SIZE': 5}\n"
          ]
        },
        {
          "output_type": "stream",
          "name": "stderr",
          "text": [
            "\u001b[32m[I 2022-05-03 18:27:15,519]\u001b[0m A new study created in RDB with name: model_36\u001b[0m\n",
            "\u001b[32m[I 2022-05-03 18:27:31,693]\u001b[0m Trial 0 finished with value: 2.3582708835601807 and parameters: {'WINDOW_SIZE': 8, 'HORIZON': 4, 'N_NEURONS': 256, 'N_STACKS': 10}. Best is trial 0 with value: 2.3582708835601807.\u001b[0m\n",
            "\u001b[32m[I 2022-05-03 18:27:53,565]\u001b[0m Trial 1 finished with value: 2.671207904815674 and parameters: {'WINDOW_SIZE': 8, 'HORIZON': 5, 'N_NEURONS': 128, 'N_STACKS': 10}. Best is trial 0 with value: 2.3582708835601807.\u001b[0m\n",
            "\u001b[32m[I 2022-05-03 18:28:16,031]\u001b[0m Trial 2 finished with value: 2.173818826675415 and parameters: {'WINDOW_SIZE': 11, 'HORIZON': 3, 'N_NEURONS': 512, 'N_STACKS': 20}. Best is trial 2 with value: 2.173818826675415.\u001b[0m\n",
            "\u001b[32m[I 2022-05-03 18:28:52,847]\u001b[0m Trial 3 finished with value: 2.076028347015381 and parameters: {'WINDOW_SIZE': 38, 'HORIZON': 5, 'N_NEURONS': 1024, 'N_STACKS': 40}. Best is trial 3 with value: 2.076028347015381.\u001b[0m\n",
            "\u001b[32m[I 2022-05-03 18:29:08,078]\u001b[0m Trial 4 finished with value: 3.3069379329681396 and parameters: {'WINDOW_SIZE': 5, 'HORIZON': 2, 'N_NEURONS': 256, 'N_STACKS': 30}. Best is trial 3 with value: 2.076028347015381.\u001b[0m\n",
            "\u001b[32m[I 2022-05-03 18:29:36,316]\u001b[0m Trial 5 finished with value: 1.9266990423202515 and parameters: {'WINDOW_SIZE': 26, 'HORIZON': 4, 'N_NEURONS': 512, 'N_STACKS': 40}. Best is trial 5 with value: 1.9266990423202515.\u001b[0m\n",
            "\u001b[32m[I 2022-05-03 18:29:51,359]\u001b[0m Trial 6 finished with value: 12.582663536071777 and parameters: {'WINDOW_SIZE': 26, 'HORIZON': 1, 'N_NEURONS': 512, 'N_STACKS': 20}. Best is trial 5 with value: 1.9266990423202515.\u001b[0m\n",
            "\u001b[32m[I 2022-05-03 18:30:20,028]\u001b[0m Trial 7 finished with value: 2.0443201065063477 and parameters: {'WINDOW_SIZE': 38, 'HORIZON': 4, 'N_NEURONS': 1024, 'N_STACKS': 30}. Best is trial 5 with value: 1.9266990423202515.\u001b[0m\n",
            "\u001b[32m[I 2022-05-03 18:30:49,453]\u001b[0m Trial 8 finished with value: 12.678986549377441 and parameters: {'WINDOW_SIZE': 17, 'HORIZON': 1, 'N_NEURONS': 512, 'N_STACKS': 40}. Best is trial 5 with value: 1.9266990423202515.\u001b[0m\n",
            "\u001b[32m[I 2022-05-03 18:30:57,792]\u001b[0m Trial 9 finished with value: 1.979514479637146 and parameters: {'WINDOW_SIZE': 20, 'HORIZON': 5, 'N_NEURONS': 512, 'N_STACKS': 10}. Best is trial 5 with value: 1.9266990423202515.\u001b[0m\n"
          ]
        },
        {
          "output_type": "stream",
          "name": "stdout",
          "text": [
            "{'HORIZON': 4, 'N_NEURONS': 512, 'N_STACKS': 40, 'WINDOW_SIZE': 26}\n"
          ]
        },
        {
          "output_type": "stream",
          "name": "stderr",
          "text": [
            "\u001b[32m[I 2022-05-03 18:30:58,890]\u001b[0m A new study created in RDB with name: model_37\u001b[0m\n",
            "\u001b[32m[I 2022-05-03 18:31:48,578]\u001b[0m Trial 0 finished with value: 0.15055260062217712 and parameters: {'WINDOW_SIZE': 38, 'HORIZON': 5, 'N_NEURONS': 512, 'N_STACKS': 40}. Best is trial 0 with value: 0.15055260062217712.\u001b[0m\n",
            "\u001b[32m[I 2022-05-03 18:32:19,146]\u001b[0m Trial 1 finished with value: 0.17585347592830658 and parameters: {'WINDOW_SIZE': 32, 'HORIZON': 4, 'N_NEURONS': 512, 'N_STACKS': 20}. Best is trial 0 with value: 0.15055260062217712.\u001b[0m\n",
            "\u001b[32m[I 2022-05-03 18:33:56,434]\u001b[0m Trial 2 finished with value: 0.4575757384300232 and parameters: {'WINDOW_SIZE': 11, 'HORIZON': 4, 'N_NEURONS': 256, 'N_STACKS': 40}. Best is trial 0 with value: 0.15055260062217712.\u001b[0m\n",
            "\u001b[32m[I 2022-05-03 18:34:48,066]\u001b[0m Trial 3 finished with value: 0.5689352750778198 and parameters: {'WINDOW_SIZE': 8, 'HORIZON': 5, 'N_NEURONS': 128, 'N_STACKS': 20}. Best is trial 0 with value: 0.15055260062217712.\u001b[0m\n",
            "\u001b[32m[I 2022-05-03 18:35:30,259]\u001b[0m Trial 4 finished with value: 0.3550560176372528 and parameters: {'WINDOW_SIZE': 14, 'HORIZON': 3, 'N_NEURONS': 512, 'N_STACKS': 10}. Best is trial 0 with value: 0.15055260062217712.\u001b[0m\n",
            "\u001b[32m[I 2022-05-03 18:36:40,624]\u001b[0m Trial 5 finished with value: 1.1611027717590332 and parameters: {'WINDOW_SIZE': 14, 'HORIZON': 1, 'N_NEURONS': 1024, 'N_STACKS': 30}. Best is trial 0 with value: 0.15055260062217712.\u001b[0m\n",
            "\u001b[32m[I 2022-05-03 18:37:10,907]\u001b[0m Trial 6 finished with value: 0.369457870721817 and parameters: {'WINDOW_SIZE': 14, 'HORIZON': 3, 'N_NEURONS': 512, 'N_STACKS': 10}. Best is trial 0 with value: 0.15055260062217712.\u001b[0m\n",
            "\u001b[32m[I 2022-05-03 18:37:34,291]\u001b[0m Trial 7 finished with value: 0.199491485953331 and parameters: {'WINDOW_SIZE': 29, 'HORIZON': 4, 'N_NEURONS': 256, 'N_STACKS': 30}. Best is trial 0 with value: 0.15055260062217712.\u001b[0m\n",
            "\u001b[32m[I 2022-05-03 18:38:32,354]\u001b[0m Trial 8 finished with value: 0.3026546835899353 and parameters: {'WINDOW_SIZE': 14, 'HORIZON': 2, 'N_NEURONS': 256, 'N_STACKS': 40}. Best is trial 0 with value: 0.15055260062217712.\u001b[0m\n",
            "\u001b[32m[I 2022-05-03 18:39:36,592]\u001b[0m Trial 9 finished with value: 0.28959089517593384 and parameters: {'WINDOW_SIZE': 17, 'HORIZON': 4, 'N_NEURONS': 1024, 'N_STACKS': 10}. Best is trial 0 with value: 0.15055260062217712.\u001b[0m\n"
          ]
        },
        {
          "output_type": "stream",
          "name": "stdout",
          "text": [
            "{'HORIZON': 5, 'N_NEURONS': 512, 'N_STACKS': 40, 'WINDOW_SIZE': 38}\n"
          ]
        },
        {
          "output_type": "stream",
          "name": "stderr",
          "text": [
            "\u001b[32m[I 2022-05-03 18:39:37,678]\u001b[0m A new study created in RDB with name: model_38\u001b[0m\n",
            "\u001b[32m[I 2022-05-03 18:40:01,962]\u001b[0m Trial 0 finished with value: 11.016071319580078 and parameters: {'WINDOW_SIZE': 14, 'HORIZON': 3, 'N_NEURONS': 1024, 'N_STACKS': 30}. Best is trial 0 with value: 11.016071319580078.\u001b[0m\n",
            "\u001b[32m[I 2022-05-03 18:40:09,772]\u001b[0m Trial 1 finished with value: 9.451454162597656 and parameters: {'WINDOW_SIZE': 23, 'HORIZON': 4, 'N_NEURONS': 512, 'N_STACKS': 10}. Best is trial 1 with value: 9.451454162597656.\u001b[0m\n",
            "\u001b[32m[I 2022-05-03 18:40:42,674]\u001b[0m Trial 2 finished with value: 11.250704765319824 and parameters: {'WINDOW_SIZE': 32, 'HORIZON': 5, 'N_NEURONS': 1024, 'N_STACKS': 30}. Best is trial 1 with value: 9.451454162597656.\u001b[0m\n",
            "\u001b[32m[I 2022-05-03 18:40:51,919]\u001b[0m Trial 3 finished with value: 11.09083366394043 and parameters: {'WINDOW_SIZE': 38, 'HORIZON': 5, 'N_NEURONS': 512, 'N_STACKS': 10}. Best is trial 1 with value: 9.451454162597656.\u001b[0m\n",
            "\u001b[32m[I 2022-05-03 18:40:59,472]\u001b[0m Trial 4 finished with value: 9.488354682922363 and parameters: {'WINDOW_SIZE': 20, 'HORIZON': 4, 'N_NEURONS': 128, 'N_STACKS': 10}. Best is trial 1 with value: 9.451454162597656.\u001b[0m\n",
            "\u001b[32m[I 2022-05-03 18:41:21,187]\u001b[0m Trial 5 finished with value: 11.69854736328125 and parameters: {'WINDOW_SIZE': 14, 'HORIZON': 5, 'N_NEURONS': 128, 'N_STACKS': 40}. Best is trial 1 with value: 9.451454162597656.\u001b[0m\n",
            "\u001b[32m[I 2022-05-03 18:41:58,311]\u001b[0m Trial 6 finished with value: 11.83023452758789 and parameters: {'WINDOW_SIZE': 11, 'HORIZON': 4, 'N_NEURONS': 1024, 'N_STACKS': 40}. Best is trial 1 with value: 9.451454162597656.\u001b[0m\n",
            "\u001b[32m[I 2022-05-03 18:42:10,081]\u001b[0m Trial 7 finished with value: 11.811657905578613 and parameters: {'WINDOW_SIZE': 17, 'HORIZON': 4, 'N_NEURONS': 128, 'N_STACKS': 20}. Best is trial 1 with value: 9.451454162597656.\u001b[0m\n",
            "\u001b[32m[I 2022-05-03 18:42:37,493]\u001b[0m Trial 8 finished with value: 257.1433410644531 and parameters: {'WINDOW_SIZE': 8, 'HORIZON': 1, 'N_NEURONS': 1024, 'N_STACKS': 20}. Best is trial 1 with value: 9.451454162597656.\u001b[0m\n",
            "\u001b[32m[I 2022-05-03 18:43:05,497]\u001b[0m Trial 9 finished with value: 11.054760932922363 and parameters: {'WINDOW_SIZE': 11, 'HORIZON': 5, 'N_NEURONS': 256, 'N_STACKS': 40}. Best is trial 1 with value: 9.451454162597656.\u001b[0m\n"
          ]
        },
        {
          "output_type": "stream",
          "name": "stdout",
          "text": [
            "{'HORIZON': 4, 'N_NEURONS': 512, 'N_STACKS': 10, 'WINDOW_SIZE': 23}\n"
          ]
        },
        {
          "output_type": "stream",
          "name": "stderr",
          "text": [
            "\u001b[32m[I 2022-05-03 18:43:06,759]\u001b[0m A new study created in RDB with name: model_39\u001b[0m\n",
            "\u001b[32m[I 2022-05-03 18:43:30,906]\u001b[0m Trial 0 finished with value: 0.7534631490707397 and parameters: {'WINDOW_SIZE': 8, 'HORIZON': 1, 'N_NEURONS': 128, 'N_STACKS': 20}. Best is trial 0 with value: 0.7534631490707397.\u001b[0m\n",
            "\u001b[32m[I 2022-05-03 18:44:24,621]\u001b[0m Trial 1 finished with value: 0.7370370030403137 and parameters: {'WINDOW_SIZE': 8, 'HORIZON': 3, 'N_NEURONS': 512, 'N_STACKS': 20}. Best is trial 1 with value: 0.7370370030403137.\u001b[0m\n",
            "\u001b[32m[I 2022-05-03 18:44:39,582]\u001b[0m Trial 2 finished with value: 0.7184251546859741 and parameters: {'WINDOW_SIZE': 20, 'HORIZON': 3, 'N_NEURONS': 256, 'N_STACKS': 20}. Best is trial 2 with value: 0.7184251546859741.\u001b[0m\n",
            "\u001b[32m[I 2022-05-03 18:44:57,636]\u001b[0m Trial 3 finished with value: 0.6937121748924255 and parameters: {'WINDOW_SIZE': 32, 'HORIZON': 5, 'N_NEURONS': 512, 'N_STACKS': 20}. Best is trial 3 with value: 0.6937121748924255.\u001b[0m\n",
            "\u001b[32m[I 2022-05-03 18:45:08,256]\u001b[0m Trial 4 finished with value: 0.7265300750732422 and parameters: {'WINDOW_SIZE': 29, 'HORIZON': 1, 'N_NEURONS': 256, 'N_STACKS': 20}. Best is trial 3 with value: 0.6937121748924255.\u001b[0m\n",
            "\u001b[32m[I 2022-05-03 18:45:19,939]\u001b[0m Trial 5 finished with value: 0.7330728769302368 and parameters: {'WINDOW_SIZE': 17, 'HORIZON': 1, 'N_NEURONS': 256, 'N_STACKS': 20}. Best is trial 3 with value: 0.6937121748924255.\u001b[0m\n",
            "\u001b[32m[I 2022-05-03 18:45:26,565]\u001b[0m Trial 6 finished with value: 0.6722416877746582 and parameters: {'WINDOW_SIZE': 35, 'HORIZON': 2, 'N_NEURONS': 256, 'N_STACKS': 10}. Best is trial 6 with value: 0.6722416877746582.\u001b[0m\n",
            "\u001b[32m[I 2022-05-03 18:45:33,874]\u001b[0m Trial 7 finished with value: 0.6737157702445984 and parameters: {'WINDOW_SIZE': 38, 'HORIZON': 2, 'N_NEURONS': 512, 'N_STACKS': 10}. Best is trial 6 with value: 0.6722416877746582.\u001b[0m\n",
            "\u001b[32m[I 2022-05-03 18:46:07,137]\u001b[0m Trial 8 finished with value: 0.7551670074462891 and parameters: {'WINDOW_SIZE': 8, 'HORIZON': 3, 'N_NEURONS': 1024, 'N_STACKS': 30}. Best is trial 6 with value: 0.6722416877746582.\u001b[0m\n",
            "\u001b[32m[I 2022-05-03 18:46:17,365]\u001b[0m Trial 9 finished with value: 0.7097989320755005 and parameters: {'WINDOW_SIZE': 26, 'HORIZON': 3, 'N_NEURONS': 128, 'N_STACKS': 10}. Best is trial 6 with value: 0.6722416877746582.\u001b[0m\n"
          ]
        },
        {
          "output_type": "stream",
          "name": "stdout",
          "text": [
            "{'HORIZON': 2, 'N_NEURONS': 256, 'N_STACKS': 10, 'WINDOW_SIZE': 35}\n"
          ]
        },
        {
          "output_type": "stream",
          "name": "stderr",
          "text": [
            "\u001b[32m[I 2022-05-03 18:46:18,463]\u001b[0m A new study created in RDB with name: model_40\u001b[0m\n",
            "\u001b[32m[I 2022-05-03 18:46:30,022]\u001b[0m Trial 0 finished with value: 0.026254937052726746 and parameters: {'WINDOW_SIZE': 14, 'HORIZON': 1, 'N_NEURONS': 256, 'N_STACKS': 10}. Best is trial 0 with value: 0.026254937052726746.\u001b[0m\n",
            "\u001b[32m[I 2022-05-03 18:47:18,879]\u001b[0m Trial 1 finished with value: 0.015133592300117016 and parameters: {'WINDOW_SIZE': 29, 'HORIZON': 2, 'N_NEURONS': 512, 'N_STACKS': 40}. Best is trial 1 with value: 0.015133592300117016.\u001b[0m\n",
            "\u001b[32m[I 2022-05-03 18:47:32,141]\u001b[0m Trial 2 finished with value: 0.023908264935016632 and parameters: {'WINDOW_SIZE': 38, 'HORIZON': 4, 'N_NEURONS': 512, 'N_STACKS': 10}. Best is trial 1 with value: 0.015133592300117016.\u001b[0m\n",
            "\u001b[32m[I 2022-05-03 18:47:56,901]\u001b[0m Trial 3 finished with value: 0.023991508409380913 and parameters: {'WINDOW_SIZE': 29, 'HORIZON': 4, 'N_NEURONS': 256, 'N_STACKS': 30}. Best is trial 1 with value: 0.015133592300117016.\u001b[0m\n",
            "\u001b[32m[I 2022-05-03 18:48:07,377]\u001b[0m Trial 4 finished with value: 0.024642162024974823 and parameters: {'WINDOW_SIZE': 8, 'HORIZON': 2, 'N_NEURONS': 512, 'N_STACKS': 10}. Best is trial 1 with value: 0.015133592300117016.\u001b[0m\n",
            "\u001b[32m[I 2022-05-03 18:48:55,625]\u001b[0m Trial 5 finished with value: 0.025416767224669456 and parameters: {'WINDOW_SIZE': 17, 'HORIZON': 1, 'N_NEURONS': 1024, 'N_STACKS': 40}. Best is trial 1 with value: 0.015133592300117016.\u001b[0m\n",
            "\u001b[32m[I 2022-05-03 18:49:25,307]\u001b[0m Trial 6 finished with value: 0.025029581040143967 and parameters: {'WINDOW_SIZE': 38, 'HORIZON': 4, 'N_NEURONS': 512, 'N_STACKS': 30}. Best is trial 1 with value: 0.015133592300117016.\u001b[0m\n",
            "\u001b[32m[I 2022-05-03 18:49:38,341]\u001b[0m Trial 7 finished with value: 0.025052521377801895 and parameters: {'WINDOW_SIZE': 17, 'HORIZON': 1, 'N_NEURONS': 1024, 'N_STACKS': 10}. Best is trial 1 with value: 0.015133592300117016.\u001b[0m\n",
            "\u001b[32m[I 2022-05-03 18:50:11,775]\u001b[0m Trial 8 finished with value: 0.020278166979551315 and parameters: {'WINDOW_SIZE': 26, 'HORIZON': 5, 'N_NEURONS': 256, 'N_STACKS': 40}. Best is trial 1 with value: 0.015133592300117016.\u001b[0m\n",
            "\u001b[32m[I 2022-05-03 18:50:23,005]\u001b[0m Trial 9 finished with value: 0.0258852057158947 and parameters: {'WINDOW_SIZE': 20, 'HORIZON': 4, 'N_NEURONS': 512, 'N_STACKS': 10}. Best is trial 1 with value: 0.015133592300117016.\u001b[0m\n"
          ]
        },
        {
          "output_type": "stream",
          "name": "stdout",
          "text": [
            "{'HORIZON': 2, 'N_NEURONS': 512, 'N_STACKS': 40, 'WINDOW_SIZE': 29}\n"
          ]
        },
        {
          "output_type": "stream",
          "name": "stderr",
          "text": [
            "\u001b[32m[I 2022-05-03 18:50:24,061]\u001b[0m A new study created in RDB with name: model_41\u001b[0m\n",
            "\u001b[32m[I 2022-05-03 18:51:03,834]\u001b[0m Trial 0 finished with value: 0.27462369203567505 and parameters: {'WINDOW_SIZE': 23, 'HORIZON': 2, 'N_NEURONS': 128, 'N_STACKS': 30}. Best is trial 0 with value: 0.27462369203567505.\u001b[0m\n",
            "\u001b[32m[I 2022-05-03 18:51:30,860]\u001b[0m Trial 1 finished with value: 0.2711764872074127 and parameters: {'WINDOW_SIZE': 35, 'HORIZON': 1, 'N_NEURONS': 256, 'N_STACKS': 40}. Best is trial 1 with value: 0.2711764872074127.\u001b[0m\n",
            "\u001b[32m[I 2022-05-03 18:51:53,583]\u001b[0m Trial 2 finished with value: 0.28414323925971985 and parameters: {'WINDOW_SIZE': 8, 'HORIZON': 4, 'N_NEURONS': 256, 'N_STACKS': 30}. Best is trial 1 with value: 0.2711764872074127.\u001b[0m\n",
            "\u001b[32m[I 2022-05-03 18:52:07,332]\u001b[0m Trial 3 finished with value: 0.28430506587028503 and parameters: {'WINDOW_SIZE': 5, 'HORIZON': 1, 'N_NEURONS': 512, 'N_STACKS': 20}. Best is trial 1 with value: 0.2711764872074127.\u001b[0m\n",
            "\u001b[32m[I 2022-05-03 18:52:44,567]\u001b[0m Trial 4 finished with value: 0.2775294780731201 and parameters: {'WINDOW_SIZE': 11, 'HORIZON': 2, 'N_NEURONS': 256, 'N_STACKS': 40}. Best is trial 1 with value: 0.2711764872074127.\u001b[0m\n",
            "\u001b[32m[I 2022-05-03 18:53:23,908]\u001b[0m Trial 5 finished with value: 0.29138824343681335 and parameters: {'WINDOW_SIZE': 11, 'HORIZON': 5, 'N_NEURONS': 128, 'N_STACKS': 40}. Best is trial 1 with value: 0.2711764872074127.\u001b[0m\n",
            "\u001b[32m[I 2022-05-03 18:53:37,924]\u001b[0m Trial 6 finished with value: 0.2740902602672577 and parameters: {'WINDOW_SIZE': 35, 'HORIZON': 5, 'N_NEURONS': 256, 'N_STACKS': 20}. Best is trial 1 with value: 0.2711764872074127.\u001b[0m\n",
            "\u001b[32m[I 2022-05-03 18:54:15,469]\u001b[0m Trial 7 finished with value: 0.27605533599853516 and parameters: {'WINDOW_SIZE': 32, 'HORIZON': 3, 'N_NEURONS': 256, 'N_STACKS': 40}. Best is trial 1 with value: 0.2711764872074127.\u001b[0m\n",
            "\u001b[32m[I 2022-05-03 18:54:42,428]\u001b[0m Trial 8 finished with value: 0.2675771117210388 and parameters: {'WINDOW_SIZE': 29, 'HORIZON': 3, 'N_NEURONS': 1024, 'N_STACKS': 20}. Best is trial 8 with value: 0.2675771117210388.\u001b[0m\n",
            "\u001b[32m[I 2022-05-03 18:55:24,504]\u001b[0m Trial 9 finished with value: 0.2718762755393982 and parameters: {'WINDOW_SIZE': 23, 'HORIZON': 2, 'N_NEURONS': 1024, 'N_STACKS': 40}. Best is trial 8 with value: 0.2675771117210388.\u001b[0m\n"
          ]
        },
        {
          "output_type": "stream",
          "name": "stdout",
          "text": [
            "{'HORIZON': 3, 'N_NEURONS': 1024, 'N_STACKS': 20, 'WINDOW_SIZE': 29}\n"
          ]
        },
        {
          "output_type": "stream",
          "name": "stderr",
          "text": [
            "\u001b[32m[I 2022-05-03 18:55:25,798]\u001b[0m A new study created in RDB with name: model_42\u001b[0m\n",
            "\u001b[32m[I 2022-05-03 18:57:05,415]\u001b[0m Trial 0 finished with value: 0.16151131689548492 and parameters: {'WINDOW_SIZE': 17, 'HORIZON': 3, 'N_NEURONS': 1024, 'N_STACKS': 30}. Best is trial 0 with value: 0.16151131689548492.\u001b[0m\n",
            "\u001b[32m[I 2022-05-03 18:57:41,826]\u001b[0m Trial 1 finished with value: 0.4531794488430023 and parameters: {'WINDOW_SIZE': 8, 'HORIZON': 1, 'N_NEURONS': 128, 'N_STACKS': 30}. Best is trial 0 with value: 0.16151131689548492.\u001b[0m\n",
            "\u001b[32m[I 2022-05-03 18:58:10,179]\u001b[0m Trial 2 finished with value: 0.4101819396018982 and parameters: {'WINDOW_SIZE': 35, 'HORIZON': 1, 'N_NEURONS': 128, 'N_STACKS': 40}. Best is trial 0 with value: 0.16151131689548492.\u001b[0m\n",
            "\u001b[32m[I 2022-05-03 18:59:01,455]\u001b[0m Trial 3 finished with value: 0.1557539850473404 and parameters: {'WINDOW_SIZE': 23, 'HORIZON': 5, 'N_NEURONS': 512, 'N_STACKS': 40}. Best is trial 3 with value: 0.1557539850473404.\u001b[0m\n",
            "\u001b[32m[I 2022-05-03 18:59:10,293]\u001b[0m Trial 4 finished with value: 0.4357530474662781 and parameters: {'WINDOW_SIZE': 11, 'HORIZON': 1, 'N_NEURONS': 128, 'N_STACKS': 10}. Best is trial 3 with value: 0.1557539850473404.\u001b[0m\n",
            "\u001b[32m[I 2022-05-03 19:00:34,504]\u001b[0m Trial 5 finished with value: 0.1441473364830017 and parameters: {'WINDOW_SIZE': 29, 'HORIZON': 5, 'N_NEURONS': 512, 'N_STACKS': 40}. Best is trial 5 with value: 0.1441473364830017.\u001b[0m\n",
            "\u001b[32m[I 2022-05-03 19:01:07,117]\u001b[0m Trial 6 finished with value: 0.16488420963287354 and parameters: {'WINDOW_SIZE': 11, 'HORIZON': 2, 'N_NEURONS': 256, 'N_STACKS': 20}. Best is trial 5 with value: 0.1441473364830017.\u001b[0m\n",
            "\u001b[32m[I 2022-05-03 19:01:13,996]\u001b[0m Trial 7 finished with value: 0.32038968801498413 and parameters: {'WINDOW_SIZE': 17, 'HORIZON': 3, 'N_NEURONS': 128, 'N_STACKS': 10}. Best is trial 5 with value: 0.1441473364830017.\u001b[0m\n",
            "\u001b[32m[I 2022-05-03 19:02:00,215]\u001b[0m Trial 8 finished with value: 0.1958538293838501 and parameters: {'WINDOW_SIZE': 17, 'HORIZON': 4, 'N_NEURONS': 1024, 'N_STACKS': 10}. Best is trial 5 with value: 0.1441473364830017.\u001b[0m\n",
            "\u001b[32m[I 2022-05-03 19:02:48,880]\u001b[0m Trial 9 finished with value: 0.19812095165252686 and parameters: {'WINDOW_SIZE': 29, 'HORIZON': 5, 'N_NEURONS': 1024, 'N_STACKS': 30}. Best is trial 5 with value: 0.1441473364830017.\u001b[0m\n"
          ]
        },
        {
          "output_type": "stream",
          "name": "stdout",
          "text": [
            "{'HORIZON': 5, 'N_NEURONS': 512, 'N_STACKS': 40, 'WINDOW_SIZE': 29}\n"
          ]
        },
        {
          "output_type": "stream",
          "name": "stderr",
          "text": [
            "\u001b[32m[I 2022-05-03 19:02:50,139]\u001b[0m A new study created in RDB with name: model_43\u001b[0m\n",
            "\u001b[32m[I 2022-05-03 19:03:40,232]\u001b[0m Trial 0 finished with value: 425.3958435058594 and parameters: {'WINDOW_SIZE': 32, 'HORIZON': 1, 'N_NEURONS': 1024, 'N_STACKS': 40}. Best is trial 0 with value: 425.3958435058594.\u001b[0m\n",
            "\u001b[32m[I 2022-05-03 19:04:07,103]\u001b[0m Trial 1 finished with value: 422.6060791015625 and parameters: {'WINDOW_SIZE': 11, 'HORIZON': 1, 'N_NEURONS': 512, 'N_STACKS': 40}. Best is trial 1 with value: 422.6060791015625.\u001b[0m\n",
            "\u001b[32m[I 2022-05-03 19:04:35,014]\u001b[0m Trial 2 finished with value: 16.22391128540039 and parameters: {'WINDOW_SIZE': 5, 'HORIZON': 2, 'N_NEURONS': 512, 'N_STACKS': 40}. Best is trial 2 with value: 16.22391128540039.\u001b[0m\n",
            "\u001b[32m[I 2022-05-03 19:05:19,692]\u001b[0m Trial 3 finished with value: 10.93425464630127 and parameters: {'WINDOW_SIZE': 23, 'HORIZON': 2, 'N_NEURONS': 1024, 'N_STACKS': 40}. Best is trial 3 with value: 10.93425464630127.\u001b[0m\n",
            "\u001b[32m[I 2022-05-03 19:05:30,567]\u001b[0m Trial 4 finished with value: 12.268362998962402 and parameters: {'WINDOW_SIZE': 11, 'HORIZON': 2, 'N_NEURONS': 1024, 'N_STACKS': 10}. Best is trial 3 with value: 10.93425464630127.\u001b[0m\n",
            "\u001b[32m[I 2022-05-03 19:05:43,868]\u001b[0m Trial 5 finished with value: 428.2545166015625 and parameters: {'WINDOW_SIZE': 38, 'HORIZON': 1, 'N_NEURONS': 512, 'N_STACKS': 20}. Best is trial 3 with value: 10.93425464630127.\u001b[0m\n",
            "\u001b[32m[I 2022-05-03 19:06:22,224]\u001b[0m Trial 6 finished with value: 422.8116149902344 and parameters: {'WINDOW_SIZE': 23, 'HORIZON': 1, 'N_NEURONS': 1024, 'N_STACKS': 30}. Best is trial 3 with value: 10.93425464630127.\u001b[0m\n",
            "\u001b[32m[I 2022-05-03 19:06:35,891]\u001b[0m Trial 7 finished with value: 424.1395263671875 and parameters: {'WINDOW_SIZE': 11, 'HORIZON': 1, 'N_NEURONS': 256, 'N_STACKS': 20}. Best is trial 3 with value: 10.93425464630127.\u001b[0m\n",
            "\u001b[32m[I 2022-05-03 19:06:43,695]\u001b[0m Trial 8 finished with value: 14.0098237991333 and parameters: {'WINDOW_SIZE': 20, 'HORIZON': 4, 'N_NEURONS': 128, 'N_STACKS': 10}. Best is trial 3 with value: 10.93425464630127.\u001b[0m\n",
            "\u001b[32m[I 2022-05-03 19:06:56,857]\u001b[0m Trial 9 finished with value: 14.154108047485352 and parameters: {'WINDOW_SIZE': 11, 'HORIZON': 2, 'N_NEURONS': 256, 'N_STACKS': 20}. Best is trial 3 with value: 10.93425464630127.\u001b[0m\n"
          ]
        },
        {
          "output_type": "stream",
          "name": "stdout",
          "text": [
            "{'HORIZON': 2, 'N_NEURONS': 1024, 'N_STACKS': 40, 'WINDOW_SIZE': 23}\n"
          ]
        },
        {
          "output_type": "stream",
          "name": "stderr",
          "text": [
            "\u001b[32m[I 2022-05-03 19:06:58,004]\u001b[0m A new study created in RDB with name: model_44\u001b[0m\n",
            "\u001b[32m[I 2022-05-03 19:07:40,350]\u001b[0m Trial 0 finished with value: 2913736.25 and parameters: {'WINDOW_SIZE': 38, 'HORIZON': 1, 'N_NEURONS': 1024, 'N_STACKS': 40}. Best is trial 0 with value: 2913736.25.\u001b[0m\n",
            "\u001b[32m[I 2022-05-03 19:10:50,496]\u001b[0m Trial 1 finished with value: 367847.9375 and parameters: {'WINDOW_SIZE': 14, 'HORIZON': 5, 'N_NEURONS': 1024, 'N_STACKS': 30}. Best is trial 1 with value: 367847.9375.\u001b[0m\n",
            "\u001b[32m[I 2022-05-03 19:11:04,989]\u001b[0m Trial 2 finished with value: 378326.875 and parameters: {'WINDOW_SIZE': 17, 'HORIZON': 5, 'N_NEURONS': 256, 'N_STACKS': 10}. Best is trial 1 with value: 367847.9375.\u001b[0m\n",
            "\u001b[32m[I 2022-05-03 19:11:31,291]\u001b[0m Trial 3 finished with value: 4779.81689453125 and parameters: {'WINDOW_SIZE': 8, 'HORIZON': 4, 'N_NEURONS': 1024, 'N_STACKS': 10}. Best is trial 3 with value: 4779.81689453125.\u001b[0m\n",
            "\u001b[32m[I 2022-05-03 19:12:15,321]\u001b[0m Trial 4 finished with value: 57035.53515625 and parameters: {'WINDOW_SIZE': 32, 'HORIZON': 3, 'N_NEURONS': 512, 'N_STACKS': 20}. Best is trial 3 with value: 4779.81689453125.\u001b[0m\n",
            "\u001b[32m[I 2022-05-03 19:12:38,470]\u001b[0m Trial 5 finished with value: 323710.03125 and parameters: {'WINDOW_SIZE': 8, 'HORIZON': 3, 'N_NEURONS': 128, 'N_STACKS': 20}. Best is trial 3 with value: 4779.81689453125.\u001b[0m\n",
            "\u001b[32m[I 2022-05-03 19:12:56,983]\u001b[0m Trial 6 finished with value: 934887.9375 and parameters: {'WINDOW_SIZE': 38, 'HORIZON': 3, 'N_NEURONS': 512, 'N_STACKS': 20}. Best is trial 3 with value: 4779.81689453125.\u001b[0m\n",
            "\u001b[32m[I 2022-05-03 19:13:05,710]\u001b[0m Trial 7 finished with value: 949872.1875 and parameters: {'WINDOW_SIZE': 29, 'HORIZON': 2, 'N_NEURONS': 256, 'N_STACKS': 10}. Best is trial 3 with value: 4779.81689453125.\u001b[0m\n",
            "\u001b[32m[I 2022-05-03 19:13:47,257]\u001b[0m Trial 8 finished with value: 1058276.125 and parameters: {'WINDOW_SIZE': 32, 'HORIZON': 5, 'N_NEURONS': 1024, 'N_STACKS': 30}. Best is trial 3 with value: 4779.81689453125.\u001b[0m\n",
            "\u001b[32m[I 2022-05-03 19:14:16,358]\u001b[0m Trial 9 finished with value: 1920961.75 and parameters: {'WINDOW_SIZE': 32, 'HORIZON': 5, 'N_NEURONS': 256, 'N_STACKS': 30}. Best is trial 3 with value: 4779.81689453125.\u001b[0m\n"
          ]
        },
        {
          "output_type": "stream",
          "name": "stdout",
          "text": [
            "{'HORIZON': 4, 'N_NEURONS': 1024, 'N_STACKS': 10, 'WINDOW_SIZE': 8}\n"
          ]
        },
        {
          "output_type": "stream",
          "name": "stderr",
          "text": [
            "\u001b[32m[I 2022-05-03 19:14:17,590]\u001b[0m A new study created in RDB with name: model_45\u001b[0m\n",
            "\u001b[32m[I 2022-05-03 19:14:45,638]\u001b[0m Trial 0 finished with value: 0.054880283772945404 and parameters: {'WINDOW_SIZE': 29, 'HORIZON': 2, 'N_NEURONS': 256, 'N_STACKS': 40}. Best is trial 0 with value: 0.054880283772945404.\u001b[0m\n",
            "\u001b[32m[I 2022-05-03 19:14:54,722]\u001b[0m Trial 1 finished with value: 0.043262653052806854 and parameters: {'WINDOW_SIZE': 35, 'HORIZON': 2, 'N_NEURONS': 256, 'N_STACKS': 10}. Best is trial 1 with value: 0.043262653052806854.\u001b[0m\n",
            "\u001b[32m[I 2022-05-03 19:15:11,378]\u001b[0m Trial 2 finished with value: 0.04323556274175644 and parameters: {'WINDOW_SIZE': 23, 'HORIZON': 4, 'N_NEURONS': 512, 'N_STACKS': 20}. Best is trial 2 with value: 0.04323556274175644.\u001b[0m\n",
            "\u001b[32m[I 2022-05-03 19:15:20,782]\u001b[0m Trial 3 finished with value: 0.04641638696193695 and parameters: {'WINDOW_SIZE': 23, 'HORIZON': 5, 'N_NEURONS': 128, 'N_STACKS': 10}. Best is trial 2 with value: 0.04323556274175644.\u001b[0m\n",
            "\u001b[32m[I 2022-05-03 19:15:34,133]\u001b[0m Trial 4 finished with value: 0.04219290241599083 and parameters: {'WINDOW_SIZE': 23, 'HORIZON': 4, 'N_NEURONS': 1024, 'N_STACKS': 10}. Best is trial 4 with value: 0.04219290241599083.\u001b[0m\n",
            "\u001b[32m[I 2022-05-03 19:15:57,436]\u001b[0m Trial 5 finished with value: 0.05333109200000763 and parameters: {'WINDOW_SIZE': 23, 'HORIZON': 5, 'N_NEURONS': 128, 'N_STACKS': 30}. Best is trial 4 with value: 0.04219290241599083.\u001b[0m\n",
            "\u001b[32m[I 2022-05-03 19:16:38,967]\u001b[0m Trial 6 finished with value: 0.04888879135251045 and parameters: {'WINDOW_SIZE': 17, 'HORIZON': 3, 'N_NEURONS': 1024, 'N_STACKS': 40}. Best is trial 4 with value: 0.04219290241599083.\u001b[0m\n",
            "\u001b[32m[I 2022-05-03 19:17:07,273]\u001b[0m Trial 7 finished with value: 0.05036778748035431 and parameters: {'WINDOW_SIZE': 29, 'HORIZON': 3, 'N_NEURONS': 256, 'N_STACKS': 40}. Best is trial 4 with value: 0.04219290241599083.\u001b[0m\n",
            "\u001b[32m[I 2022-05-03 19:17:30,323]\u001b[0m Trial 8 finished with value: 0.049521304666996 and parameters: {'WINDOW_SIZE': 32, 'HORIZON': 4, 'N_NEURONS': 256, 'N_STACKS': 30}. Best is trial 4 with value: 0.04219290241599083.\u001b[0m\n",
            "\u001b[32m[I 2022-05-03 19:17:43,843]\u001b[0m Trial 9 finished with value: 0.11450137943029404 and parameters: {'WINDOW_SIZE': 26, 'HORIZON': 1, 'N_NEURONS': 1024, 'N_STACKS': 20}. Best is trial 4 with value: 0.04219290241599083.\u001b[0m\n"
          ]
        },
        {
          "output_type": "stream",
          "name": "stdout",
          "text": [
            "{'HORIZON': 4, 'N_NEURONS': 1024, 'N_STACKS': 10, 'WINDOW_SIZE': 23}\n"
          ]
        },
        {
          "output_type": "stream",
          "name": "stderr",
          "text": [
            "\u001b[32m[I 2022-05-03 19:17:44,989]\u001b[0m A new study created in RDB with name: model_46\u001b[0m\n",
            "\u001b[32m[I 2022-05-03 19:18:05,719]\u001b[0m Trial 0 finished with value: 3.7089412212371826 and parameters: {'WINDOW_SIZE': 11, 'HORIZON': 4, 'N_NEURONS': 1024, 'N_STACKS': 20}. Best is trial 0 with value: 3.7089412212371826.\u001b[0m\n",
            "\u001b[32m[I 2022-05-03 19:18:23,143]\u001b[0m Trial 1 finished with value: 2.901660442352295 and parameters: {'WINDOW_SIZE': 38, 'HORIZON': 2, 'N_NEURONS': 256, 'N_STACKS': 30}. Best is trial 1 with value: 2.901660442352295.\u001b[0m\n",
            "\u001b[32m[I 2022-05-03 19:18:59,672]\u001b[0m Trial 2 finished with value: 2.653423309326172 and parameters: {'WINDOW_SIZE': 23, 'HORIZON': 2, 'N_NEURONS': 1024, 'N_STACKS': 40}. Best is trial 2 with value: 2.653423309326172.\u001b[0m\n",
            "\u001b[32m[I 2022-05-03 19:19:13,509]\u001b[0m Trial 3 finished with value: 2.5468485355377197 and parameters: {'WINDOW_SIZE': 32, 'HORIZON': 2, 'N_NEURONS': 512, 'N_STACKS': 20}. Best is trial 3 with value: 2.5468485355377197.\u001b[0m\n",
            "\u001b[32m[I 2022-05-03 19:19:21,709]\u001b[0m Trial 4 finished with value: 2.875869035720825 and parameters: {'WINDOW_SIZE': 20, 'HORIZON': 2, 'N_NEURONS': 512, 'N_STACKS': 10}. Best is trial 3 with value: 2.5468485355377197.\u001b[0m\n",
            "\u001b[32m[I 2022-05-03 19:19:28,072]\u001b[0m Trial 5 finished with value: 3.1963424682617188 and parameters: {'WINDOW_SIZE': 20, 'HORIZON': 3, 'N_NEURONS': 256, 'N_STACKS': 10}. Best is trial 3 with value: 2.5468485355377197.\u001b[0m\n",
            "\u001b[32m[I 2022-05-03 19:19:34,780]\u001b[0m Trial 6 finished with value: 2.707839250564575 and parameters: {'WINDOW_SIZE': 26, 'HORIZON': 3, 'N_NEURONS': 256, 'N_STACKS': 10}. Best is trial 3 with value: 2.5468485355377197.\u001b[0m\n",
            "\u001b[32m[I 2022-05-03 19:19:56,338]\u001b[0m Trial 7 finished with value: 24.87030029296875 and parameters: {'WINDOW_SIZE': 38, 'HORIZON': 1, 'N_NEURONS': 128, 'N_STACKS': 40}. Best is trial 3 with value: 2.5468485355377197.\u001b[0m\n",
            "\u001b[32m[I 2022-05-03 19:20:26,158]\u001b[0m Trial 8 finished with value: 6.516463756561279 and parameters: {'WINDOW_SIZE': 5, 'HORIZON': 5, 'N_NEURONS': 1024, 'N_STACKS': 20}. Best is trial 3 with value: 2.5468485355377197.\u001b[0m\n",
            "\u001b[32m[I 2022-05-03 19:20:55,407]\u001b[0m Trial 9 finished with value: 5.31090784072876 and parameters: {'WINDOW_SIZE': 5, 'HORIZON': 3, 'N_NEURONS': 256, 'N_STACKS': 40}. Best is trial 3 with value: 2.5468485355377197.\u001b[0m\n"
          ]
        },
        {
          "output_type": "stream",
          "name": "stdout",
          "text": [
            "{'HORIZON': 2, 'N_NEURONS': 512, 'N_STACKS': 20, 'WINDOW_SIZE': 32}\n"
          ]
        },
        {
          "output_type": "stream",
          "name": "stderr",
          "text": [
            "\u001b[32m[I 2022-05-03 19:20:56,710]\u001b[0m A new study created in RDB with name: model_47\u001b[0m\n",
            "\u001b[32m[I 2022-05-03 19:21:15,954]\u001b[0m Trial 0 finished with value: 3.4709959030151367 and parameters: {'WINDOW_SIZE': 26, 'HORIZON': 3, 'N_NEURONS': 128, 'N_STACKS': 30}. Best is trial 0 with value: 3.4709959030151367.\u001b[0m\n",
            "\u001b[32m[I 2022-05-03 19:21:34,023]\u001b[0m Trial 1 finished with value: 3.283173084259033 and parameters: {'WINDOW_SIZE': 29, 'HORIZON': 3, 'N_NEURONS': 256, 'N_STACKS': 30}. Best is trial 1 with value: 3.283173084259033.\u001b[0m\n",
            "\u001b[32m[I 2022-05-03 19:21:46,934]\u001b[0m Trial 2 finished with value: 6.595535755157471 and parameters: {'WINDOW_SIZE': 5, 'HORIZON': 5, 'N_NEURONS': 256, 'N_STACKS': 10}. Best is trial 1 with value: 3.283173084259033.\u001b[0m\n",
            "\u001b[32m[I 2022-05-03 19:22:11,976]\u001b[0m Trial 3 finished with value: 3.4816763401031494 and parameters: {'WINDOW_SIZE': 17, 'HORIZON': 3, 'N_NEURONS': 128, 'N_STACKS': 40}. Best is trial 1 with value: 3.283173084259033.\u001b[0m\n",
            "\u001b[32m[I 2022-05-03 19:22:38,922]\u001b[0m Trial 4 finished with value: 3.414057731628418 and parameters: {'WINDOW_SIZE': 32, 'HORIZON': 4, 'N_NEURONS': 1024, 'N_STACKS': 30}. Best is trial 1 with value: 3.283173084259033.\u001b[0m\n",
            "\u001b[32m[I 2022-05-03 19:23:12,754]\u001b[0m Trial 5 finished with value: 3.9061763286590576 and parameters: {'WINDOW_SIZE': 11, 'HORIZON': 5, 'N_NEURONS': 256, 'N_STACKS': 40}. Best is trial 1 with value: 3.283173084259033.\u001b[0m\n",
            "\u001b[32m[I 2022-05-03 19:23:42,331]\u001b[0m Trial 6 finished with value: 3.265436887741089 and parameters: {'WINDOW_SIZE': 14, 'HORIZON': 4, 'N_NEURONS': 512, 'N_STACKS': 40}. Best is trial 6 with value: 3.265436887741089.\u001b[0m\n",
            "\u001b[32m[I 2022-05-03 19:24:04,714]\u001b[0m Trial 7 finished with value: 3.026813268661499 and parameters: {'WINDOW_SIZE': 17, 'HORIZON': 4, 'N_NEURONS': 1024, 'N_STACKS': 20}. Best is trial 7 with value: 3.026813268661499.\u001b[0m\n",
            "\u001b[32m[I 2022-05-03 19:24:30,153]\u001b[0m Trial 8 finished with value: 5.125941753387451 and parameters: {'WINDOW_SIZE': 8, 'HORIZON': 4, 'N_NEURONS': 512, 'N_STACKS': 20}. Best is trial 7 with value: 3.026813268661499.\u001b[0m\n",
            "\u001b[32m[I 2022-05-03 19:24:57,648]\u001b[0m Trial 9 finished with value: 3.378535509109497 and parameters: {'WINDOW_SIZE': 32, 'HORIZON': 5, 'N_NEURONS': 512, 'N_STACKS': 40}. Best is trial 7 with value: 3.026813268661499.\u001b[0m\n"
          ]
        },
        {
          "output_type": "stream",
          "name": "stdout",
          "text": [
            "{'HORIZON': 4, 'N_NEURONS': 1024, 'N_STACKS': 20, 'WINDOW_SIZE': 17}\n"
          ]
        },
        {
          "output_type": "stream",
          "name": "stderr",
          "text": [
            "\u001b[32m[I 2022-05-03 19:24:58,991]\u001b[0m A new study created in RDB with name: model_48\u001b[0m\n",
            "\u001b[32m[I 2022-05-03 19:25:05,946]\u001b[0m Trial 0 finished with value: 10.76737117767334 and parameters: {'WINDOW_SIZE': 8, 'HORIZON': 4, 'N_NEURONS': 256, 'N_STACKS': 10}. Best is trial 0 with value: 10.76737117767334.\u001b[0m\n",
            "\u001b[32m[I 2022-05-03 19:25:18,689]\u001b[0m Trial 1 finished with value: 8.798286437988281 and parameters: {'WINDOW_SIZE': 26, 'HORIZON': 5, 'N_NEURONS': 256, 'N_STACKS': 20}. Best is trial 1 with value: 8.798286437988281.\u001b[0m\n",
            "\u001b[32m[I 2022-05-03 19:26:03,506]\u001b[0m Trial 2 finished with value: 7.3372063636779785 and parameters: {'WINDOW_SIZE': 26, 'HORIZON': 4, 'N_NEURONS': 1024, 'N_STACKS': 40}. Best is trial 2 with value: 7.3372063636779785.\u001b[0m\n",
            "\u001b[32m[I 2022-05-03 19:26:23,010]\u001b[0m Trial 3 finished with value: 7.70209264755249 and parameters: {'WINDOW_SIZE': 29, 'HORIZON': 3, 'N_NEURONS': 512, 'N_STACKS': 30}. Best is trial 2 with value: 7.3372063636779785.\u001b[0m\n",
            "\u001b[32m[I 2022-05-03 19:26:45,428]\u001b[0m Trial 4 finished with value: 8.243721008300781 and parameters: {'WINDOW_SIZE': 38, 'HORIZON': 5, 'N_NEURONS': 1024, 'N_STACKS': 20}. Best is trial 2 with value: 7.3372063636779785.\u001b[0m\n",
            "\u001b[32m[I 2022-05-03 19:27:07,690]\u001b[0m Trial 5 finished with value: 10.849380493164062 and parameters: {'WINDOW_SIZE': 5, 'HORIZON': 3, 'N_NEURONS': 256, 'N_STACKS': 30}. Best is trial 2 with value: 7.3372063636779785.\u001b[0m\n",
            "\u001b[32m[I 2022-05-03 19:27:20,359]\u001b[0m Trial 6 finished with value: 9.042031288146973 and parameters: {'WINDOW_SIZE': 38, 'HORIZON': 4, 'N_NEURONS': 128, 'N_STACKS': 20}. Best is trial 2 with value: 7.3372063636779785.\u001b[0m\n",
            "\u001b[32m[I 2022-05-03 19:27:49,442]\u001b[0m Trial 7 finished with value: 7.015315055847168 and parameters: {'WINDOW_SIZE': 26, 'HORIZON': 2, 'N_NEURONS': 512, 'N_STACKS': 40}. Best is trial 7 with value: 7.015315055847168.\u001b[0m\n",
            "\u001b[32m[I 2022-05-03 19:28:02,587]\u001b[0m Trial 8 finished with value: 7.659597396850586 and parameters: {'WINDOW_SIZE': 35, 'HORIZON': 2, 'N_NEURONS': 128, 'N_STACKS': 20}. Best is trial 7 with value: 7.015315055847168.\u001b[0m\n",
            "\u001b[32m[I 2022-05-03 19:28:35,598]\u001b[0m Trial 9 finished with value: 7.989812850952148 and parameters: {'WINDOW_SIZE': 11, 'HORIZON': 2, 'N_NEURONS': 1024, 'N_STACKS': 30}. Best is trial 7 with value: 7.015315055847168.\u001b[0m\n"
          ]
        },
        {
          "output_type": "stream",
          "name": "stdout",
          "text": [
            "{'HORIZON': 2, 'N_NEURONS': 512, 'N_STACKS': 40, 'WINDOW_SIZE': 26}\n"
          ]
        },
        {
          "output_type": "stream",
          "name": "stderr",
          "text": [
            "\u001b[32m[I 2022-05-03 19:28:36,907]\u001b[0m A new study created in RDB with name: model_49\u001b[0m\n",
            "\u001b[32m[I 2022-05-03 19:29:05,778]\u001b[0m Trial 0 finished with value: 135920.8125 and parameters: {'WINDOW_SIZE': 20, 'HORIZON': 4, 'N_NEURONS': 128, 'N_STACKS': 10}. Best is trial 0 with value: 135920.8125.\u001b[0m\n",
            "\u001b[32m[I 2022-05-03 19:29:34,629]\u001b[0m Trial 1 finished with value: 114934.5234375 and parameters: {'WINDOW_SIZE': 8, 'HORIZON': 1, 'N_NEURONS': 128, 'N_STACKS': 30}. Best is trial 1 with value: 114934.5234375.\u001b[0m\n",
            "\u001b[32m[I 2022-05-03 19:29:51,422]\u001b[0m Trial 2 finished with value: 29216.60546875 and parameters: {'WINDOW_SIZE': 11, 'HORIZON': 5, 'N_NEURONS': 512, 'N_STACKS': 10}. Best is trial 2 with value: 29216.60546875.\u001b[0m\n",
            "\u001b[32m[I 2022-05-03 19:30:05,141]\u001b[0m Trial 3 finished with value: 5157.17236328125 and parameters: {'WINDOW_SIZE': 5, 'HORIZON': 4, 'N_NEURONS': 256, 'N_STACKS': 10}. Best is trial 3 with value: 5157.17236328125.\u001b[0m\n",
            "\u001b[32m[I 2022-05-03 19:30:18,772]\u001b[0m Trial 4 finished with value: 39644.44140625 and parameters: {'WINDOW_SIZE': 8, 'HORIZON': 4, 'N_NEURONS': 256, 'N_STACKS': 10}. Best is trial 3 with value: 5157.17236328125.\u001b[0m\n",
            "\u001b[32m[I 2022-05-03 19:31:03,371]\u001b[0m Trial 5 finished with value: 292005.28125 and parameters: {'WINDOW_SIZE': 26, 'HORIZON': 5, 'N_NEURONS': 1024, 'N_STACKS': 40}. Best is trial 3 with value: 5157.17236328125.\u001b[0m\n",
            "\u001b[32m[I 2022-05-03 19:32:09,577]\u001b[0m Trial 6 finished with value: 4834.1982421875 and parameters: {'WINDOW_SIZE': 17, 'HORIZON': 4, 'N_NEURONS': 512, 'N_STACKS': 20}. Best is trial 6 with value: 4834.1982421875.\u001b[0m\n",
            "\u001b[32m[I 2022-05-03 19:32:30,798]\u001b[0m Trial 7 finished with value: 647278.6875 and parameters: {'WINDOW_SIZE': 26, 'HORIZON': 5, 'N_NEURONS': 256, 'N_STACKS': 30}. Best is trial 6 with value: 4834.1982421875.\u001b[0m\n",
            "\u001b[32m[I 2022-05-03 19:32:58,604]\u001b[0m Trial 8 finished with value: 22170.54296875 and parameters: {'WINDOW_SIZE': 17, 'HORIZON': 5, 'N_NEURONS': 256, 'N_STACKS': 10}. Best is trial 6 with value: 4834.1982421875.\u001b[0m\n",
            "\u001b[32m[I 2022-05-03 19:33:11,241]\u001b[0m Trial 9 finished with value: 25244.12890625 and parameters: {'WINDOW_SIZE': 26, 'HORIZON': 1, 'N_NEURONS': 512, 'N_STACKS': 10}. Best is trial 6 with value: 4834.1982421875.\u001b[0m\n"
          ]
        },
        {
          "output_type": "stream",
          "name": "stdout",
          "text": [
            "{'HORIZON': 4, 'N_NEURONS': 512, 'N_STACKS': 20, 'WINDOW_SIZE': 17}\n"
          ]
        }
      ]
    },
    {
      "cell_type": "code",
      "source": [
        ""
      ],
      "metadata": {
        "id": "ZCT-wu8zRXmy"
      },
      "execution_count": 17,
      "outputs": []
    }
  ]
}